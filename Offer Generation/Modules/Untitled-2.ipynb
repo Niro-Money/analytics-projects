{
 "cells": [
  {
   "cell_type": "code",
   "execution_count": 1,
   "metadata": {},
   "outputs": [],
   "source": [
    "import pandas as pd\n",
    "from collections import Counter\n",
    "import numpy as np\n",
    "import warnings\n",
    "warnings.filterwarnings('ignore')"
   ]
  },
  {
   "cell_type": "code",
   "execution_count": 2,
   "metadata": {},
   "outputs": [
    {
     "name": "stdout",
     "output_type": "stream",
     "text": [
      "Index(['EnquiryControlNumber', 'MemberReference', 'EnquiryMemberID',\n",
      "       'EnquiryMemberShortname', 'DateProcessed', 'TimeProcessed', 'name',\n",
      "       'DateofBirth', 'gender', 'ID_Type', 'ID_Number', 'Telephone',\n",
      "       'Tel_Extn', 'Tel_Type', 'email_id', 'address', 'StateCode', 'PINCode',\n",
      "       'DateReported_address'],\n",
      "      dtype='object')\n"
     ]
    }
   ],
   "source": [
    "df = pd.read_csv(r\"C:\\Users\\T14s\\Desktop\\offers\\455. Finbud Daily(14-15Nov2023)\\cibil-data\\PII\\NB86375555_AUTO-AT033-14112023-122100_14-11-2023-12-57-12_PS_QUANTIFI_V1_CV_CIR_ID.csv\")\n",
    "print(df.columns)"
   ]
  },
  {
   "cell_type": "code",
   "execution_count": 80,
   "metadata": {},
   "outputs": [
    {
     "data": {
      "text/plain": [
       "['NOT DECLINED',\n",
       " '1+ Trade60+ in 2Y',\n",
       " '1+ Trade30+ in 6M',\n",
       " 'FOIR>70% with New EMI',\n",
       " '10+ Inq in lst 6Mth',\n",
       " 'naps_below_thresholds',\n",
       " '2+ Trades opened in last 3Month',\n",
       " '90+% Bank Card Utilization',\n",
       " '1.No Disposable Income',\n",
       " '1+ Trade 1DPD+ in 3M',\n",
       " 'SYSTEM_LOAN_OFFER<51000',\n",
       " '90+% Bank Card Utilization in last 12 month',\n",
       " 'CIBIL_LT_700',\n",
       " '3.No Disposable Income',\n",
       " '1+ Trade 60+ ever',\n",
       " 'High Credit Sum with 2+ Inq in 3M',\n",
       " 'age<21',\n",
       " 'NOBC with 8+ Inq in 12M',\n",
       " 'NOBC with Cibil LT 750',\n",
       " 'FOIR>70%',\n",
       " 'Income<25K',\n",
       " 'Months on Bureau<12',\n",
       " 'Transgender',\n",
       " 'NOBC with 3+ Inq in 6M',\n",
       " 'PAN Error']"
      ]
     },
     "execution_count": 80,
     "metadata": {},
     "output_type": "execute_result"
    }
   ],
   "source": [
    "list(df['dec_reason'].unique())"
   ]
  },
  {
   "cell_type": "code",
   "execution_count": 81,
   "metadata": {},
   "outputs": [],
   "source": [
    "df = pd.read_csv(r\"C:\\Users\\T14s\\Desktop\\offers\\383. Quikr Regular DS45&46\\Output\\383.Quikr_Regular_DS_45&46-40923.csv\",nrows=50000,low_memory=False)\n",
    "# x = df[df['dec_reason'].isin(['FOIR>70% with New EMI','No Disposable Income','1.No Disposable Income','3.No Disposable Income', 'FOIR>70%'])]"
   ]
  },
  {
   "cell_type": "code",
   "execution_count": 82,
   "metadata": {},
   "outputs": [
    {
     "data": {
      "text/plain": [
       "(10406, 224)"
      ]
     },
     "execution_count": 82,
     "metadata": {},
     "output_type": "execute_result"
    }
   ],
   "source": [
    "x.shape"
   ]
  },
  {
   "cell_type": "code",
   "execution_count": 84,
   "metadata": {},
   "outputs": [],
   "source": [
    "# sample1\n",
    "def func1(df):\n",
    "\n",
    "    def calci(temp,tenor=None):\n",
    "        temp['max_tenor_mod'] = np.select([temp['max_tenor']==12,temp['max_tenor']==18],[18,24],36) if tenor is None else tenor\n",
    "        temp['amort'] = (1 +  temp['roi_m'])**temp['max_tenor_mod']\n",
    "        temp['SYSTEM_MAX_EMI'] = (temp['SYSTEM_LOAN_OFFER']*(temp['roi_m']*temp['amort'])/(temp['amort']-1)).astype(float).round(2)\n",
    "        temp['dec_reason'] = np.select(condlist=[(temp['SYSTEM_MAX_EMI']>0)&(temp['SYSTEM_MAX_EMI']<= 3000)],\n",
    "                                                choicelist=['FOIR>70% with New EMI'],\n",
    "                                                default = \"NOT DECLINED\")\n",
    "        return temp\n",
    "    original = df[df['dec_reason']=='NOT DECLINED']\n",
    "    data = df[df['dec_reason']!='NOT DECLINED']\n",
    "    temp = data[(data['SYSTEM_MAX_EMI']<3000)&(data['max_tenor']<36)&(data['SYSTEM_LOAN_OFFER']>=50000)]\n",
    "    temp = calci(temp)\n",
    "    \n",
    "    idx = temp[temp['dec_reason']=='NOT DECLINED'].index\n",
    "    data.loc[idx,['max_tenor','SYSTEM_MAX_EMI','dec_reason']] = temp.loc[idx,['max_tenor','SYSTEM_MAX_EMI','dec_reason']]\n",
    "\n",
    "    temp = data[(data['SYSTEM_MAX_EMI']<3000)&(data['max_tenor']==36)&(data['SYSTEM_LOAN_OFFER']>=50000)]\n",
    "    for tenor in [24,18,12]:\n",
    "        sample = temp.copy()\n",
    "        sample = calci(sample,tenor)\n",
    "        sample = sample[sample['dec_reason']!='NOT DECLINED']\n",
    "        idx = sample[sample['dec_reason']=='NOT DECLINED'].index\n",
    "        data.loc[idx,['max_tenor','SYSTEM_MAX_EMI','dec_reason']] = sample.loc[idx,['max_tenor','SYSTEM_MAX_EMI','dec_reason']]\n",
    "    data = pd.concat([original,data])\n",
    "    return data"
   ]
  },
  {
   "cell_type": "code",
   "execution_count": 85,
   "metadata": {},
   "outputs": [
    {
     "data": {
      "text/html": [
       "<div>\n",
       "<style scoped>\n",
       "    .dataframe tbody tr th:only-of-type {\n",
       "        vertical-align: middle;\n",
       "    }\n",
       "\n",
       "    .dataframe tbody tr th {\n",
       "        vertical-align: top;\n",
       "    }\n",
       "\n",
       "    .dataframe thead th {\n",
       "        text-align: right;\n",
       "    }\n",
       "</style>\n",
       "<table border=\"1\" class=\"dataframe\">\n",
       "  <thead>\n",
       "    <tr style=\"text-align: right;\">\n",
       "      <th></th>\n",
       "      <th>Sequence No</th>\n",
       "      <th>Account No</th>\n",
       "      <th>Adviser Transaction No</th>\n",
       "      <th>Member_Reference_Partner</th>\n",
       "      <th>Total Features</th>\n",
       "      <th>AGG911</th>\n",
       "      <th>RVLR01</th>\n",
       "      <th>BCPMTSTR</th>\n",
       "      <th>CV11</th>\n",
       "      <th>CV14</th>\n",
       "      <th>...</th>\n",
       "      <th>l4temp</th>\n",
       "      <th>l4</th>\n",
       "      <th>ImputedInc</th>\n",
       "      <th>lending partner</th>\n",
       "      <th>hashed_phone</th>\n",
       "      <th>data_source</th>\n",
       "      <th>offer_source</th>\n",
       "      <th>randNumCol</th>\n",
       "      <th>Platform_Partner_Name</th>\n",
       "      <th>Data_Tag</th>\n",
       "    </tr>\n",
       "  </thead>\n",
       "  <tbody>\n",
       "    <tr>\n",
       "      <th>4</th>\n",
       "      <td>8</td>\n",
       "      <td>NaN</td>\n",
       "      <td>2275968356</td>\n",
       "      <td>134326341</td>\n",
       "      <td>59</td>\n",
       "      <td>25.40</td>\n",
       "      <td>0.0</td>\n",
       "      <td>INDTRM</td>\n",
       "      <td>0</td>\n",
       "      <td>17</td>\n",
       "      <td>...</td>\n",
       "      <td>65000</td>\n",
       "      <td>65000</td>\n",
       "      <td>364790.538</td>\n",
       "      <td>PayU</td>\n",
       "      <td>NaN</td>\n",
       "      <td>Quikr_Regular_DS_45&amp;46</td>\n",
       "      <td>383.Quikr_Regular_DS_45&amp;46-40923</td>\n",
       "      <td>5370</td>\n",
       "      <td>Quikr</td>\n",
       "      <td>QKR_DS45&amp;46__03_SEP_2023</td>\n",
       "    </tr>\n",
       "    <tr>\n",
       "      <th>14</th>\n",
       "      <td>19</td>\n",
       "      <td>NaN</td>\n",
       "      <td>2275968367</td>\n",
       "      <td>134326568</td>\n",
       "      <td>59</td>\n",
       "      <td>-1.00</td>\n",
       "      <td>-1.0</td>\n",
       "      <td>NOBC</td>\n",
       "      <td>0</td>\n",
       "      <td>0</td>\n",
       "      <td>...</td>\n",
       "      <td>10000</td>\n",
       "      <td>10000</td>\n",
       "      <td>40000.000</td>\n",
       "      <td>PayU</td>\n",
       "      <td>NaN</td>\n",
       "      <td>Quikr_Regular_DS_45&amp;46</td>\n",
       "      <td>383.Quikr_Regular_DS_45&amp;46-40923</td>\n",
       "      <td>2920</td>\n",
       "      <td>Quikr</td>\n",
       "      <td>QKR_DS45&amp;46__03_SEP_2023</td>\n",
       "    </tr>\n",
       "    <tr>\n",
       "      <th>20</th>\n",
       "      <td>25</td>\n",
       "      <td>NaN</td>\n",
       "      <td>2275968373</td>\n",
       "      <td>134326824</td>\n",
       "      <td>59</td>\n",
       "      <td>5.05</td>\n",
       "      <td>0.0</td>\n",
       "      <td>RVLRPLUS</td>\n",
       "      <td>0</td>\n",
       "      <td>15</td>\n",
       "      <td>...</td>\n",
       "      <td>65000</td>\n",
       "      <td>65000</td>\n",
       "      <td>150000.000</td>\n",
       "      <td>PayU</td>\n",
       "      <td>NaN</td>\n",
       "      <td>Quikr_Regular_DS_45&amp;46</td>\n",
       "      <td>383.Quikr_Regular_DS_45&amp;46-40923</td>\n",
       "      <td>9536</td>\n",
       "      <td>Quikr</td>\n",
       "      <td>QKR_DS45&amp;46__03_SEP_2023</td>\n",
       "    </tr>\n",
       "    <tr>\n",
       "      <th>30</th>\n",
       "      <td>38</td>\n",
       "      <td>NaN</td>\n",
       "      <td>2275968386</td>\n",
       "      <td>134759525</td>\n",
       "      <td>59</td>\n",
       "      <td>43.46</td>\n",
       "      <td>0.0</td>\n",
       "      <td>TRANSACTOR</td>\n",
       "      <td>0</td>\n",
       "      <td>7</td>\n",
       "      <td>...</td>\n",
       "      <td>65000</td>\n",
       "      <td>65000</td>\n",
       "      <td>148000.000</td>\n",
       "      <td>PayU</td>\n",
       "      <td>NaN</td>\n",
       "      <td>Quikr_Regular_DS_45&amp;46</td>\n",
       "      <td>383.Quikr_Regular_DS_45&amp;46-40923</td>\n",
       "      <td>323</td>\n",
       "      <td>Quikr</td>\n",
       "      <td>QKR_DS45&amp;46__03_SEP_2023</td>\n",
       "    </tr>\n",
       "    <tr>\n",
       "      <th>32</th>\n",
       "      <td>42</td>\n",
       "      <td>NaN</td>\n",
       "      <td>2275968390</td>\n",
       "      <td>134520781</td>\n",
       "      <td>59</td>\n",
       "      <td>65.22</td>\n",
       "      <td>0.0</td>\n",
       "      <td>TRANPLUS</td>\n",
       "      <td>0</td>\n",
       "      <td>39</td>\n",
       "      <td>...</td>\n",
       "      <td>-21425000</td>\n",
       "      <td>-21425000</td>\n",
       "      <td>400000.000</td>\n",
       "      <td>PayU</td>\n",
       "      <td>NaN</td>\n",
       "      <td>Quikr_Regular_DS_45&amp;46</td>\n",
       "      <td>383.Quikr_Regular_DS_45&amp;46-40923</td>\n",
       "      <td>2574</td>\n",
       "      <td>Quikr</td>\n",
       "      <td>QKR_DS45&amp;46__03_SEP_2023</td>\n",
       "    </tr>\n",
       "  </tbody>\n",
       "</table>\n",
       "<p>5 rows × 224 columns</p>\n",
       "</div>"
      ],
      "text/plain": [
       "    Sequence No  Account No  Adviser Transaction No  Member_Reference_Partner  \\\n",
       "4             8         NaN              2275968356                 134326341   \n",
       "14           19         NaN              2275968367                 134326568   \n",
       "20           25         NaN              2275968373                 134326824   \n",
       "30           38         NaN              2275968386                 134759525   \n",
       "32           42         NaN              2275968390                 134520781   \n",
       "\n",
       "    Total Features  AGG911  RVLR01    BCPMTSTR  CV11  CV14  ...    l4temp  \\\n",
       "4               59   25.40     0.0      INDTRM     0    17  ...     65000   \n",
       "14              59   -1.00    -1.0        NOBC     0     0  ...     10000   \n",
       "20              59    5.05     0.0    RVLRPLUS     0    15  ...     65000   \n",
       "30              59   43.46     0.0  TRANSACTOR     0     7  ...     65000   \n",
       "32              59   65.22     0.0    TRANPLUS     0    39  ... -21425000   \n",
       "\n",
       "          l4  ImputedInc  lending partner  hashed_phone  \\\n",
       "4      65000  364790.538             PayU           NaN   \n",
       "14     10000   40000.000             PayU           NaN   \n",
       "20     65000  150000.000             PayU           NaN   \n",
       "30     65000  148000.000             PayU           NaN   \n",
       "32 -21425000  400000.000             PayU           NaN   \n",
       "\n",
       "               data_source                      offer_source  randNumCol  \\\n",
       "4   Quikr_Regular_DS_45&46  383.Quikr_Regular_DS_45&46-40923        5370   \n",
       "14  Quikr_Regular_DS_45&46  383.Quikr_Regular_DS_45&46-40923        2920   \n",
       "20  Quikr_Regular_DS_45&46  383.Quikr_Regular_DS_45&46-40923        9536   \n",
       "30  Quikr_Regular_DS_45&46  383.Quikr_Regular_DS_45&46-40923         323   \n",
       "32  Quikr_Regular_DS_45&46  383.Quikr_Regular_DS_45&46-40923        2574   \n",
       "\n",
       "    Platform_Partner_Name                  Data_Tag  \n",
       "4                   Quikr  QKR_DS45&46__03_SEP_2023  \n",
       "14                  Quikr  QKR_DS45&46__03_SEP_2023  \n",
       "20                  Quikr  QKR_DS45&46__03_SEP_2023  \n",
       "30                  Quikr  QKR_DS45&46__03_SEP_2023  \n",
       "32                  Quikr  QKR_DS45&46__03_SEP_2023  \n",
       "\n",
       "[5 rows x 224 columns]"
      ]
     },
     "execution_count": 85,
     "metadata": {},
     "output_type": "execute_result"
    }
   ],
   "source": [
    "sample = func1(x)\n",
    "sample.head()"
   ]
  },
  {
   "cell_type": "code",
   "execution_count": 86,
   "metadata": {},
   "outputs": [
    {
     "data": {
      "text/plain": [
       "FOIR>70% with New EMI     9858\n",
       "3.No Disposable Income     302\n",
       "1.No Disposable Income     142\n",
       "FOIR>70%                   104\n",
       "Name: dec_reason, dtype: int64"
      ]
     },
     "execution_count": 86,
     "metadata": {},
     "output_type": "execute_result"
    }
   ],
   "source": [
    "sample['dec_reason'].value_counts()"
   ]
  },
  {
   "cell_type": "code",
   "execution_count": 57,
   "metadata": {},
   "outputs": [
    {
     "data": {
      "text/plain": [
       "(Counter({'FOIR>70% with New EMI': 6178}), Counter({'NOT DECLINED': 109652}))"
      ]
     },
     "execution_count": 57,
     "metadata": {},
     "output_type": "execute_result"
    }
   ],
   "source": [
    "Counter(sample1['dec_reason']),Counter(sample2['dec_reason'])"
   ]
  },
  {
   "cell_type": "code",
   "execution_count": 20,
   "metadata": {},
   "outputs": [
    {
     "data": {
      "text/html": [
       "<div>\n",
       "<style scoped>\n",
       "    .dataframe tbody tr th:only-of-type {\n",
       "        vertical-align: middle;\n",
       "    }\n",
       "\n",
       "    .dataframe tbody tr th {\n",
       "        vertical-align: top;\n",
       "    }\n",
       "\n",
       "    .dataframe thead th {\n",
       "        text-align: right;\n",
       "    }\n",
       "</style>\n",
       "<table border=\"1\" class=\"dataframe\">\n",
       "  <thead>\n",
       "    <tr style=\"text-align: right;\">\n",
       "      <th></th>\n",
       "      <th>SYSTEM_LOAN_OFFER</th>\n",
       "      <th>SYSTEM_MAX_EMI</th>\n",
       "      <th>max_tenor</th>\n",
       "      <th>max_tenor_mod</th>\n",
       "    </tr>\n",
       "  </thead>\n",
       "  <tbody>\n",
       "    <tr>\n",
       "      <th>37</th>\n",
       "      <td>51000</td>\n",
       "      <td>1998.20</td>\n",
       "      <td>24</td>\n",
       "      <td>36</td>\n",
       "    </tr>\n",
       "    <tr>\n",
       "      <th>74</th>\n",
       "      <td>51000</td>\n",
       "      <td>1998.20</td>\n",
       "      <td>24</td>\n",
       "      <td>36</td>\n",
       "    </tr>\n",
       "    <tr>\n",
       "      <th>112</th>\n",
       "      <td>50000</td>\n",
       "      <td>1855.63</td>\n",
       "      <td>24</td>\n",
       "      <td>36</td>\n",
       "    </tr>\n",
       "    <tr>\n",
       "      <th>169</th>\n",
       "      <td>50000</td>\n",
       "      <td>1855.63</td>\n",
       "      <td>24</td>\n",
       "      <td>36</td>\n",
       "    </tr>\n",
       "    <tr>\n",
       "      <th>458</th>\n",
       "      <td>51000</td>\n",
       "      <td>1998.20</td>\n",
       "      <td>24</td>\n",
       "      <td>36</td>\n",
       "    </tr>\n",
       "    <tr>\n",
       "      <th>...</th>\n",
       "      <td>...</td>\n",
       "      <td>...</td>\n",
       "      <td>...</td>\n",
       "      <td>...</td>\n",
       "    </tr>\n",
       "    <tr>\n",
       "      <th>99827</th>\n",
       "      <td>51000</td>\n",
       "      <td>1998.20</td>\n",
       "      <td>24</td>\n",
       "      <td>36</td>\n",
       "    </tr>\n",
       "    <tr>\n",
       "      <th>99849</th>\n",
       "      <td>51000</td>\n",
       "      <td>1998.20</td>\n",
       "      <td>24</td>\n",
       "      <td>36</td>\n",
       "    </tr>\n",
       "    <tr>\n",
       "      <th>99893</th>\n",
       "      <td>51000</td>\n",
       "      <td>1998.20</td>\n",
       "      <td>24</td>\n",
       "      <td>36</td>\n",
       "    </tr>\n",
       "    <tr>\n",
       "      <th>99901</th>\n",
       "      <td>51000</td>\n",
       "      <td>1998.20</td>\n",
       "      <td>24</td>\n",
       "      <td>36</td>\n",
       "    </tr>\n",
       "    <tr>\n",
       "      <th>99928</th>\n",
       "      <td>50000</td>\n",
       "      <td>1855.63</td>\n",
       "      <td>24</td>\n",
       "      <td>36</td>\n",
       "    </tr>\n",
       "  </tbody>\n",
       "</table>\n",
       "<p>957 rows × 4 columns</p>\n",
       "</div>"
      ],
      "text/plain": [
       "       SYSTEM_LOAN_OFFER  SYSTEM_MAX_EMI  max_tenor  max_tenor_mod\n",
       "37                 51000         1998.20         24             36\n",
       "74                 51000         1998.20         24             36\n",
       "112                50000         1855.63         24             36\n",
       "169                50000         1855.63         24             36\n",
       "458                51000         1998.20         24             36\n",
       "...                  ...             ...        ...            ...\n",
       "99827              51000         1998.20         24             36\n",
       "99849              51000         1998.20         24             36\n",
       "99893              51000         1998.20         24             36\n",
       "99901              51000         1998.20         24             36\n",
       "99928              50000         1855.63         24             36\n",
       "\n",
       "[957 rows x 4 columns]"
      ]
     },
     "execution_count": 20,
     "metadata": {},
     "output_type": "execute_result"
    }
   ],
   "source": [
    "x[['SYSTEM_LOAN_OFFER','SYSTEM_MAX_EMI','max_tenor','max_tenor_mod']]"
   ]
  },
  {
   "cell_type": "code",
   "execution_count": 56,
   "metadata": {},
   "outputs": [],
   "source": [
    "df = pd.read_csv(r\"C:\\Users\\T14s\\Desktop\\offers\\315.Snapdeal_DS17 - Copy\\Output\\315.Snapdeal_DS17070723_consolidated(marketing).csv\")"
   ]
  },
  {
   "cell_type": "code",
   "execution_count": 18,
   "metadata": {},
   "outputs": [],
   "source": [
    "from Modules.dedupe_check import dedupe_checker"
   ]
  },
  {
   "cell_type": "code",
   "execution_count": 19,
   "metadata": {},
   "outputs": [],
   "source": [
    "df['Mobile_No'] = df['Mobile_No'].astype(float).astype('int64').astype(str).str[-10:]"
   ]
  },
  {
   "cell_type": "code",
   "execution_count": 20,
   "metadata": {},
   "outputs": [
    {
     "name": "stdout",
     "output_type": "stream",
     "text": [
      "Hope you updated User file, switching to partner mode\n"
     ]
    }
   ],
   "source": [
    "dfx = dedupe_checker(df)"
   ]
  },
  {
   "cell_type": "code",
   "execution_count": 21,
   "metadata": {},
   "outputs": [
    {
     "data": {
      "text/plain": [
       "(221972, 36)"
      ]
     },
     "execution_count": 21,
     "metadata": {},
     "output_type": "execute_result"
    }
   ],
   "source": [
    "dfx.shape"
   ]
  },
  {
   "cell_type": "code",
   "execution_count": 22,
   "metadata": {},
   "outputs": [],
   "source": [
    "dfx.to_csv('offers_generated_sd.csv',index=False)"
   ]
  },
  {
   "cell_type": "code",
   "execution_count": 23,
   "metadata": {},
   "outputs": [
    {
     "data": {
      "text/plain": [
       "(489150, 36)"
      ]
     },
     "execution_count": 23,
     "metadata": {},
     "output_type": "execute_result"
    }
   ],
   "source": [
    "df.shape"
   ]
  },
  {
   "cell_type": "code",
   "execution_count": 38,
   "metadata": {},
   "outputs": [
    {
     "data": {
      "text/plain": [
       "(221972, 36)"
      ]
     },
     "execution_count": 38,
     "metadata": {},
     "output_type": "execute_result"
    }
   ],
   "source": [
    "dfx.shape"
   ]
  },
  {
   "cell_type": "code",
   "execution_count": 28,
   "metadata": {},
   "outputs": [],
   "source": [
    "save_path= r\"C:\\Users\\T14s\\Desktop\\offers\\315.Snapdeal_DS17 - Copy\\Output\"\n",
    "total_data_count = 2900769\n",
    "x=pd.pivot_table(dfx, values='Mobile_No', index=['Category'],\n",
    "                    columns=['propensity'], aggfunc=['count'],fill_value=0,margins = True, margins_name='Total')\n",
    "x['percentage']=((x[('count', 'Total')])*100/total_data_count).round(2)\n",
    "x['percentage']=(x['percentage'].astype(str))+'%'\n",
    "x.loc['percentage'] = [(((x[('count', 'HiiProp')][-1]/total_data_count)*100).round(2).astype(str))+'%',\n",
    "                                (((x[('count', 'LowProp')][-1]/total_data_count)*100).round(2).astype(str))+'%',\n",
    "                                (((x[('count', 'MedProp')][-1]/total_data_count)*100).round(2).astype(str))+'%',\n",
    "                                (((x[('count', 'Total')][-1]/total_data_count)*100).round(2).astype(str))+'%','']\n",
    "x.to_csv(save_path+'\\Cat-prop_pivot_old .csv')"
   ]
  },
  {
   "cell_type": "code",
   "execution_count": 51,
   "metadata": {},
   "outputs": [],
   "source": [
    "def pivotCreator(mfx):\n",
    "    # pivot Table file creation\n",
    "    mfx.rename(columns={\"pred_propensity\":\"PROPENPLSC Score Value\"},inplace=True)\n",
    "    df_pivot = mfx[mfx[\"dec_reason\"] == \"NOT DECLINED\"].copy()\n",
    "    req_stats = {\n",
    "        \"Member Reference\": [\"count\"],\n",
    "        \"BC02S\": [\"mean\"],\n",
    "        \"BC28S\": [\"mean\"],\n",
    "        \"New_FOIR\": [\"mean\"],\n",
    "        \"CV14_1M\": [\"max\", \"sum\", \"mean\"],\n",
    "        \"CV14_3M\": [\"max\", \"sum\", \"mean\"],\n",
    "        \"TRD\": [\"mean\"],\n",
    "        \"CIBILTUSC3 Score Value\": [\"min\", \"mean\"],\n",
    "        \"PROPENPLSC Score Value\": [\"min\", \"mean\"],\n",
    "        \"ImputedInc\": [\"mean\"],\n",
    "        \"SYSTEM_PF\": [\"mean\"],\n",
    "        \"SYSTEM_RATEOFINT\": [\"mean\"],\n",
    "        \"SYSTEM_LOAN_OFFER\": [\"min\", \"mean\", \"max\"],\n",
    "        \"SYSTEM_MAX_EMI\": [\"mean\"],\n",
    "        \"max_tenor\": [\"mean\"],\n",
    "        \"naps_tu\": [\"min\", \"mean\", \"max\"],\n",
    "        \n",
    "    }\n",
    "    req_cols = list(req_stats.keys()) + [\n",
    "        \"riskband\",\n",
    "        \"riskband2\",\n",
    "        \"lending partner\",\n",
    "    ]\n",
    "    df_pivot = df_pivot[req_cols]\n",
    "\n",
    "    pivot = None\n",
    "    for lender in [\"Muthoot\", \"PayU\", \"Liquiloans\"]:\n",
    "        Pivot = (\n",
    "            df_pivot[df_pivot[\"lending partner\"] == lender]\n",
    "            .groupby([\"riskband\", \"riskband2\"])\n",
    "            .agg(req_stats)\n",
    "        )\n",
    "        Pivot['lender']=lender\n",
    "        pivot = pd.concat([pivot, Pivot])\n",
    "\n",
    "    pivot = pd.concat(\n",
    "        [pivot, df_pivot.groupby([\"riskband\", \"riskband2\"]).agg(req_stats)]\n",
    "    )\n",
    "    pivot.to_excel(save_path / \"pivot.xlsx\")\n",
    "\n"
   ]
  },
  {
   "cell_type": "code",
   "execution_count": 34,
   "metadata": {},
   "outputs": [],
   "source": [
    "mf = pd.read_csv(r\"C:\\Users\\T14s\\Desktop\\offers\\315.Snapdeal_DS17 - Copy\\Output\\315.Snapdeal_DS17070723.csv\")"
   ]
  },
  {
   "cell_type": "code",
   "execution_count": 48,
   "metadata": {},
   "outputs": [],
   "source": [
    "mfx = mf[mf['Member Reference'].isin(dfx['Mobile_No'])]"
   ]
  },
  {
   "cell_type": "code",
   "execution_count": 49,
   "metadata": {},
   "outputs": [
    {
     "data": {
      "text/plain": [
       "(222059, 200)"
      ]
     },
     "execution_count": 49,
     "metadata": {},
     "output_type": "execute_result"
    }
   ],
   "source": [
    "mfx.shape"
   ]
  },
  {
   "cell_type": "code",
   "execution_count": 44,
   "metadata": {},
   "outputs": [
    {
     "data": {
      "text/plain": [
       "2         6201096927\n",
       "3         6201292282\n",
       "4         6201848401\n",
       "9         6238117235\n",
       "19        6261406108\n",
       "             ...    \n",
       "489137    9999350395\n",
       "489138    9999376506\n",
       "489140    9999494525\n",
       "489145    9999651913\n",
       "489149    9999995457\n",
       "Name: Mobile_No, Length: 221972, dtype: object"
      ]
     },
     "execution_count": 44,
     "metadata": {},
     "output_type": "execute_result"
    }
   ],
   "source": [
    "dfx['Mobile_No']"
   ]
  },
  {
   "cell_type": "code",
   "execution_count": 46,
   "metadata": {},
   "outputs": [],
   "source": [
    "mf['Member Reference'] = mf['Member Reference'].astype(float).astype('int64').astype(str).str[-10:]"
   ]
  },
  {
   "cell_type": "code",
   "execution_count": 52,
   "metadata": {},
   "outputs": [
    {
     "ename": "TypeError",
     "evalue": "unsupported operand type(s) for /: 'str' and 'str'",
     "output_type": "error",
     "traceback": [
      "\u001b[1;31m---------------------------------------------------------------------------\u001b[0m",
      "\u001b[1;31mTypeError\u001b[0m                                 Traceback (most recent call last)",
      "Cell \u001b[1;32mIn[52], line 1\u001b[0m\n\u001b[1;32m----> 1\u001b[0m pivotCreator(mfx)\n",
      "Cell \u001b[1;32mIn[51], line 44\u001b[0m, in \u001b[0;36mpivotCreator\u001b[1;34m(dfnaps)\u001b[0m\n\u001b[0;32m     39\u001b[0m     pivot \u001b[39m=\u001b[39m pd\u001b[39m.\u001b[39mconcat([pivot, Pivot])\n\u001b[0;32m     41\u001b[0m pivot \u001b[39m=\u001b[39m pd\u001b[39m.\u001b[39mconcat(\n\u001b[0;32m     42\u001b[0m     [pivot, df_pivot\u001b[39m.\u001b[39mgroupby([\u001b[39m\"\u001b[39m\u001b[39mriskband\u001b[39m\u001b[39m\"\u001b[39m, \u001b[39m\"\u001b[39m\u001b[39mriskband2\u001b[39m\u001b[39m\"\u001b[39m])\u001b[39m.\u001b[39magg(req_stats)]\n\u001b[0;32m     43\u001b[0m )\n\u001b[1;32m---> 44\u001b[0m pivot\u001b[39m.\u001b[39mto_excel(save_path \u001b[39m/\u001b[39;49m \u001b[39m\"\u001b[39;49m\u001b[39mpivot.xlsx\u001b[39;49m\u001b[39m\"\u001b[39;49m)\n",
      "\u001b[1;31mTypeError\u001b[0m: unsupported operand type(s) for /: 'str' and 'str'"
     ]
    }
   ],
   "source": [
    "pivotCreator(mfx)"
   ]
  },
  {
   "cell_type": "code",
   "execution_count": 54,
   "metadata": {},
   "outputs": [],
   "source": [
    "    df_pivot = mfx[mfx['dec_reason'] == 'NOT DECLINED'].copy()\n",
    "\n",
    "    df_pivot = df_pivot[[\"riskband\",\n",
    "                         \"riskband2\",\n",
    "                        \"lending partner\",\n",
    "                         \"Member Reference\",\n",
    "                         \"BC02S\",\n",
    "                         \"BC28S\",\n",
    "                         \"New_FOIR\",\n",
    "                         \"CV14_1M\",\n",
    "                         \"CV14_3M\",\n",
    "                         \"TRD\",\n",
    "                         \"CIBILTUSC3 Score Value\",\n",
    "                         \"PROPENPLSC Score Value\",\n",
    "                         \"ImputedInc\",\n",
    "                         \"SYSTEM_PF\",\n",
    "                         \"SYSTEM_RATEOFINT\",\n",
    "                         \"SYSTEM_LOAN_OFFER\",\n",
    "                         \"SYSTEM_MAX_EMI\",\n",
    "                         \"max_tenor\"]]\n",
    "\n",
    "    Pivot_Muthoot = df_pivot[df_pivot[\"lending partner\"] == \"Muthoot\"].groupby([\"riskband\", \"riskband2\"]).agg({\"Member Reference\": [\"count\"],\n",
    "                                                                                                               \"BC02S\": [\"mean\"],\n",
    "                                                                                                              \"BC28S\": [\"mean\"],\n",
    "                                                                                                               \"New_FOIR\": [\"mean\"],\n",
    "                                                                                                               \"CV14_1M\": [\"max\", \"sum\", \"mean\"],\n",
    "                                                                                                               \"CV14_3M\": [\"max\", \"sum\", \"mean\"],\n",
    "                                                                                                               \"TRD\": [\"mean\"],\n",
    "                                                                                                               \"CIBILTUSC3 Score Value\": [\"min\", \"mean\"],\n",
    "                                                                                                               \"PROPENPLSC Score Value\": [\"min\", \"mean\"],\n",
    "                                                                                                               \"ImputedInc\": [\"mean\"],\n",
    "                                                                                                               \"SYSTEM_PF\": [\"mean\"],\n",
    "                                                                                                               \"SYSTEM_RATEOFINT\": [\"mean\"],\n",
    "                                                                                                               \"SYSTEM_LOAN_OFFER\": [\"min\", \"mean\", \"max\"],\n",
    "                                                                                                               \"SYSTEM_MAX_EMI\": [\"mean\"],\n",
    "                                                                                                               \"max_tenor\": [\"mean\"]})\n",
    "\n",
    "    Pivot_PayU = df_pivot[df_pivot[\"lending partner\"] == \"PayU\"].groupby([\"riskband\", \"riskband2\"]).agg({\"Member Reference\": [\"count\"],\n",
    "                                                                                                        \"BC02S\": [\"mean\"],\n",
    "                                                                                                         \"BC28S\": [\"mean\"],\n",
    "                                                                                                         \"New_FOIR\": [\"mean\"],\n",
    "                                                                                                         \"CV14_1M\": [\"max\", \"sum\", \"mean\"],\n",
    "                                                                                                         \"CV14_3M\": [\"max\", \"sum\", \"mean\"],\n",
    "                                                                                                         \"TRD\": [\"mean\"],\n",
    "                                                                                                         \"CIBILTUSC3 Score Value\": [\"min\", \"mean\"],\n",
    "                                                                                                         \"PROPENPLSC Score Value\": [\"min\", \"mean\"],\n",
    "                                                                                                         \"ImputedInc\": [\"mean\"],\n",
    "                                                                                                         \"SYSTEM_PF\": [\"mean\"],\n",
    "                                                                                                         \"SYSTEM_RATEOFINT\": [\"mean\"],\n",
    "                                                                                                         \"SYSTEM_LOAN_OFFER\": [\"min\", \"mean\", \"max\"],\n",
    "                                                                                                         \"SYSTEM_MAX_EMI\": [\"mean\"],\n",
    "                                                                                                         \"max_tenor\": [\"mean\"]})\n",
    "\n",
    "    Pivot_Liquiloans = df_pivot[df_pivot[\"lending partner\"] == \"Liquiloans\"].groupby([\"riskband\", \"riskband2\"]).agg({\"Member Reference\": [\"count\"],\n",
    "                                                                                                                     \"BC02S\": [\"mean\"],\n",
    "                                                                                                                    \"BC28S\": [\"mean\"],\n",
    "                                                                                                                     \"New_FOIR\": [\"mean\"],\n",
    "                                                                                                                     \"CV14_1M\": [\"max\", \"sum\", \"mean\"],\n",
    "                                                                                                                     \"CV14_3M\": [\"max\", \"sum\", \"mean\"],\n",
    "                                                                                                                     \"TRD\": [\"mean\"],\n",
    "                                                                                                                     \"CIBILTUSC3 Score Value\": [\"min\", \"mean\"],\n",
    "                                                                                                                     \"PROPENPLSC Score Value\": [\"min\", \"mean\"],\n",
    "                                                                                                                     \"ImputedInc\": [\"mean\"],\n",
    "                                                                                                                     \"SYSTEM_PF\": [\"mean\"],\n",
    "                                                                                                                     \"SYSTEM_RATEOFINT\": [\"mean\"],\n",
    "                                                                                                                     \"SYSTEM_LOAN_OFFER\": [\"min\", \"mean\", \"max\"],\n",
    "                                                                                                                     \"SYSTEM_MAX_EMI\": [\"mean\"],\n",
    "                                                                                                                     \"max_tenor\": [\"mean\"]})\n",
    "\n",
    "    Pivot_All = df_pivot.groupby([\"riskband\", \"riskband2\"]).agg({\"Member Reference\": [\"count\"],\n",
    "                                                                \"BC02S\": [\"mean\"],\n",
    "                                                                 \"BC28S\": [\"mean\"],\n",
    "                                                                 \"New_FOIR\": [\"mean\"],\n",
    "                                                                 \"CV14_1M\": [\"max\", \"sum\", \"mean\"],\n",
    "                                                                 \"CV14_3M\": [\"max\", \"sum\", \"mean\"],\n",
    "                                                                 \"TRD\": [\"mean\"],\n",
    "                                                                 \"CIBILTUSC3 Score Value\": [\"min\", \"mean\"],\n",
    "                                                                 \"PROPENPLSC Score Value\": [\"min\", \"mean\"],\n",
    "                                                                 \"ImputedInc\": [\"mean\"],\n",
    "                                                                 \"SYSTEM_PF\": [\"mean\"],\n",
    "                                                                 \"SYSTEM_RATEOFINT\": [\"mean\"],\n",
    "                                                                 \"SYSTEM_LOAN_OFFER\": [\"min\", \"mean\", \"max\"],\n",
    "                                                                 \"SYSTEM_MAX_EMI\": [\"mean\"],\n",
    "                                                                 \"max_tenor\": [\"mean\"]})\n",
    "\n",
    "    Pivot_Muthoot['Lender'] = 'Muthoot'\n",
    "    Pivot_PayU['Lender'] = 'PayU'\n",
    "    Pivot_Liquiloans['Lender'] = 'Liquiloans'\n",
    "    Pivot_All['Lender'] = 'PayU & Liquiloans'\n",
    "    pivot = pd.concat([Pivot_Muthoot, Pivot_PayU, Pivot_Liquiloans, Pivot_All], axis=0)\n",
    "    pivot.to_excel(save_path +'\\pivot1.xlsx')\n"
   ]
  },
  {
   "cell_type": "code",
   "execution_count": 57,
   "metadata": {},
   "outputs": [],
   "source": [
    "dfx = pd.read_csv(r\"C:\\Users\\T14s\\Desktop\\offers\\315.Snapdeal_DS17 - Copy\\offers_generated_sd.csv\")"
   ]
  },
  {
   "cell_type": "code",
   "execution_count": 58,
   "metadata": {},
   "outputs": [
    {
     "data": {
      "text/plain": [
       "(221972, 36)"
      ]
     },
     "execution_count": 58,
     "metadata": {},
     "output_type": "execute_result"
    }
   ],
   "source": [
    "dfx.shape"
   ]
  },
  {
   "cell_type": "code",
   "execution_count": null,
   "metadata": {},
   "outputs": [],
   "source": [
    "df"
   ]
  },
  {
   "cell_type": "code",
   "execution_count": null,
   "metadata": {},
   "outputs": [],
   "source": []
  }
 ],
 "metadata": {
  "kernelspec": {
   "display_name": "base",
   "language": "python",
   "name": "python3"
  },
  "language_info": {
   "codemirror_mode": {
    "name": "ipython",
    "version": 3
   },
   "file_extension": ".py",
   "mimetype": "text/x-python",
   "name": "python",
   "nbconvert_exporter": "python",
   "pygments_lexer": "ipython3",
   "version": "3.10.9"
  },
  "orig_nbformat": 4
 },
 "nbformat": 4,
 "nbformat_minor": 2
}
