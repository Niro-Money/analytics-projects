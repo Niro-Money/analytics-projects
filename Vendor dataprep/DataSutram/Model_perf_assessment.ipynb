{
 "cells": [
  {
   "cell_type": "code",
   "execution_count": 10,
   "metadata": {},
   "outputs": [],
   "source": [
    "import pandas as pd\n",
    "import numpy as np"
   ]
  },
  {
   "cell_type": "code",
   "execution_count": 11,
   "metadata": {},
   "outputs": [],
   "source": [
    "df = pd.read_excel('Disbursed_cases_DS_output.xlsx', sheet_name='Scores')"
   ]
  },
  {
   "cell_type": "code",
   "execution_count": 12,
   "metadata": {},
   "outputs": [
    {
     "data": {
      "text/html": [
       "<div>\n",
       "<style scoped>\n",
       "    .dataframe tbody tr th:only-of-type {\n",
       "        vertical-align: middle;\n",
       "    }\n",
       "\n",
       "    .dataframe tbody tr th {\n",
       "        vertical-align: top;\n",
       "    }\n",
       "\n",
       "    .dataframe thead th {\n",
       "        text-align: right;\n",
       "    }\n",
       "</style>\n",
       "<table border=\"1\" class=\"dataframe\">\n",
       "  <thead>\n",
       "    <tr style=\"text-align: right;\">\n",
       "      <th></th>\n",
       "      <th>unique_id</th>\n",
       "      <th>full_name</th>\n",
       "      <th>pin_code</th>\n",
       "      <th>phone_number</th>\n",
       "      <th>pan_number</th>\n",
       "      <th>email</th>\n",
       "      <th>DS_Score</th>\n",
       "      <th>Name (Bank)</th>\n",
       "      <th>Name (PAN)</th>\n",
       "      <th>DOB</th>\n",
       "      <th>...</th>\n",
       "      <th>microsoft (Phone)</th>\n",
       "      <th>paytm (Phone)</th>\n",
       "      <th>shaadi (Phone)</th>\n",
       "      <th>skype (Phone)</th>\n",
       "      <th>swiggy (Phone)</th>\n",
       "      <th>toi (Phone)</th>\n",
       "      <th>whatsapp (Phone)</th>\n",
       "      <th>yatra (Phone)</th>\n",
       "      <th>zoho (Phone)</th>\n",
       "      <th>Black List Match</th>\n",
       "    </tr>\n",
       "  </thead>\n",
       "  <tbody>\n",
       "    <tr>\n",
       "      <th>0</th>\n",
       "      <td>100</td>\n",
       "      <td>NAKUL GANDHI</td>\n",
       "      <td>110034</td>\n",
       "      <td>9968610064</td>\n",
       "      <td>BLLPG1720J</td>\n",
       "      <td>nakul@gasyparcel.co.in</td>\n",
       "      <td>590</td>\n",
       "      <td>YELLOW STAR</td>\n",
       "      <td>NAKUL  GANDHI</td>\n",
       "      <td>1991-05-28</td>\n",
       "      <td>...</td>\n",
       "      <td>False</td>\n",
       "      <td>True</td>\n",
       "      <td>False</td>\n",
       "      <td>False</td>\n",
       "      <td>True</td>\n",
       "      <td>False</td>\n",
       "      <td>True</td>\n",
       "      <td>False</td>\n",
       "      <td>False</td>\n",
       "      <td>False</td>\n",
       "    </tr>\n",
       "    <tr>\n",
       "      <th>1</th>\n",
       "      <td>101</td>\n",
       "      <td>DEEPAK DEEPAK KUMAR</td>\n",
       "      <td>110020</td>\n",
       "      <td>7088551995</td>\n",
       "      <td>HPOPK4658L</td>\n",
       "      <td>noemail@noemail.com</td>\n",
       "      <td>620</td>\n",
       "      <td>DEEPAK KUMAR</td>\n",
       "      <td>DEEPAK  KUMAR</td>\n",
       "      <td>1995-07-18</td>\n",
       "      <td>...</td>\n",
       "      <td>False</td>\n",
       "      <td>True</td>\n",
       "      <td>False</td>\n",
       "      <td>False</td>\n",
       "      <td>True</td>\n",
       "      <td>True</td>\n",
       "      <td>True</td>\n",
       "      <td>False</td>\n",
       "      <td>False</td>\n",
       "      <td>False</td>\n",
       "    </tr>\n",
       "    <tr>\n",
       "      <th>2</th>\n",
       "      <td>102</td>\n",
       "      <td>SACHIN BALIRAM AUCHAR</td>\n",
       "      <td>400043</td>\n",
       "      <td>9892429271</td>\n",
       "      <td>BPIPA9897M</td>\n",
       "      <td>sachinbalramauchar1@gmail.com</td>\n",
       "      <td>760</td>\n",
       "      <td>Sachin Baliram Auchar</td>\n",
       "      <td>SACHIN BALIRAM AUCHAR</td>\n",
       "      <td>1995-05-05</td>\n",
       "      <td>...</td>\n",
       "      <td>False</td>\n",
       "      <td>True</td>\n",
       "      <td>False</td>\n",
       "      <td>False</td>\n",
       "      <td>True</td>\n",
       "      <td>False</td>\n",
       "      <td>True</td>\n",
       "      <td>False</td>\n",
       "      <td>False</td>\n",
       "      <td>False</td>\n",
       "    </tr>\n",
       "    <tr>\n",
       "      <th>3</th>\n",
       "      <td>103</td>\n",
       "      <td>ASHISHKUMAR BHARATBHAI TUNDAVIYA</td>\n",
       "      <td>380006</td>\n",
       "      <td>8487006223</td>\n",
       "      <td>BETPT6620P</td>\n",
       "      <td>ashishtundaviya@gmail.com</td>\n",
       "      <td>770</td>\n",
       "      <td>TUNDAVIYA ASHISHKUMAR BHARATBHAI</td>\n",
       "      <td>ASHISHKUMAR BHARATBHAI TUNDAVIYA</td>\n",
       "      <td>1994-10-20</td>\n",
       "      <td>...</td>\n",
       "      <td>False</td>\n",
       "      <td>True</td>\n",
       "      <td>False</td>\n",
       "      <td>False</td>\n",
       "      <td>False</td>\n",
       "      <td>False</td>\n",
       "      <td>True</td>\n",
       "      <td>False</td>\n",
       "      <td>False</td>\n",
       "      <td>False</td>\n",
       "    </tr>\n",
       "    <tr>\n",
       "      <th>4</th>\n",
       "      <td>104</td>\n",
       "      <td>CONELAKANCHUVISHAL VISHAL</td>\n",
       "      <td>502032</td>\n",
       "      <td>9290939596</td>\n",
       "      <td>BOIPC4723F</td>\n",
       "      <td>vishal@gmail.com</td>\n",
       "      <td>770</td>\n",
       "      <td>Conelakanchu Vishal</td>\n",
       "      <td>VISHAL  CONELAKANCHU</td>\n",
       "      <td>1997-01-13</td>\n",
       "      <td>...</td>\n",
       "      <td>False</td>\n",
       "      <td>True</td>\n",
       "      <td>False</td>\n",
       "      <td>False</td>\n",
       "      <td>True</td>\n",
       "      <td>True</td>\n",
       "      <td>True</td>\n",
       "      <td>False</td>\n",
       "      <td>False</td>\n",
       "      <td>False</td>\n",
       "    </tr>\n",
       "  </tbody>\n",
       "</table>\n",
       "<p>5 rows × 68 columns</p>\n",
       "</div>"
      ],
      "text/plain": [
       "   unique_id                         full_name  pin_code  phone_number  \\\n",
       "0        100                      NAKUL GANDHI    110034    9968610064   \n",
       "1        101               DEEPAK DEEPAK KUMAR    110020    7088551995   \n",
       "2        102             SACHIN BALIRAM AUCHAR    400043    9892429271   \n",
       "3        103  ASHISHKUMAR BHARATBHAI TUNDAVIYA    380006    8487006223   \n",
       "4        104         CONELAKANCHUVISHAL VISHAL    502032    9290939596   \n",
       "\n",
       "   pan_number                          email  DS_Score  \\\n",
       "0  BLLPG1720J         nakul@gasyparcel.co.in       590   \n",
       "1  HPOPK4658L            noemail@noemail.com       620   \n",
       "2  BPIPA9897M  sachinbalramauchar1@gmail.com       760   \n",
       "3  BETPT6620P      ashishtundaviya@gmail.com       770   \n",
       "4  BOIPC4723F               vishal@gmail.com       770   \n",
       "\n",
       "                        Name (Bank)                        Name (PAN)  \\\n",
       "0                       YELLOW STAR                     NAKUL  GANDHI   \n",
       "1                      DEEPAK KUMAR                     DEEPAK  KUMAR   \n",
       "2             Sachin Baliram Auchar             SACHIN BALIRAM AUCHAR   \n",
       "3  TUNDAVIYA ASHISHKUMAR BHARATBHAI  ASHISHKUMAR BHARATBHAI TUNDAVIYA   \n",
       "4               Conelakanchu Vishal              VISHAL  CONELAKANCHU   \n",
       "\n",
       "         DOB  ... microsoft (Phone)  paytm (Phone)  shaadi (Phone)  \\\n",
       "0 1991-05-28  ...             False           True           False   \n",
       "1 1995-07-18  ...             False           True           False   \n",
       "2 1995-05-05  ...             False           True           False   \n",
       "3 1994-10-20  ...             False           True           False   \n",
       "4 1997-01-13  ...             False           True           False   \n",
       "\n",
       "   skype (Phone)  swiggy (Phone) toi (Phone)  whatsapp (Phone) yatra (Phone)  \\\n",
       "0          False            True       False              True         False   \n",
       "1          False            True        True              True         False   \n",
       "2          False            True       False              True         False   \n",
       "3          False           False       False              True         False   \n",
       "4          False            True        True              True         False   \n",
       "\n",
       "   zoho (Phone)  Black List Match  \n",
       "0         False             False  \n",
       "1         False             False  \n",
       "2         False             False  \n",
       "3         False             False  \n",
       "4         False             False  \n",
       "\n",
       "[5 rows x 68 columns]"
      ]
     },
     "execution_count": 12,
     "metadata": {},
     "output_type": "execute_result"
    }
   ],
   "source": [
    "df.head()"
   ]
  },
  {
   "cell_type": "code",
   "execution_count": 13,
   "metadata": {},
   "outputs": [],
   "source": [
    "# Calculate deciles\n",
    "deciles = np.percentile(df['DS_Score'].round(2), np.arange(0, 101, 10))\n",
    "\n",
    "# Assigning labels to deciles based on endpoints\n",
    "labels = [f\"{float(deciles[i])}-{float(deciles[i+1])}\" for i in range(len(deciles)-1)]\n",
    "\n",
    "# Creating deciles column\n",
    "df['DS_Score_bkt'] = pd.qcut(df['DS_Score'].round(2), q=10, labels=labels)"
   ]
  },
  {
   "cell_type": "code",
   "execution_count": 14,
   "metadata": {},
   "outputs": [],
   "source": [
    "master_data = pd.read_excel('master_data_Feb_1902.xlsx')"
   ]
  },
  {
   "cell_type": "code",
   "execution_count": 15,
   "metadata": {},
   "outputs": [],
   "source": [
    "df = pd.merge(df, master_data, on='phone_number', how='left')"
   ]
  },
  {
   "cell_type": "code",
   "execution_count": 16,
   "metadata": {},
   "outputs": [],
   "source": [
    "df['isAny (Email)'] = np.where(df[[x for x in df.columns if \"(Email)\" in x]].isna().sum(axis=1)>0,np.nan,\n",
    "    np.where(df[[x for x in df.columns if \"(Email)\" in x]].sum(axis=1) > 0,1,0))"
   ]
  },
  {
   "cell_type": "code",
   "execution_count": 17,
   "metadata": {},
   "outputs": [],
   "source": [
    "payu_data = pd.read_excel('/Users/keyurpethad/Library/CloudStorage/GoogleDrive-keyur@niro.money/My Drive/PayU Scrub/niromoney_combined_scores_external.xlsx', sheet_name='data')\n",
    "df = pd.merge(df, payu_data[['hashed_id', 'Payu Hit', 'stl_a_score', 'stl_a_score_cut']], left_on='hashed_phone', right_on='hashed_id', how = 'left')"
   ]
  },
  {
   "cell_type": "code",
   "execution_count": 20,
   "metadata": {},
   "outputs": [],
   "source": [
    "df[\"Feb'24_Bounced_flag\"] = np.where(df[\"Feb'24 Presentation\"].isin(['Bounced', 'Bounced (DPD)', 'NPA', 'NPA (unsettled)']),1,0)"
   ]
  },
  {
   "cell_type": "code",
   "execution_count": 25,
   "metadata": {},
   "outputs": [
    {
     "data": {
      "text/plain": [
       "Feb'24 Presentation\n",
       "Cleared            1544\n",
       "FORECLOSED          388\n",
       "Closed              315\n",
       "Bounced             310\n",
       "NPA (unsettled)     245\n",
       "Bounced (DPD)       162\n",
       "Advance             161\n",
       "NPA                  74\n",
       "T-BOUNCE             17\n",
       "Settled              10\n",
       "NaN                   1\n",
       "Name: count, dtype: int64"
      ]
     },
     "execution_count": 25,
     "metadata": {},
     "output_type": "execute_result"
    }
   ],
   "source": [
    "df[\"Feb'24 Presentation\"].value_counts(dropna=False)"
   ]
  },
  {
   "cell_type": "code",
   "execution_count": 22,
   "metadata": {},
   "outputs": [],
   "source": [
    "df.to_excel('datasutram_pred_master2.xlsx')"
   ]
  },
  {
   "cell_type": "code",
   "execution_count": null,
   "metadata": {},
   "outputs": [],
   "source": []
  }
 ],
 "metadata": {
  "kernelspec": {
   "display_name": "base",
   "language": "python",
   "name": "python3"
  },
  "language_info": {
   "codemirror_mode": {
    "name": "ipython",
    "version": 3
   },
   "file_extension": ".py",
   "mimetype": "text/x-python",
   "name": "python",
   "nbconvert_exporter": "python",
   "pygments_lexer": "ipython3",
   "version": "3.11.5"
  }
 },
 "nbformat": 4,
 "nbformat_minor": 2
}
