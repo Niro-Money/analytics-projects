{
 "cells": [
  {
   "cell_type": "code",
   "execution_count": 1,
   "metadata": {},
   "outputs": [
    {
     "name": "stderr",
     "output_type": "stream",
     "text": [
      "/Users/keyurpethad/anaconda3/lib/python3.11/site-packages/snowflake/connector/options.py:103: UserWarning: You have an incompatible version of 'pyarrow' installed (11.0.0), please install a version that adheres to: 'pyarrow<10.1.0,>=10.0.1; extra == \"pandas\"'\n",
      "  warn_incompatible_dep(\n"
     ]
    }
   ],
   "source": [
    "import pandas as pd\n",
    "import numpy as np\n",
    "from snowflake.sqlalchemy import URL\n",
    "import datetime as datetime\n",
    "import warnings\n",
    "from dateutil.relativedelta import relativedelta\n",
    "\n",
    "pd.set_option('display.max_columns', None)\n",
    "warnings.filterwarnings(\"ignore\")"
   ]
  },
  {
   "cell_type": "code",
   "execution_count": 2,
   "metadata": {},
   "outputs": [],
   "source": [
    "from sqlalchemy import create_engine\n",
    "\n",
    "\n",
    "class extractorFromQuery:\n",
    "    def __init__(self):\n",
    "        self.credentials = {\n",
    "            \"account\": \"qfi-niro\",\n",
    "            \"user\": \"keyur\",\n",
    "            \"password\": \"Keyur@17061996\",\n",
    "            \"warehouse\": \"NIRO_ANALYTICS_WAREHOUSE\",\n",
    "        }\n",
    "\n",
    "    def queryExecutor(self, query: str, *args):\n",
    "        engine = create_engine(URL(**self.credentials))\n",
    "        res = pd.read_sql_query(query, engine, params=args)\n",
    "        return res"
   ]
  },
  {
   "cell_type": "code",
   "execution_count": 3,
   "metadata": {},
   "outputs": [
    {
     "data": {
      "text/plain": [
       "(1312, 8)"
      ]
     },
     "execution_count": 3,
     "metadata": {},
     "output_type": "execute_result"
    }
   ],
   "source": [
    "disbursed_cases = \"\"\"\n",
    "    select * from (select \n",
    "    la.id,\n",
    "    la.user_id,\n",
    "    ou.full_name,\n",
    "    ou.pin_code,\n",
    "    o.phone_number,\n",
    "    o.pan_number,\n",
    "    ou.email,\n",
    "    CASE\n",
    "        when la.loan_disbursed_date_by_ops is null then date(la.disbursement_date)\n",
    "        else date(la.loan_disbursed_date_by_ops)\n",
    "    end as disbursement_date\n",
    "    from niro_rds.niro_data.core__public__loan_application la\n",
    "    left join NIRO_RDS.NIRO_DATA.CORE__PUBLIC__OFFERS o on o.id = la.offer_id\n",
    "    left join NIRO_RDS.NIRO_DATA.core__public__offer_user_details ou on ou.offer_id = o.id\n",
    "    where la.loan_application_status in ('CLOSED','LOAN_EXECUTED') and la.is_deleted = False and o.is_deleted = False\n",
    "    )\n",
    "    where disbursement_date between '2023-01-16' and '2023-01-31'\n",
    "\"\"\"\n",
    "total_disbursed_cases = extractorFromQuery().queryExecutor(disbursed_cases)\n",
    "total_disbursed_cases.shape"
   ]
  },
  {
   "cell_type": "code",
   "execution_count": 4,
   "metadata": {},
   "outputs": [
    {
     "data": {
      "text/html": [
       "<div>\n",
       "<style scoped>\n",
       "    .dataframe tbody tr th:only-of-type {\n",
       "        vertical-align: middle;\n",
       "    }\n",
       "\n",
       "    .dataframe tbody tr th {\n",
       "        vertical-align: top;\n",
       "    }\n",
       "\n",
       "    .dataframe thead th {\n",
       "        text-align: right;\n",
       "    }\n",
       "</style>\n",
       "<table border=\"1\" class=\"dataframe\">\n",
       "  <thead>\n",
       "    <tr style=\"text-align: right;\">\n",
       "      <th></th>\n",
       "      <th>id</th>\n",
       "      <th>user_id</th>\n",
       "      <th>full_name</th>\n",
       "      <th>pin_code</th>\n",
       "      <th>phone_number</th>\n",
       "      <th>pan_number</th>\n",
       "      <th>email</th>\n",
       "      <th>disbursement_date</th>\n",
       "    </tr>\n",
       "  </thead>\n",
       "  <tbody>\n",
       "    <tr>\n",
       "      <th>0</th>\n",
       "      <td>a87f1d24-76ca-483a-8cac-9bb855ec0a19</td>\n",
       "      <td>fb45b4d9-af5e-4339-b95b-57f65be66847</td>\n",
       "      <td>Muthumari S</td>\n",
       "      <td>600001</td>\n",
       "      <td>9176352553</td>\n",
       "      <td>GEHPM9441C</td>\n",
       "      <td>BHAVANIMARI2013@GMAIL.COM</td>\n",
       "      <td>2023-01-30</td>\n",
       "    </tr>\n",
       "    <tr>\n",
       "      <th>1</th>\n",
       "      <td>21842acc-ad27-498b-85bd-f695238fa7bf</td>\n",
       "      <td>ab4ec913-2431-4665-9d42-9ced8fee0c4f</td>\n",
       "      <td>Atiya Jabeen</td>\n",
       "      <td>500017</td>\n",
       "      <td>8328484445</td>\n",
       "      <td>AZJPA7250Q</td>\n",
       "      <td>MOHAMMEDMUMTAZULHAQUE1979@GMAIL.COM</td>\n",
       "      <td>2023-01-30</td>\n",
       "    </tr>\n",
       "    <tr>\n",
       "      <th>2</th>\n",
       "      <td>b0d4bb02-d1e1-42c1-bc28-2597eeb3bf09</td>\n",
       "      <td>7ad6ffd9-edeb-4aa2-800b-5a8cc2bee6e5</td>\n",
       "      <td>Naveen Sumersingh</td>\n",
       "      <td>127308</td>\n",
       "      <td>9992037532</td>\n",
       "      <td>BWTPN8157K</td>\n",
       "      <td>noemail@noemail.com</td>\n",
       "      <td>2023-01-30</td>\n",
       "    </tr>\n",
       "    <tr>\n",
       "      <th>3</th>\n",
       "      <td>6c186ce3-0f46-4b1b-9230-901e6bfc60fe</td>\n",
       "      <td>4cadb33b-bea8-41f6-9a9e-16796374432f</td>\n",
       "      <td>Deepak Kumar</td>\n",
       "      <td>243001</td>\n",
       "      <td>9870698471</td>\n",
       "      <td>HSXPK9021F</td>\n",
       "      <td>DEEPAK.DEEPAK.VERMA9433@GMAIL.COM</td>\n",
       "      <td>2023-01-24</td>\n",
       "    </tr>\n",
       "    <tr>\n",
       "      <th>4</th>\n",
       "      <td>cd88f593-aa97-42d1-84bd-2bd187f221fc</td>\n",
       "      <td>d01c8f22-240b-49b6-a556-af64ff2c4a87</td>\n",
       "      <td>Prem Chand Parjapati</td>\n",
       "      <td>829134</td>\n",
       "      <td>7488250028</td>\n",
       "      <td>ARKPP2469F</td>\n",
       "      <td>PREMPRAJAPATI557@GMAIL.COM</td>\n",
       "      <td>2023-01-20</td>\n",
       "    </tr>\n",
       "  </tbody>\n",
       "</table>\n",
       "</div>"
      ],
      "text/plain": [
       "                                     id                               user_id  \\\n",
       "0  a87f1d24-76ca-483a-8cac-9bb855ec0a19  fb45b4d9-af5e-4339-b95b-57f65be66847   \n",
       "1  21842acc-ad27-498b-85bd-f695238fa7bf  ab4ec913-2431-4665-9d42-9ced8fee0c4f   \n",
       "2  b0d4bb02-d1e1-42c1-bc28-2597eeb3bf09  7ad6ffd9-edeb-4aa2-800b-5a8cc2bee6e5   \n",
       "3  6c186ce3-0f46-4b1b-9230-901e6bfc60fe  4cadb33b-bea8-41f6-9a9e-16796374432f   \n",
       "4  cd88f593-aa97-42d1-84bd-2bd187f221fc  d01c8f22-240b-49b6-a556-af64ff2c4a87   \n",
       "\n",
       "              full_name pin_code phone_number  pan_number  \\\n",
       "0           Muthumari S   600001   9176352553  GEHPM9441C   \n",
       "1          Atiya Jabeen   500017   8328484445  AZJPA7250Q   \n",
       "2     Naveen Sumersingh   127308   9992037532  BWTPN8157K   \n",
       "3          Deepak Kumar   243001   9870698471  HSXPK9021F   \n",
       "4  Prem Chand Parjapati   829134   7488250028  ARKPP2469F   \n",
       "\n",
       "                                 email disbursement_date  \n",
       "0            BHAVANIMARI2013@GMAIL.COM        2023-01-30  \n",
       "1  MOHAMMEDMUMTAZULHAQUE1979@GMAIL.COM        2023-01-30  \n",
       "2                  noemail@noemail.com        2023-01-30  \n",
       "3    DEEPAK.DEEPAK.VERMA9433@GMAIL.COM        2023-01-24  \n",
       "4           PREMPRAJAPATI557@GMAIL.COM        2023-01-20  "
      ]
     },
     "execution_count": 4,
     "metadata": {},
     "output_type": "execute_result"
    }
   ],
   "source": [
    "total_disbursed_cases.head()"
   ]
  },
  {
   "cell_type": "code",
   "execution_count": 5,
   "metadata": {},
   "outputs": [],
   "source": [
    "total_disbursed_cases.to_csv('total_disbursed_cases.csv', index=False)"
   ]
  },
  {
   "cell_type": "markdown",
   "metadata": {},
   "source": [
    "#### Rejected cases"
   ]
  },
  {
   "cell_type": "code",
   "execution_count": 8,
   "metadata": {},
   "outputs": [
    {
     "data": {
      "text/plain": [
       "(3, 8)"
      ]
     },
     "execution_count": 8,
     "metadata": {},
     "output_type": "execute_result"
    }
   ],
   "source": [
    "ntc_cases = \"\"\"\n",
    "    select * from (select \n",
    "    la.id,\n",
    "    la.user_id,\n",
    "    ou.full_name,\n",
    "    ou.pin_code,\n",
    "    o.phone_number,\n",
    "    o.pan_number,\n",
    "    ou.email,\n",
    "    rank() over(partition by od.user_id order by od.created_at desc) as rnk\n",
    "    from analytics.offers.offer_details od\n",
    "    where od.bureau_score = -1\n",
    "    and od.created_at >= '2024-01-01'\n",
    "    )\n",
    "    where rnk = 1;\n",
    "\"\"\"\n",
    "\n",
    "total_ntc_cases = extractorFromQuery().queryExecutor(ntc_cases)\n",
    "total_ntc_cases.shape"
   ]
  },
  {
   "cell_type": "code",
   "execution_count": 9,
   "metadata": {},
   "outputs": [
    {
     "data": {
      "text/html": [
       "<div>\n",
       "<style scoped>\n",
       "    .dataframe tbody tr th:only-of-type {\n",
       "        vertical-align: middle;\n",
       "    }\n",
       "\n",
       "    .dataframe tbody tr th {\n",
       "        vertical-align: top;\n",
       "    }\n",
       "\n",
       "    .dataframe thead th {\n",
       "        text-align: right;\n",
       "    }\n",
       "</style>\n",
       "<table border=\"1\" class=\"dataframe\">\n",
       "  <thead>\n",
       "    <tr style=\"text-align: right;\">\n",
       "      <th></th>\n",
       "      <th>id</th>\n",
       "      <th>user_id</th>\n",
       "      <th>full_name</th>\n",
       "      <th>pin_code</th>\n",
       "      <th>phone_number</th>\n",
       "      <th>pan_number</th>\n",
       "      <th>email</th>\n",
       "      <th>rnk</th>\n",
       "    </tr>\n",
       "  </thead>\n",
       "  <tbody>\n",
       "    <tr>\n",
       "      <th>0</th>\n",
       "      <td>862c56fe-9712-4268-8e7e-de82614a734a</td>\n",
       "      <td>656e17e4-fa73-445d-9d87-63967cc1cee9</td>\n",
       "      <td>Sukhdeo Singh</td>\n",
       "      <td>305901</td>\n",
       "      <td>9660223191</td>\n",
       "      <td>GKIPS9356B</td>\n",
       "      <td>SDEVMSDRAWAT@GMAIL.COM</td>\n",
       "      <td>1</td>\n",
       "    </tr>\n",
       "    <tr>\n",
       "      <th>1</th>\n",
       "      <td>e770ca69-e27a-4186-bebb-bb1a97ce1e58</td>\n",
       "      <td>656e17e4-fa73-445d-9d87-63967cc1cee9</td>\n",
       "      <td>Sukhdev Singh</td>\n",
       "      <td>305924</td>\n",
       "      <td>9660223191</td>\n",
       "      <td>GKIPS9356B</td>\n",
       "      <td>noemail@noemail.com</td>\n",
       "      <td>1</td>\n",
       "    </tr>\n",
       "    <tr>\n",
       "      <th>2</th>\n",
       "      <td>b2e14432-71c7-43af-a992-34258b31d7c9</td>\n",
       "      <td>b062e354-b861-452c-b821-20d525dabcfd</td>\n",
       "      <td>Yashwant Singh</td>\n",
       "      <td>226001</td>\n",
       "      <td>9616380853</td>\n",
       "      <td>FYCPS3875N</td>\n",
       "      <td>SINGHYASHWANT445@GMAIL.COM</td>\n",
       "      <td>1</td>\n",
       "    </tr>\n",
       "  </tbody>\n",
       "</table>\n",
       "</div>"
      ],
      "text/plain": [
       "                                     id                               user_id  \\\n",
       "0  862c56fe-9712-4268-8e7e-de82614a734a  656e17e4-fa73-445d-9d87-63967cc1cee9   \n",
       "1  e770ca69-e27a-4186-bebb-bb1a97ce1e58  656e17e4-fa73-445d-9d87-63967cc1cee9   \n",
       "2  b2e14432-71c7-43af-a992-34258b31d7c9  b062e354-b861-452c-b821-20d525dabcfd   \n",
       "\n",
       "        full_name pin_code phone_number  pan_number  \\\n",
       "0   Sukhdeo Singh   305901   9660223191  GKIPS9356B   \n",
       "1   Sukhdev Singh   305924   9660223191  GKIPS9356B   \n",
       "2  Yashwant Singh   226001   9616380853  FYCPS3875N   \n",
       "\n",
       "                        email  rnk  \n",
       "0      SDEVMSDRAWAT@GMAIL.COM    1  \n",
       "1         noemail@noemail.com    1  \n",
       "2  SINGHYASHWANT445@GMAIL.COM    1  "
      ]
     },
     "execution_count": 9,
     "metadata": {},
     "output_type": "execute_result"
    }
   ],
   "source": [
    "total_ntc_cases"
   ]
  },
  {
   "cell_type": "code",
   "execution_count": 28,
   "metadata": {},
   "outputs": [
    {
     "data": {
      "text/plain": [
       "(24841, 2)"
      ]
     },
     "execution_count": 28,
     "metadata": {},
     "output_type": "execute_result"
    }
   ],
   "source": [
    "Q = \"\"\"select rejection_reason, count(rejection_reason)\n",
    "from niro_rds.niro_data.core__public__loan_application\n",
    "where loan_application_status ='REJECTED'\n",
    "group by rejection_reason\n",
    "order by count(rejection_reason) desc\n",
    "\"\"\"\n",
    "\n",
    "tp = extractorFromQuery().queryExecutor(Q)\n",
    "tp.shape"
   ]
  },
  {
   "cell_type": "code",
   "execution_count": 29,
   "metadata": {},
   "outputs": [],
   "source": [
    "tp.to_csv('Rejected.csv', index=False)"
   ]
  },
  {
   "cell_type": "code",
   "execution_count": null,
   "metadata": {},
   "outputs": [],
   "source": []
  }
 ],
 "metadata": {
  "kernelspec": {
   "display_name": "base",
   "language": "python",
   "name": "python3"
  },
  "language_info": {
   "codemirror_mode": {
    "name": "ipython",
    "version": 3
   },
   "file_extension": ".py",
   "mimetype": "text/x-python",
   "name": "python",
   "nbconvert_exporter": "python",
   "pygments_lexer": "ipython3",
   "version": "3.11.5"
  }
 },
 "nbformat": 4,
 "nbformat_minor": 2
}
