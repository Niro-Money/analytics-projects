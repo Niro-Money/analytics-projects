{
 "cells": [
  {
   "cell_type": "code",
   "execution_count": 2,
   "metadata": {},
   "outputs": [],
   "source": [
    "import pandas as pd\n",
    "import numpy as np"
   ]
  },
  {
   "cell_type": "code",
   "execution_count": 8,
   "metadata": {},
   "outputs": [],
   "source": [
    "df = pd.read_excel('monsoon_pred_master.xlsx', sheet_name='Data')"
   ]
  },
  {
   "cell_type": "code",
   "execution_count": 10,
   "metadata": {},
   "outputs": [],
   "source": [
    "# Calculate deciles\n",
    "deciles = np.percentile(df['prebuilt_prediction_model_1'].round(4), np.arange(0, 101, 20))\n",
    "\n",
    "# Assigning labels to deciles based on endpoints\n",
    "labels = [f\"{float(deciles[i])}-{float(deciles[i+1])}\" for i in range(len(deciles)-1)]\n",
    "\n",
    "# Creating deciles column\n",
    "df['prebuilt_prediction_model_1_bkt'] = pd.qcut(df['prebuilt_prediction_model_1'].round(4), q=5, labels=labels)"
   ]
  },
  {
   "cell_type": "code",
   "execution_count": 11,
   "metadata": {},
   "outputs": [],
   "source": [
    "# Calculate deciles\n",
    "deciles = np.percentile(df['prebuilt_prediction_model_2'].round(4), np.arange(0, 101, 20))\n",
    "\n",
    "# Assigning labels to deciles based on endpoints\n",
    "labels = [f\"{float(deciles[i])}-{float(deciles[i+1])}\" for i in range(len(deciles)-1)]\n",
    "\n",
    "# Creating deciles column\n",
    "df['prebuilt_prediction_model_2_bkt'] = pd.qcut(df['prebuilt_prediction_model_2'].round(4), q=5, labels=labels)"
   ]
  },
  {
   "cell_type": "code",
   "execution_count": 12,
   "metadata": {},
   "outputs": [],
   "source": [
    "df.to_excel('monsoon_pred_master2.xlsx')"
   ]
  },
  {
   "cell_type": "code",
   "execution_count": null,
   "metadata": {},
   "outputs": [],
   "source": []
  }
 ],
 "metadata": {
  "kernelspec": {
   "display_name": "base",
   "language": "python",
   "name": "python3"
  },
  "language_info": {
   "codemirror_mode": {
    "name": "ipython",
    "version": 3
   },
   "file_extension": ".py",
   "mimetype": "text/x-python",
   "name": "python",
   "nbconvert_exporter": "python",
   "pygments_lexer": "ipython3",
   "version": "3.1.0"
  }
 },
 "nbformat": 4,
 "nbformat_minor": 2
}
