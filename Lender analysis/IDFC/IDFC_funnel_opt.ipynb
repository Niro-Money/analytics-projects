{
 "cells": [
  {
   "cell_type": "code",
   "execution_count": 1,
   "metadata": {},
   "outputs": [
    {
     "name": "stderr",
     "output_type": "stream",
     "text": [
      "/Users/keyurpethad/anaconda3/lib/python3.11/site-packages/snowflake/connector/options.py:103: UserWarning: You have an incompatible version of 'pyarrow' installed (11.0.0), please install a version that adheres to: 'pyarrow<10.1.0,>=10.0.1; extra == \"pandas\"'\n",
      "  warn_incompatible_dep(\n"
     ]
    }
   ],
   "source": [
    "import pandas as pd\n",
    "import numpy as np\n",
    "import matplotlib.pyplot as plt\n",
    "from snowflake.sqlalchemy import URL\n",
    "pd.set_option('display.max_columns', None)"
   ]
  },
  {
   "cell_type": "code",
   "execution_count": 2,
   "metadata": {},
   "outputs": [],
   "source": [
    "from sqlalchemy import create_engine\n",
    "\n",
    "\n",
    "class extractorFromQuery:\n",
    "    def __init__(self):\n",
    "        self.credentials = {\n",
    "            \"account\": \"qfi-niro\",\n",
    "            \"user\": \"keyur\",\n",
    "            \"password\": \"Keyur@17061996\",\n",
    "            \"warehouse\": \"NIRO_ANALYTICS_WAREHOUSE\",\n",
    "        }\n",
    "\n",
    "    def queryExecutor(self, query: str, *args):\n",
    "        engine = create_engine(URL(**self.credentials))\n",
    "        res = pd.read_sql_query(query, engine, params=args)\n",
    "        return res"
   ]
  },
  {
   "cell_type": "code",
   "execution_count": 3,
   "metadata": {},
   "outputs": [
    {
     "data": {
      "text/plain": [
       "(5120822, 18)"
      ]
     },
     "execution_count": 3,
     "metadata": {},
     "output_type": "execute_result"
    }
   ],
   "source": [
    "Q = \"\"\"\n",
    "        select * from (select\n",
    "        distinct id.crn,\n",
    "        id.los_app_id,\n",
    "        id.gender,\n",
    "        id.age,\n",
    "        id.pincode,\n",
    "        o.phone_number as \"Phone_Number\",\n",
    "        p.pan_no as \"Pan_Number\",\n",
    "        o.category,\n",
    "        o.riskband2,\n",
    "        o.max_amount, \n",
    "        o.interest_rate_perc,\n",
    "        o.propensity,\n",
    "        o.naps_score,\n",
    "        o.dec_reason,\n",
    "        la.loan_application_status,\n",
    "        CASE when la.loan_disbursed_date_by_ops is null then date(la.disbursement_date)\n",
    "            else date(la.loan_disbursed_date_by_ops)\n",
    "        end as disbursement_date,\n",
    "        rank() over(partition by o.user_id order by o.created_at desc) as rnk\n",
    "        from \n",
    "        ANALYTICS.CRIF_FILES.idfc_demog as id \n",
    "        left join analytics.offers.offer_details o on id.crn = o.hashed_phone\n",
    "        left join niro_rds.niro_data.core__public__loan_application la on la.user_id = o.user_id\n",
    "        left join analytics.offers.personal_info as p on o.pii_id=p.pii_id\n",
    "        left join analytics.offers.tradeline_info tli on o.tli_id = tli.tli_id\n",
    "        where o.dec_reason = 'NOT DECLINED' \n",
    "        and o.platform_partner = 'Snapdeal' \n",
    "        and (p.pan_no is not null and pan_no<>'nan') \n",
    "        and o.created_at between '2023-01-01' and '2023-10-27'\n",
    "        )\n",
    "where rnk = 1;\n",
    "\"\"\"\n",
    "\n",
    "idfc_offers = (\n",
    "    extractorFromQuery()\n",
    "    .queryExecutor(Q)\n",
    ")\n",
    "\n",
    "idfc_offers.shape"
   ]
  },
  {
   "cell_type": "markdown",
   "metadata": {},
   "source": [
    "#### Creating Aggregate CRIF tradeline data"
   ]
  },
  {
   "cell_type": "code",
   "execution_count": 4,
   "metadata": {},
   "outputs": [
    {
     "data": {
      "text/plain": [
       "(2544582, 2)"
      ]
     },
     "execution_count": 4,
     "metadata": {},
     "output_type": "execute_result"
    }
   ],
   "source": [
    "Q = \"\"\"select los_app_id, count(los_app_id) as no_tr_l6m from(select los_app_id\n",
    "from analytics.crif_files.account\n",
    "where disbursed_dt >= '2023-04-27'\n",
    ")\n",
    "group by los_app_id\"\"\"\n",
    "\n",
    "no_tr_l6m = (\n",
    "    extractorFromQuery()\n",
    "    .queryExecutor(Q)\n",
    ")\n",
    "no_tr_l6m.shape"
   ]
  },
  {
   "cell_type": "code",
   "execution_count": 5,
   "metadata": {},
   "outputs": [
    {
     "data": {
      "text/plain": [
       "(4551533, 2)"
      ]
     },
     "execution_count": 5,
     "metadata": {},
     "output_type": "execute_result"
    }
   ],
   "source": [
    "Q = \"\"\"select los_app_id, max(credit_card_util) as max_cc_util from(select los_app_id, \n",
    "CASE when (credit_limit > 0) then (current_bal/credit_limit) \n",
    "when (disbursed_amt > 0) then (current_bal/disbursed_amt)\n",
    "else null end as credit_card_util\n",
    "from analytics.crif_files.account\n",
    "where acct_type in ('Secured Credit Card', 'Credit Card', 'Kisan Credit Card', 'Loan on Credit Card', 'Loan against Card', 'Corporate Credit Card', 'Fleet Card')\n",
    ")\n",
    "group by los_app_id\"\"\"\n",
    "\n",
    "max_cc_util = (\n",
    "    extractorFromQuery()\n",
    "    .queryExecutor(Q)\n",
    ")\n",
    "max_cc_util.shape"
   ]
  },
  {
   "cell_type": "code",
   "execution_count": 6,
   "metadata": {},
   "outputs": [
    {
     "data": {
      "text/html": [
       "<div>\n",
       "<style scoped>\n",
       "    .dataframe tbody tr th:only-of-type {\n",
       "        vertical-align: middle;\n",
       "    }\n",
       "\n",
       "    .dataframe tbody tr th {\n",
       "        vertical-align: top;\n",
       "    }\n",
       "\n",
       "    .dataframe thead th {\n",
       "        text-align: right;\n",
       "    }\n",
       "</style>\n",
       "<table border=\"1\" class=\"dataframe\">\n",
       "  <thead>\n",
       "    <tr style=\"text-align: right;\">\n",
       "      <th></th>\n",
       "      <th>los_app_id</th>\n",
       "      <th>max_cc_util</th>\n",
       "    </tr>\n",
       "  </thead>\n",
       "  <tbody>\n",
       "    <tr>\n",
       "      <th>0</th>\n",
       "      <td>GYBPS3059A</td>\n",
       "      <td>0.000000</td>\n",
       "    </tr>\n",
       "    <tr>\n",
       "      <th>1</th>\n",
       "      <td>FWSPM0771F</td>\n",
       "      <td>0.893987</td>\n",
       "    </tr>\n",
       "  </tbody>\n",
       "</table>\n",
       "</div>"
      ],
      "text/plain": [
       "   los_app_id  max_cc_util\n",
       "0  GYBPS3059A     0.000000\n",
       "1  FWSPM0771F     0.893987"
      ]
     },
     "execution_count": 6,
     "metadata": {},
     "output_type": "execute_result"
    }
   ],
   "source": [
    "max_cc_util.head(2)"
   ]
  },
  {
   "cell_type": "code",
   "execution_count": 7,
   "metadata": {},
   "outputs": [
    {
     "data": {
      "text/plain": [
       "(5088275, 2)"
      ]
     },
     "execution_count": 7,
     "metadata": {},
     "output_type": "execute_result"
    }
   ],
   "source": [
    "Q = \"\"\"select distinct crn, score as crif_score\n",
    "from analytics.crif_files.idfc_output\n",
    "where dec_reason = 'NOT DECLINED'\"\"\"\n",
    "\n",
    "crif_score = (\n",
    "    extractorFromQuery()\n",
    "    .queryExecutor(Q)\n",
    ")\n",
    "crif_score.shape"
   ]
  },
  {
   "cell_type": "code",
   "execution_count": 8,
   "metadata": {},
   "outputs": [
    {
     "data": {
      "text/plain": [
       "465807"
      ]
     },
     "execution_count": 8,
     "metadata": {},
     "output_type": "execute_result"
    }
   ],
   "source": [
    "crif_score.loc[crif_score.crif_score.astype(float) < 650, 'crif_score'].value_counts(dropna=False).sum()"
   ]
  },
  {
   "cell_type": "code",
   "execution_count": 9,
   "metadata": {},
   "outputs": [
    {
     "data": {
      "text/html": [
       "<div>\n",
       "<style scoped>\n",
       "    .dataframe tbody tr th:only-of-type {\n",
       "        vertical-align: middle;\n",
       "    }\n",
       "\n",
       "    .dataframe tbody tr th {\n",
       "        vertical-align: top;\n",
       "    }\n",
       "\n",
       "    .dataframe thead th {\n",
       "        text-align: right;\n",
       "    }\n",
       "</style>\n",
       "<table border=\"1\" class=\"dataframe\">\n",
       "  <thead>\n",
       "    <tr style=\"text-align: right;\">\n",
       "      <th></th>\n",
       "      <th>crn</th>\n",
       "      <th>carded</th>\n",
       "      <th>sector</th>\n",
       "    </tr>\n",
       "  </thead>\n",
       "  <tbody>\n",
       "    <tr>\n",
       "      <th>0</th>\n",
       "      <td>3f0869deb5471d87e68d08ec6e49a51644870a22edd357...</td>\n",
       "      <td>1</td>\n",
       "      <td>Credit Card</td>\n",
       "    </tr>\n",
       "    <tr>\n",
       "      <th>1</th>\n",
       "      <td>a31b8e7d586fd01585773f41a6a3c3056b62b4442c8816...</td>\n",
       "      <td>1</td>\n",
       "      <td>Credit Card</td>\n",
       "    </tr>\n",
       "    <tr>\n",
       "      <th>2</th>\n",
       "      <td>beea6e141a54c317bdc5a99ec963107f9ef661165d1413...</td>\n",
       "      <td>1</td>\n",
       "      <td>Credit Card</td>\n",
       "    </tr>\n",
       "    <tr>\n",
       "      <th>3</th>\n",
       "      <td>523549894bee556b5ffe3a458cfa67833348c7b58fd543...</td>\n",
       "      <td>1</td>\n",
       "      <td>Credit Card</td>\n",
       "    </tr>\n",
       "    <tr>\n",
       "      <th>4</th>\n",
       "      <td>dd09be5da90ccca8bb941470c2acb5b8c2b89ff4ae8224...</td>\n",
       "      <td>1</td>\n",
       "      <td>Credit Card</td>\n",
       "    </tr>\n",
       "  </tbody>\n",
       "</table>\n",
       "</div>"
      ],
      "text/plain": [
       "                                                 crn  carded       sector\n",
       "0  3f0869deb5471d87e68d08ec6e49a51644870a22edd357...       1  Credit Card\n",
       "1  a31b8e7d586fd01585773f41a6a3c3056b62b4442c8816...       1  Credit Card\n",
       "2  beea6e141a54c317bdc5a99ec963107f9ef661165d1413...       1  Credit Card\n",
       "3  523549894bee556b5ffe3a458cfa67833348c7b58fd543...       1  Credit Card\n",
       "4  dd09be5da90ccca8bb941470c2acb5b8c2b89ff4ae8224...       1  Credit Card"
      ]
     },
     "execution_count": 9,
     "metadata": {},
     "output_type": "execute_result"
    }
   ],
   "source": [
    "Q = \"\"\"select distinct crn,\n",
    "1 as carded,\n",
    "sector\n",
    "from analytics.crif_files.idfc_output\n",
    "where sector in ('Secured Credit Card', 'Credit Card', 'Kisan Credit Card', 'Loan on Credit Card', 'Loan against Card', 'Corporate Credit Card', 'Fleet Card')\"\"\"\n",
    "\n",
    "carded = (\n",
    "    extractorFromQuery()\n",
    "    .queryExecutor(Q)\n",
    ")\n",
    "carded.head()"
   ]
  },
  {
   "cell_type": "code",
   "execution_count": 10,
   "metadata": {},
   "outputs": [
    {
     "data": {
      "text/html": [
       "<div>\n",
       "<style scoped>\n",
       "    .dataframe tbody tr th:only-of-type {\n",
       "        vertical-align: middle;\n",
       "    }\n",
       "\n",
       "    .dataframe tbody tr th {\n",
       "        vertical-align: top;\n",
       "    }\n",
       "\n",
       "    .dataframe thead th {\n",
       "        text-align: right;\n",
       "    }\n",
       "</style>\n",
       "<table border=\"1\" class=\"dataframe\">\n",
       "  <thead>\n",
       "    <tr style=\"text-align: right;\">\n",
       "      <th></th>\n",
       "      <th>crn</th>\n",
       "      <th>MAX(EVER_DELQ)</th>\n",
       "      <th>MAX(MAX_DELQ24)</th>\n",
       "      <th>MAX(MAX_DELQ12)</th>\n",
       "      <th>MAX(MAX_DELQ9)</th>\n",
       "      <th>MAX(MAX_DELQ6)</th>\n",
       "      <th>MAX(MAX_DELQ3)</th>\n",
       "      <th>MIN(CREDIT_LIMIT_SANTIONEDAMOUNT)</th>\n",
       "      <th>MAX(WRITEOFF_STATUS)</th>\n",
       "    </tr>\n",
       "  </thead>\n",
       "  <tbody>\n",
       "    <tr>\n",
       "      <th>0</th>\n",
       "      <td>e0aae95d26d508aa4c27c11aee787e5d30b96e31ebddc6...</td>\n",
       "      <td>0</td>\n",
       "      <td>0</td>\n",
       "      <td>0</td>\n",
       "      <td>0</td>\n",
       "      <td>0</td>\n",
       "      <td>0</td>\n",
       "      <td>NaN</td>\n",
       "      <td>0</td>\n",
       "    </tr>\n",
       "    <tr>\n",
       "      <th>1</th>\n",
       "      <td>063370145bd02b99c70c2944fa9be47729c88f97adbb38...</td>\n",
       "      <td>165</td>\n",
       "      <td>57</td>\n",
       "      <td>0</td>\n",
       "      <td>0</td>\n",
       "      <td>0</td>\n",
       "      <td>0</td>\n",
       "      <td>0.0</td>\n",
       "      <td>0</td>\n",
       "    </tr>\n",
       "    <tr>\n",
       "      <th>2</th>\n",
       "      <td>a38c9bc4ff8d2a1d267346707fc86ab6f890b56d0c45e7...</td>\n",
       "      <td>0</td>\n",
       "      <td>0</td>\n",
       "      <td>0</td>\n",
       "      <td>0</td>\n",
       "      <td>0</td>\n",
       "      <td>0</td>\n",
       "      <td>49000.0</td>\n",
       "      <td>0</td>\n",
       "    </tr>\n",
       "    <tr>\n",
       "      <th>3</th>\n",
       "      <td>8a6506bc6a4cfbd6663af46e9756f29cf85b8c10bc51fc...</td>\n",
       "      <td>0</td>\n",
       "      <td>0</td>\n",
       "      <td>0</td>\n",
       "      <td>0</td>\n",
       "      <td>0</td>\n",
       "      <td>0</td>\n",
       "      <td>30000.0</td>\n",
       "      <td>0</td>\n",
       "    </tr>\n",
       "    <tr>\n",
       "      <th>4</th>\n",
       "      <td>700c8d6781614f836e3ef9292f845abde9cf7c9eea7626...</td>\n",
       "      <td>0</td>\n",
       "      <td>0</td>\n",
       "      <td>0</td>\n",
       "      <td>0</td>\n",
       "      <td>0</td>\n",
       "      <td>0</td>\n",
       "      <td>NaN</td>\n",
       "      <td>0</td>\n",
       "    </tr>\n",
       "  </tbody>\n",
       "</table>\n",
       "</div>"
      ],
      "text/plain": [
       "                                                 crn  MAX(EVER_DELQ)  \\\n",
       "0  e0aae95d26d508aa4c27c11aee787e5d30b96e31ebddc6...               0   \n",
       "1  063370145bd02b99c70c2944fa9be47729c88f97adbb38...             165   \n",
       "2  a38c9bc4ff8d2a1d267346707fc86ab6f890b56d0c45e7...               0   \n",
       "3  8a6506bc6a4cfbd6663af46e9756f29cf85b8c10bc51fc...               0   \n",
       "4  700c8d6781614f836e3ef9292f845abde9cf7c9eea7626...               0   \n",
       "\n",
       "   MAX(MAX_DELQ24)  MAX(MAX_DELQ12)  MAX(MAX_DELQ9)  MAX(MAX_DELQ6)  \\\n",
       "0                0                0               0               0   \n",
       "1               57                0               0               0   \n",
       "2                0                0               0               0   \n",
       "3                0                0               0               0   \n",
       "4                0                0               0               0   \n",
       "\n",
       "   MAX(MAX_DELQ3)  MIN(CREDIT_LIMIT_SANTIONEDAMOUNT)  MAX(WRITEOFF_STATUS)  \n",
       "0               0                                NaN                     0  \n",
       "1               0                                0.0                     0  \n",
       "2               0                            49000.0                     0  \n",
       "3               0                            30000.0                     0  \n",
       "4               0                                NaN                     0  "
      ]
     },
     "execution_count": 10,
     "metadata": {},
     "output_type": "execute_result"
    }
   ],
   "source": [
    "Q = \"\"\"select crn,\n",
    "max(ever_delq),\n",
    "max(max_delq24),\n",
    "max(max_delq12),\n",
    "max(max_delq9),\n",
    "max(max_delq6),\n",
    "max(max_delq3),\n",
    "min(credit_limit_santionedamount),\n",
    "max(writeoff_status)\n",
    "from analytics.crif_files.idfc_output\n",
    "group by crn\"\"\"\n",
    "\n",
    "perf = (\n",
    "    extractorFromQuery()\n",
    "    .queryExecutor(Q)\n",
    ")\n",
    "perf.head()"
   ]
  },
  {
   "cell_type": "markdown",
   "metadata": {},
   "source": [
    "#### Creating Aggregate CRIF Enquiry data"
   ]
  },
  {
   "cell_type": "code",
   "execution_count": 11,
   "metadata": {},
   "outputs": [
    {
     "data": {
      "text/plain": [
       "(6759908, 3)"
      ]
     },
     "execution_count": 11,
     "metadata": {},
     "output_type": "execute_result"
    }
   ],
   "source": [
    "Q = \"\"\"select crn, los_app_id, enquirydate\n",
    "from analytics.crif_files.idfc_inq\"\"\"\n",
    "\n",
    "idfc_inq = (\n",
    "    extractorFromQuery()\n",
    "    .queryExecutor(Q)\n",
    ")\n",
    "idfc_inq.shape"
   ]
  },
  {
   "cell_type": "code",
   "execution_count": 12,
   "metadata": {},
   "outputs": [
    {
     "data": {
      "text/html": [
       "<div>\n",
       "<style scoped>\n",
       "    .dataframe tbody tr th:only-of-type {\n",
       "        vertical-align: middle;\n",
       "    }\n",
       "\n",
       "    .dataframe tbody tr th {\n",
       "        vertical-align: top;\n",
       "    }\n",
       "\n",
       "    .dataframe thead th {\n",
       "        text-align: right;\n",
       "    }\n",
       "</style>\n",
       "<table border=\"1\" class=\"dataframe\">\n",
       "  <thead>\n",
       "    <tr style=\"text-align: right;\">\n",
       "      <th></th>\n",
       "      <th>crn</th>\n",
       "      <th>los_app_id</th>\n",
       "      <th>enquirydate</th>\n",
       "    </tr>\n",
       "  </thead>\n",
       "  <tbody>\n",
       "    <tr>\n",
       "      <th>0</th>\n",
       "      <td>df91521a9cd92180ed87de421fc92a2caeaa7d337fa7d4...</td>\n",
       "      <td>BOGPS2807N</td>\n",
       "      <td>None</td>\n",
       "    </tr>\n",
       "    <tr>\n",
       "      <th>1</th>\n",
       "      <td>aca91075d8471823343db9e3775f8ec0fed6b4bb48cef5...</td>\n",
       "      <td>BNJPM5605E</td>\n",
       "      <td>None</td>\n",
       "    </tr>\n",
       "    <tr>\n",
       "      <th>2</th>\n",
       "      <td>53f8603d0ac16fffa2943a0d6dcfda00eb6ccdcfe9413e...</td>\n",
       "      <td>BDTPM6007L</td>\n",
       "      <td>2022-08-02</td>\n",
       "    </tr>\n",
       "    <tr>\n",
       "      <th>3</th>\n",
       "      <td>2200c8e731f346643162544fe9cbec31a2438027f70853...</td>\n",
       "      <td>BOKPG3619C</td>\n",
       "      <td>2021-12-08</td>\n",
       "    </tr>\n",
       "    <tr>\n",
       "      <th>4</th>\n",
       "      <td>2200c8e731f346643162544fe9cbec31a2438027f70853...</td>\n",
       "      <td>BOKPG3619C</td>\n",
       "      <td>2022-03-15</td>\n",
       "    </tr>\n",
       "  </tbody>\n",
       "</table>\n",
       "</div>"
      ],
      "text/plain": [
       "                                                 crn  los_app_id enquirydate\n",
       "0  df91521a9cd92180ed87de421fc92a2caeaa7d337fa7d4...  BOGPS2807N        None\n",
       "1  aca91075d8471823343db9e3775f8ec0fed6b4bb48cef5...  BNJPM5605E        None\n",
       "2  53f8603d0ac16fffa2943a0d6dcfda00eb6ccdcfe9413e...  BDTPM6007L  2022-08-02\n",
       "3  2200c8e731f346643162544fe9cbec31a2438027f70853...  BOKPG3619C  2021-12-08\n",
       "4  2200c8e731f346643162544fe9cbec31a2438027f70853...  BOKPG3619C  2022-03-15"
      ]
     },
     "execution_count": 12,
     "metadata": {},
     "output_type": "execute_result"
    }
   ],
   "source": [
    "idfc_inq.head()"
   ]
  },
  {
   "cell_type": "code",
   "execution_count": 13,
   "metadata": {},
   "outputs": [
    {
     "data": {
      "text/plain": [
       "crn                  0\n",
       "los_app_id           0\n",
       "enquirydate    3672472\n",
       "dtype: int64"
      ]
     },
     "execution_count": 13,
     "metadata": {},
     "output_type": "execute_result"
    }
   ],
   "source": [
    "idfc_inq.isna().sum()"
   ]
  },
  {
   "cell_type": "code",
   "execution_count": 14,
   "metadata": {},
   "outputs": [
    {
     "data": {
      "text/html": [
       "<div>\n",
       "<style scoped>\n",
       "    .dataframe tbody tr th:only-of-type {\n",
       "        vertical-align: middle;\n",
       "    }\n",
       "\n",
       "    .dataframe tbody tr th {\n",
       "        vertical-align: top;\n",
       "    }\n",
       "\n",
       "    .dataframe thead th {\n",
       "        text-align: right;\n",
       "    }\n",
       "</style>\n",
       "<table border=\"1\" class=\"dataframe\">\n",
       "  <thead>\n",
       "    <tr style=\"text-align: right;\">\n",
       "      <th></th>\n",
       "      <th>crn</th>\n",
       "      <th>enquiry_count_all</th>\n",
       "      <th>enquiry_count_date_present</th>\n",
       "      <th>enquiry_count_l6m</th>\n",
       "      <th>enquiry_count_l3m</th>\n",
       "    </tr>\n",
       "  </thead>\n",
       "  <tbody>\n",
       "    <tr>\n",
       "      <th>0</th>\n",
       "      <td>000000d18aa62311f6b4dfa6efd1e5b21ae32aa43e910c...</td>\n",
       "      <td>1</td>\n",
       "      <td>NaN</td>\n",
       "      <td>NaN</td>\n",
       "      <td>NaN</td>\n",
       "    </tr>\n",
       "    <tr>\n",
       "      <th>1</th>\n",
       "      <td>00000829e16edd2b5faea1943fe3cd334993383ed2eff0...</td>\n",
       "      <td>6</td>\n",
       "      <td>6.0</td>\n",
       "      <td>NaN</td>\n",
       "      <td>NaN</td>\n",
       "    </tr>\n",
       "    <tr>\n",
       "      <th>2</th>\n",
       "      <td>00000d66f992516ffa7cc547447ec0de596d3363049ca0...</td>\n",
       "      <td>3</td>\n",
       "      <td>3.0</td>\n",
       "      <td>1.0</td>\n",
       "      <td>NaN</td>\n",
       "    </tr>\n",
       "    <tr>\n",
       "      <th>3</th>\n",
       "      <td>00000e3f4049956668adc7fb95e41f8d081b39350abb86...</td>\n",
       "      <td>1</td>\n",
       "      <td>NaN</td>\n",
       "      <td>NaN</td>\n",
       "      <td>NaN</td>\n",
       "    </tr>\n",
       "    <tr>\n",
       "      <th>4</th>\n",
       "      <td>0000148e90dfd89aaa6dc126feb4dba636afa1fb1be3b5...</td>\n",
       "      <td>1</td>\n",
       "      <td>NaN</td>\n",
       "      <td>NaN</td>\n",
       "      <td>NaN</td>\n",
       "    </tr>\n",
       "  </tbody>\n",
       "</table>\n",
       "</div>"
      ],
      "text/plain": [
       "                                                 crn  enquiry_count_all  \\\n",
       "0  000000d18aa62311f6b4dfa6efd1e5b21ae32aa43e910c...                  1   \n",
       "1  00000829e16edd2b5faea1943fe3cd334993383ed2eff0...                  6   \n",
       "2  00000d66f992516ffa7cc547447ec0de596d3363049ca0...                  3   \n",
       "3  00000e3f4049956668adc7fb95e41f8d081b39350abb86...                  1   \n",
       "4  0000148e90dfd89aaa6dc126feb4dba636afa1fb1be3b5...                  1   \n",
       "\n",
       "   enquiry_count_date_present  enquiry_count_l6m  enquiry_count_l3m  \n",
       "0                         NaN                NaN                NaN  \n",
       "1                         6.0                NaN                NaN  \n",
       "2                         3.0                1.0                NaN  \n",
       "3                         NaN                NaN                NaN  \n",
       "4                         NaN                NaN                NaN  "
      ]
     },
     "execution_count": 14,
     "metadata": {},
     "output_type": "execute_result"
    }
   ],
   "source": [
    "idfc_inq_df = idfc_inq.groupby(['crn'])['los_app_id'].count().reset_index().rename(columns = {'los_app_id':'enquiry_count_all'}).merge(\n",
    "idfc_inq[idfc_inq.enquirydate.notna()].groupby(['crn'])['los_app_id'].count().reset_index().rename(columns = {'los_app_id':'enquiry_count_date_present'}), on = 'crn', how = 'left').merge(\n",
    "idfc_inq[pd.to_datetime(idfc_inq['enquirydate']) >= pd.to_datetime('2023-05-01')].groupby(['crn'])['los_app_id'].count().reset_index().rename(columns = {'los_app_id':'enquiry_count_l6m'}), on = 'crn', how = 'left').merge(\n",
    "idfc_inq[pd.to_datetime(idfc_inq['enquirydate']) >= pd.to_datetime('2023-08-01')].groupby(['crn'])['los_app_id'].count().reset_index().rename(columns = {'los_app_id':'enquiry_count_l3m'}), on = 'crn', how = 'left')\n",
    "idfc_inq_df.head()\n"
   ]
  },
  {
   "cell_type": "markdown",
   "metadata": {},
   "source": [
    "#### Approved base"
   ]
  },
  {
   "cell_type": "code",
   "execution_count": 15,
   "metadata": {},
   "outputs": [
    {
     "data": {
      "text/plain": [
       "(172671, 8)"
      ]
     },
     "execution_count": 15,
     "metadata": {},
     "output_type": "execute_result"
    }
   ],
   "source": [
    "Q = \"\"\"select source_request_id as crn,\n",
    "bureau_score,\n",
    "exist_customer_flag,\n",
    "loan_amount,\n",
    "risk_segment,\n",
    "roi,\n",
    "yob,\n",
    "1 as approved\n",
    "from analytics.temp_test.idfc_whitelisted\"\"\"\n",
    "\n",
    "idfc_approved = (\n",
    "    extractorFromQuery()\n",
    "    .queryExecutor(Q)\n",
    ")\n",
    "idfc_approved.shape"
   ]
  },
  {
   "cell_type": "code",
   "execution_count": 16,
   "metadata": {},
   "outputs": [
    {
     "data": {
      "text/html": [
       "<div>\n",
       "<style scoped>\n",
       "    .dataframe tbody tr th:only-of-type {\n",
       "        vertical-align: middle;\n",
       "    }\n",
       "\n",
       "    .dataframe tbody tr th {\n",
       "        vertical-align: top;\n",
       "    }\n",
       "\n",
       "    .dataframe thead th {\n",
       "        text-align: right;\n",
       "    }\n",
       "</style>\n",
       "<table border=\"1\" class=\"dataframe\">\n",
       "  <thead>\n",
       "    <tr style=\"text-align: right;\">\n",
       "      <th></th>\n",
       "      <th>crn</th>\n",
       "      <th>bureau_score</th>\n",
       "      <th>exist_customer_flag</th>\n",
       "      <th>loan_amount</th>\n",
       "      <th>risk_segment</th>\n",
       "      <th>roi</th>\n",
       "      <th>yob</th>\n",
       "      <th>approved</th>\n",
       "    </tr>\n",
       "  </thead>\n",
       "  <tbody>\n",
       "    <tr>\n",
       "      <th>0</th>\n",
       "      <td>00d7bcbc50e0b281ca479ff7e469ba51f0b2122373c9a4...</td>\n",
       "      <td>844</td>\n",
       "      <td>0</td>\n",
       "      <td>500000</td>\n",
       "      <td>Low Risk</td>\n",
       "      <td>14.99</td>\n",
       "      <td>1979</td>\n",
       "      <td>1</td>\n",
       "    </tr>\n",
       "    <tr>\n",
       "      <th>1</th>\n",
       "      <td>02065948428f32b6b9685738576ccbb84d6395e71bf8b2...</td>\n",
       "      <td>681</td>\n",
       "      <td>0</td>\n",
       "      <td>500000</td>\n",
       "      <td>Medium Risk</td>\n",
       "      <td>20.99</td>\n",
       "      <td>1982</td>\n",
       "      <td>1</td>\n",
       "    </tr>\n",
       "    <tr>\n",
       "      <th>2</th>\n",
       "      <td>06d0ade2f5f216b2e2bd17237734d913cb9106d989dd1d...</td>\n",
       "      <td>842</td>\n",
       "      <td>0</td>\n",
       "      <td>500000</td>\n",
       "      <td>Low Risk</td>\n",
       "      <td>14.99</td>\n",
       "      <td>1967</td>\n",
       "      <td>1</td>\n",
       "    </tr>\n",
       "    <tr>\n",
       "      <th>3</th>\n",
       "      <td>08bdc62b40aef6b24c9bb449315313dc66c65e537cbffb...</td>\n",
       "      <td>758</td>\n",
       "      <td>0</td>\n",
       "      <td>80000</td>\n",
       "      <td>High Risk</td>\n",
       "      <td>19.49</td>\n",
       "      <td>1984</td>\n",
       "      <td>1</td>\n",
       "    </tr>\n",
       "    <tr>\n",
       "      <th>4</th>\n",
       "      <td>096d38b407683f9e15f31ce8cddddd5927ba5e755248f1...</td>\n",
       "      <td>776</td>\n",
       "      <td>0</td>\n",
       "      <td>75000</td>\n",
       "      <td>Low Risk</td>\n",
       "      <td>16.49</td>\n",
       "      <td>1985</td>\n",
       "      <td>1</td>\n",
       "    </tr>\n",
       "  </tbody>\n",
       "</table>\n",
       "</div>"
      ],
      "text/plain": [
       "                                                 crn  bureau_score  \\\n",
       "0  00d7bcbc50e0b281ca479ff7e469ba51f0b2122373c9a4...           844   \n",
       "1  02065948428f32b6b9685738576ccbb84d6395e71bf8b2...           681   \n",
       "2  06d0ade2f5f216b2e2bd17237734d913cb9106d989dd1d...           842   \n",
       "3  08bdc62b40aef6b24c9bb449315313dc66c65e537cbffb...           758   \n",
       "4  096d38b407683f9e15f31ce8cddddd5927ba5e755248f1...           776   \n",
       "\n",
       "   exist_customer_flag  loan_amount risk_segment    roi   yob  approved  \n",
       "0                    0       500000     Low Risk  14.99  1979         1  \n",
       "1                    0       500000  Medium Risk  20.99  1982         1  \n",
       "2                    0       500000     Low Risk  14.99  1967         1  \n",
       "3                    0        80000    High Risk  19.49  1984         1  \n",
       "4                    0        75000     Low Risk  16.49  1985         1  "
      ]
     },
     "execution_count": 16,
     "metadata": {},
     "output_type": "execute_result"
    }
   ],
   "source": [
    "idfc_approved.head()"
   ]
  },
  {
   "cell_type": "code",
   "execution_count": 17,
   "metadata": {},
   "outputs": [
    {
     "data": {
      "text/plain": [
       "(5495947, 42)"
      ]
     },
     "execution_count": 17,
     "metadata": {},
     "output_type": "execute_result"
    }
   ],
   "source": [
    "idfc_base = pd.merge(idfc_offers, idfc_inq_df, on='crn', how='left') \\\n",
    "    .merge(idfc_approved, on='crn', how='left') \\\n",
    "    .merge(crif_score, on='crn', how='left') \\\n",
    "    .merge(perf, on='crn', how='left') \\\n",
    "    .merge(carded, on='crn', how='left') \\\n",
    "    .merge(no_tr_l6m, on='los_app_id', how='left') \\\n",
    "    .merge(max_cc_util, on='los_app_id', how='left')\n",
    "idfc_base.shape"
   ]
  },
  {
   "cell_type": "markdown",
   "metadata": {},
   "source": [
    "Blocked pincodes"
   ]
  },
  {
   "cell_type": "code",
   "execution_count": 18,
   "metadata": {},
   "outputs": [
    {
     "data": {
      "text/html": [
       "<div>\n",
       "<style scoped>\n",
       "    .dataframe tbody tr th:only-of-type {\n",
       "        vertical-align: middle;\n",
       "    }\n",
       "\n",
       "    .dataframe tbody tr th {\n",
       "        vertical-align: top;\n",
       "    }\n",
       "\n",
       "    .dataframe thead th {\n",
       "        text-align: right;\n",
       "    }\n",
       "</style>\n",
       "<table border=\"1\" class=\"dataframe\">\n",
       "  <thead>\n",
       "    <tr style=\"text-align: right;\">\n",
       "      <th></th>\n",
       "      <th>Pincodes</th>\n",
       "    </tr>\n",
       "  </thead>\n",
       "  <tbody>\n",
       "    <tr>\n",
       "      <th>0</th>\n",
       "      <td>122015</td>\n",
       "    </tr>\n",
       "    <tr>\n",
       "      <th>1</th>\n",
       "      <td>110093</td>\n",
       "    </tr>\n",
       "    <tr>\n",
       "      <th>2</th>\n",
       "      <td>110083</td>\n",
       "    </tr>\n",
       "    <tr>\n",
       "      <th>3</th>\n",
       "      <td>121009</td>\n",
       "    </tr>\n",
       "    <tr>\n",
       "      <th>4</th>\n",
       "      <td>201310</td>\n",
       "    </tr>\n",
       "  </tbody>\n",
       "</table>\n",
       "</div>"
      ],
      "text/plain": [
       "   Pincodes\n",
       "0    122015\n",
       "1    110093\n",
       "2    110083\n",
       "3    121009\n",
       "4    201310"
      ]
     },
     "execution_count": 18,
     "metadata": {},
     "output_type": "execute_result"
    }
   ],
   "source": [
    "pincode_blocked = pd.read_excel('Pincode List_Blocking 09102023 IDFC.xlsx')\n",
    "pincode_blocked.head()"
   ]
  },
  {
   "cell_type": "code",
   "execution_count": 19,
   "metadata": {},
   "outputs": [
    {
     "data": {
      "text/plain": [
       "loan_application_status\n",
       "UNCLAIMED                        114236\n",
       "PAN_VERIFICATION                   1422\n",
       "MOBILE_VERIFICATION                1232\n",
       "REJECTED                            393\n",
       "LOAN_OFFER_ACCEPTANCE               310\n",
       "ADDRESS_VERIFICATION                179\n",
       "LOAN_EXECUTED                       175\n",
       "LOAN_NACH_FLOW                       90\n",
       "KYC                                  82\n",
       "VERIFICATION                         80\n",
       "BANKING_VERIFICATION                 54\n",
       "CHECK_ELIGIBILITY                    12\n",
       "AWAIT_RESPONSE                       11\n",
       "EMPLOYMENT_DETAILS                   11\n",
       "CLOSED                                9\n",
       "LTFS_OFFER_PRESENTATION               9\n",
       "CKYC                                  2\n",
       "ELIGIBILITY_CHECK_IN_PROGRESS         2\n",
       "SELFIE_VERIFICATION                   1\n",
       "OFFER_PRESENTATION                    1\n",
       "BANK_STATEMENT_UPLOAD                 1\n",
       "REVISED_OFFER                         1\n",
       "BRE                                   1\n",
       "Name: count, dtype: int64"
      ]
     },
     "execution_count": 19,
     "metadata": {},
     "output_type": "execute_result"
    }
   ],
   "source": [
    "idfc_base.loc[idfc_base.pincode.isin(pincode_blocked.Pincodes), 'loan_application_status'].value_counts()"
   ]
  },
  {
   "cell_type": "code",
   "execution_count": 20,
   "metadata": {},
   "outputs": [
    {
     "data": {
      "text/plain": [
       "4272.0"
      ]
     },
     "execution_count": 20,
     "metadata": {},
     "output_type": "execute_result"
    }
   ],
   "source": [
    "idfc_base.loc[idfc_base.pincode.isin(pincode_blocked.Pincodes), 'approved'].sum()"
   ]
  },
  {
   "cell_type": "code",
   "execution_count": 21,
   "metadata": {},
   "outputs": [],
   "source": [
    "idfc_base[['max_cc_util', 'no_tr_l6m']] = idfc_base[['max_cc_util', 'no_tr_l6m']].fillna(0)"
   ]
  },
  {
   "cell_type": "markdown",
   "metadata": {},
   "source": [
    "Fixing CRIF issue"
   ]
  },
  {
   "cell_type": "code",
   "execution_count": 22,
   "metadata": {},
   "outputs": [],
   "source": [
    "idfc_base['crif_score'] = idfc_base.crif_score.astype(float)\n",
    "idfc_base = idfc_base[idfc_base.crif_score >= 650].reset_index(drop=True)"
   ]
  },
  {
   "cell_type": "code",
   "execution_count": 23,
   "metadata": {},
   "outputs": [
    {
     "data": {
      "text/plain": [
       "(4990298, 42)"
      ]
     },
     "execution_count": 23,
     "metadata": {},
     "output_type": "execute_result"
    }
   ],
   "source": [
    "idfc_base.shape"
   ]
  },
  {
   "cell_type": "code",
   "execution_count": null,
   "metadata": {},
   "outputs": [],
   "source": [
    "idfc_base.drop_duplicates(subset = 'crn', inplace=True)\n",
    "idfc_base.shape"
   ]
  },
  {
   "cell_type": "markdown",
   "metadata": {},
   "source": [
    "## Analysis"
   ]
  },
  {
   "cell_type": "markdown",
   "metadata": {},
   "source": [
    "### Figuring out hard rules"
   ]
  },
  {
   "cell_type": "markdown",
   "metadata": {},
   "source": [
    "Carded"
   ]
  },
  {
   "cell_type": "code",
   "execution_count": 24,
   "metadata": {},
   "outputs": [
    {
     "data": {
      "text/plain": [
       "sector\n",
       "Credit Card              149037\n",
       "Kisan Credit Card         44952\n",
       "Loan on Credit Card       10811\n",
       "Corporate Credit Card      6746\n",
       "Secured Credit Card         801\n",
       "Fleet Card                   17\n",
       "Loan against Card             2\n",
       "Name: count, dtype: int64"
      ]
     },
     "execution_count": 24,
     "metadata": {},
     "output_type": "execute_result"
    }
   ],
   "source": [
    "idfc_base.loc[idfc_base.approved.notna(), 'sector'].value_counts(dropna=False)"
   ]
  },
  {
   "cell_type": "code",
   "execution_count": 26,
   "metadata": {},
   "outputs": [
    {
     "data": {
      "text/plain": [
       "carded\n",
       "1.0    3049197\n",
       "NaN    1573271\n",
       "Name: count, dtype: int64"
      ]
     },
     "execution_count": 26,
     "metadata": {},
     "output_type": "execute_result"
    }
   ],
   "source": [
    "idfc_base.carded.value_counts(dropna=False)"
   ]
  },
  {
   "cell_type": "markdown",
   "metadata": {},
   "source": [
    "CRIF score"
   ]
  },
  {
   "cell_type": "code",
   "execution_count": null,
   "metadata": {},
   "outputs": [],
   "source": [
    "idfc_base.bureau_score.min(), idfc_base.bureau_score.max()"
   ]
  },
  {
   "cell_type": "code",
   "execution_count": null,
   "metadata": {},
   "outputs": [],
   "source": [
    "plt.figure(figsize=(8, 6))\n",
    "idfc_base.hist(column = 'bureau_score', bins=20)\n",
    "plt.title(f'Histogram for bureau_score')\n",
    "plt.xlabel('bureau_score')\n",
    "plt.ylabel('Frequency')\n",
    "plt.show()"
   ]
  },
  {
   "cell_type": "code",
   "execution_count": null,
   "metadata": {},
   "outputs": [],
   "source": [
    "idfc_base.crif_score.min(), idfc_base.crif_score.max()"
   ]
  },
  {
   "cell_type": "code",
   "execution_count": null,
   "metadata": {},
   "outputs": [],
   "source": [
    "plt.figure(figsize=(8, 6))\n",
    "idfc_base.hist(column = 'crif_score', bins=20)\n",
    "plt.title(f'Histogram for crif_score')\n",
    "plt.xlabel('crif_score')\n",
    "plt.ylabel('Frequency')\n",
    "plt.show()"
   ]
  },
  {
   "cell_type": "markdown",
   "metadata": {},
   "source": [
    "Year of birth"
   ]
  },
  {
   "cell_type": "code",
   "execution_count": null,
   "metadata": {},
   "outputs": [],
   "source": [
    "idfc_base.yob.min(), idfc_base.yob.max()\n",
    "# Max age - 60, min age - 20"
   ]
  },
  {
   "cell_type": "code",
   "execution_count": null,
   "metadata": {},
   "outputs": [],
   "source": [
    "plt.figure(figsize=(8, 6))\n",
    "idfc_base.hist(column = 'yob', bins=20)\n",
    "plt.title(f'Histogram for yob')\n",
    "plt.xlabel('yob')\n",
    "plt.ylabel('Frequency')\n",
    "plt.show()"
   ]
  },
  {
   "cell_type": "markdown",
   "metadata": {},
   "source": [
    "Enquiry"
   ]
  },
  {
   "cell_type": "code",
   "execution_count": null,
   "metadata": {},
   "outputs": [],
   "source": [
    "idfc_base['enquiry_count_all'].value_counts(dropna=False)"
   ]
  },
  {
   "cell_type": "code",
   "execution_count": null,
   "metadata": {},
   "outputs": [],
   "source": [
    "idfc_base.loc[idfc_base.approved.notna(), 'enquiry_count_all'].value_counts(dropna=False)"
   ]
  },
  {
   "cell_type": "code",
   "execution_count": null,
   "metadata": {},
   "outputs": [],
   "source": [
    "idfc_base['enquiry_count_date_present'].value_counts(dropna=False)"
   ]
  },
  {
   "cell_type": "code",
   "execution_count": null,
   "metadata": {},
   "outputs": [],
   "source": [
    "idfc_base.loc[idfc_base.approved.notna(), 'enquiry_count_date_present'].value_counts(dropna=False)"
   ]
  },
  {
   "cell_type": "code",
   "execution_count": null,
   "metadata": {},
   "outputs": [],
   "source": [
    "idfc_base['enquiry_count_l6m'].value_counts(dropna=False)"
   ]
  },
  {
   "cell_type": "code",
   "execution_count": null,
   "metadata": {},
   "outputs": [],
   "source": [
    "idfc_base.loc[idfc_base.approved.notna(), 'enquiry_count_l6m'].value_counts(dropna=False)"
   ]
  },
  {
   "cell_type": "code",
   "execution_count": null,
   "metadata": {},
   "outputs": [],
   "source": [
    "idfc_base['enquiry_count_l3m'].value_counts(dropna=False)"
   ]
  },
  {
   "cell_type": "code",
   "execution_count": null,
   "metadata": {},
   "outputs": [],
   "source": [
    "idfc_base.loc[idfc_base.approved.notna(), 'enquiry_count_l3m'].value_counts(dropna=False)"
   ]
  },
  {
   "cell_type": "markdown",
   "metadata": {},
   "source": [
    "max_cc_util"
   ]
  },
  {
   "cell_type": "code",
   "execution_count": null,
   "metadata": {},
   "outputs": [],
   "source": [
    "idfc_base['max_cc_util'] = np.where((idfc_base['max_cc_util'] < 0) | (idfc_base['max_cc_util'] >= 1) | idfc_base['max_cc_util'].isna(), 0, idfc_base['max_cc_util'])"
   ]
  },
  {
   "cell_type": "code",
   "execution_count": null,
   "metadata": {},
   "outputs": [],
   "source": [
    "idfc_base['max_cc_util'].min(), idfc_base['max_cc_util'].max()"
   ]
  },
  {
   "cell_type": "code",
   "execution_count": null,
   "metadata": {},
   "outputs": [],
   "source": [
    "idfc_base.loc[idfc_base.approved.notna(), 'max_cc_util'].min(), idfc_base.loc[idfc_base.approved.notna(), 'max_cc_util'].max()"
   ]
  },
  {
   "cell_type": "code",
   "execution_count": null,
   "metadata": {},
   "outputs": [],
   "source": [
    "import seaborn as sns\n",
    "sns.kdeplot(idfc_base.loc[idfc_base.approved.notna()], x = 'max_cc_util')\n",
    "plt.show()"
   ]
  },
  {
   "cell_type": "code",
   "execution_count": null,
   "metadata": {},
   "outputs": [],
   "source": [
    "plt.figure(figsize=(8, 6))\n",
    "idfc_base.hist(column = 'max_cc_util', bins=200)\n",
    "plt.title(f'Histogram for max_cc_util')\n",
    "plt.xlabel('max_cc_util')\n",
    "plt.ylabel('Frequency')\n",
    "plt.show()"
   ]
  },
  {
   "cell_type": "code",
   "execution_count": null,
   "metadata": {},
   "outputs": [],
   "source": [
    "plt.figure(figsize=(8, 6))\n",
    "idfc_base.loc[idfc_base.approved.notna()].hist(column = 'max_cc_util', bins=200)\n",
    "plt.title(f'Histogram for max_cc_util')\n",
    "plt.xlabel('max_cc_util')\n",
    "plt.ylabel('Frequency')\n",
    "plt.show()"
   ]
  },
  {
   "cell_type": "code",
   "execution_count": null,
   "metadata": {},
   "outputs": [],
   "source": [
    "idfc_base.head(2)"
   ]
  },
  {
   "cell_type": "markdown",
   "metadata": {},
   "source": [
    "MAX(EVER_DELQ)"
   ]
  },
  {
   "cell_type": "code",
   "execution_count": null,
   "metadata": {},
   "outputs": [],
   "source": [
    "idfc_base['MAX(EVER_DELQ)'].min(), idfc_base['MAX(EVER_DELQ)'].max()"
   ]
  },
  {
   "cell_type": "code",
   "execution_count": null,
   "metadata": {},
   "outputs": [],
   "source": [
    "idfc_base.loc[idfc_base.approved.notna(), 'MAX(EVER_DELQ)'].min(), idfc_base.loc[idfc_base.approved.notna(), 'MAX(EVER_DELQ)'].max()"
   ]
  },
  {
   "cell_type": "code",
   "execution_count": null,
   "metadata": {},
   "outputs": [],
   "source": [
    "plt.figure(figsize=(8, 6))\n",
    "idfc_base.hist(column = 'MAX(EVER_DELQ)', bins=20)\n",
    "plt.title(f'Histogram for MAX(EVER_DELQ)')\n",
    "plt.xlabel('MAX(EVER_DELQ)')\n",
    "plt.ylabel('Frequency')\n",
    "plt.show()"
   ]
  },
  {
   "cell_type": "code",
   "execution_count": null,
   "metadata": {},
   "outputs": [],
   "source": [
    "plt.figure(figsize=(8, 6))\n",
    "idfc_base.loc[idfc_base.approved.notna()].hist(column = 'MAX(EVER_DELQ)', bins=20)\n",
    "plt.title(f'Histogram for MAX(EVER_DELQ)')\n",
    "plt.xlabel('MAX(EVER_DELQ)')\n",
    "plt.ylabel('Frequency')\n",
    "plt.show()"
   ]
  },
  {
   "cell_type": "markdown",
   "metadata": {},
   "source": [
    "MAX(MAX_DELQ3)"
   ]
  },
  {
   "cell_type": "code",
   "execution_count": null,
   "metadata": {},
   "outputs": [],
   "source": [
    "idfc_base['MAX(MAX_DELQ3)'].min(), idfc_base['MAX(MAX_DELQ3)'].max()"
   ]
  },
  {
   "cell_type": "code",
   "execution_count": null,
   "metadata": {},
   "outputs": [],
   "source": [
    "idfc_base.loc[idfc_base.approved.notna(), 'MAX(MAX_DELQ3)'].min(), idfc_base.loc[idfc_base.approved.notna(), 'MAX(MAX_DELQ3)'].max()"
   ]
  },
  {
   "cell_type": "code",
   "execution_count": null,
   "metadata": {},
   "outputs": [],
   "source": [
    "plt.figure(figsize=(8, 6))\n",
    "idfc_base.hist(column = 'MAX(MAX_DELQ3)', bins=10)\n",
    "plt.title(f'Histogram for MAX(MAX_DELQ3)')\n",
    "plt.xlabel('MAX(MAX_DELQ3)')\n",
    "plt.ylabel('Frequency')\n",
    "plt.show()"
   ]
  },
  {
   "cell_type": "code",
   "execution_count": null,
   "metadata": {},
   "outputs": [],
   "source": [
    "plt.figure(figsize=(8, 6))\n",
    "idfc_base.loc[idfc_base.approved.notna()].hist(column = 'MAX(MAX_DELQ3)', bins=10)\n",
    "plt.title(f'Histogram for MAX(MAX_DELQ3)')\n",
    "plt.xlabel('MAX(MAX_DELQ3)')\n",
    "plt.ylabel('Frequency')\n",
    "plt.show()"
   ]
  },
  {
   "cell_type": "markdown",
   "metadata": {},
   "source": [
    "### Approved Analysis"
   ]
  },
  {
   "cell_type": "markdown",
   "metadata": {},
   "source": [
    "#### Propensity"
   ]
  },
  {
   "cell_type": "code",
   "execution_count": null,
   "metadata": {},
   "outputs": [],
   "source": [
    "idfc_base.propensity.value_counts(dropna=False)"
   ]
  },
  {
   "cell_type": "code",
   "execution_count": null,
   "metadata": {},
   "outputs": [],
   "source": [
    "idfc_base[idfc_base.approved.notna()].propensity.value_counts(dropna=False)"
   ]
  },
  {
   "cell_type": "code",
   "execution_count": null,
   "metadata": {},
   "outputs": [],
   "source": [
    "so_wc_screen = pd.read_excel('Welcome screen base.xlsx')\n",
    "so_wc_screen.head()"
   ]
  },
  {
   "cell_type": "code",
   "execution_count": null,
   "metadata": {},
   "outputs": [],
   "source": [
    "idfc_base.loc[idfc_base['Phone_Number'].isin(so_wc_screen['Phone number'].astype(str)), 'propensity'].value_counts(dropna=False, normalize=True)"
   ]
  },
  {
   "cell_type": "markdown",
   "metadata": {},
   "source": [
    "#### Category"
   ]
  },
  {
   "cell_type": "code",
   "execution_count": null,
   "metadata": {},
   "outputs": [],
   "source": [
    "idfc_base.category.value_counts(dropna=False)"
   ]
  },
  {
   "cell_type": "code",
   "execution_count": null,
   "metadata": {},
   "outputs": [],
   "source": [
    "idfc_base[idfc_base.approved.notna()].category.value_counts(dropna=False)"
   ]
  },
  {
   "cell_type": "markdown",
   "metadata": {},
   "source": [
    "#### NAPS"
   ]
  },
  {
   "cell_type": "code",
   "execution_count": null,
   "metadata": {},
   "outputs": [],
   "source": [
    "def naps_score_bkt(row, var):\n",
    "    if row[var] <= 675:\n",
    "        return '<=675'\n",
    "    elif row[var] <= 690:\n",
    "        return '675-690'\n",
    "    elif row[var] <= 715:\n",
    "        return '690-715'\n",
    "    elif row[var] <= 750:\n",
    "        return '715-750'\n",
    "    elif row[var] <= 790:\n",
    "        return '750-790'\n",
    "    else:\n",
    "        return '790+'"
   ]
  },
  {
   "cell_type": "code",
   "execution_count": null,
   "metadata": {},
   "outputs": [],
   "source": [
    "idfc_base['naps_band'] = idfc_base.apply(naps_score_bkt,var='naps_score',axis=1)"
   ]
  },
  {
   "cell_type": "code",
   "execution_count": null,
   "metadata": {},
   "outputs": [],
   "source": [
    "idfc_base.naps_band.value_counts(dropna=False)"
   ]
  },
  {
   "cell_type": "code",
   "execution_count": null,
   "metadata": {},
   "outputs": [],
   "source": [
    "idfc_base[idfc_base.approved.notna()].naps_band.value_counts(dropna=False)"
   ]
  },
  {
   "cell_type": "markdown",
   "metadata": {},
   "source": [
    "#### Approved case analysis"
   ]
  },
  {
   "cell_type": "code",
   "execution_count": null,
   "metadata": {},
   "outputs": [],
   "source": [
    "def loan_amount_bkt(row, var):\n",
    "    if row[var] <= 80000:\n",
    "        return '<=80K'\n",
    "    elif row[var] <= 100000:\n",
    "        return '80K-100K'\n",
    "    elif row[var] <= 200000:\n",
    "        return '100K-200K'\n",
    "    elif row[var] <= 300000:\n",
    "        return '200K-300K'\n",
    "    else:\n",
    "        return '300K+'\n",
    "\n",
    "def roi_bkt(row, var):\n",
    "    if row[var] <= 19:\n",
    "        return '<=19'\n",
    "    elif row[var] <= 21:\n",
    "        return '19-21'\n",
    "    elif row[var] <= 24:\n",
    "        return '21-24'\n",
    "    elif row[var] <= 26:\n",
    "        return '24-26'\n",
    "    elif row[var] <= 28:\n",
    "        return '26-28'\n",
    "    else:\n",
    "        return '28+'"
   ]
  },
  {
   "cell_type": "code",
   "execution_count": null,
   "metadata": {},
   "outputs": [],
   "source": [
    "idfc_base['idfc_la_bkt'] = idfc_base.apply(loan_amount_bkt,var='loan_amount',axis=1)\n",
    "idfc_base['niro_la_bkt'] = idfc_base.apply(loan_amount_bkt,var='max_amount',axis=1)"
   ]
  },
  {
   "cell_type": "code",
   "execution_count": null,
   "metadata": {},
   "outputs": [],
   "source": [
    "idfc_base['idfc_roi_bkt'] = idfc_base.apply(roi_bkt,var='roi',axis=1)\n",
    "idfc_base['niro_roi_bkt'] = idfc_base.apply(roi_bkt,var='interest_rate_perc',axis=1)"
   ]
  },
  {
   "cell_type": "markdown",
   "metadata": {},
   "source": [
    "#### Disbursed"
   ]
  },
  {
   "cell_type": "code",
   "execution_count": null,
   "metadata": {},
   "outputs": [],
   "source": [
    "idfc_base[idfc_base.loan_application_status.isin(['CLOSED','LOAN_EXECUTED'])]"
   ]
  },
  {
   "cell_type": "markdown",
   "metadata": {},
   "source": [
    "#### IDFC cleanest base"
   ]
  },
  {
   "cell_type": "code",
   "execution_count": 30,
   "metadata": {},
   "outputs": [],
   "source": [
    "idfc_base['approved'] = np.where(idfc_base['approved'].isna(), \"Not Approved\", \"Approved\")"
   ]
  },
  {
   "cell_type": "code",
   "execution_count": null,
   "metadata": {},
   "outputs": [],
   "source": [
    "clean_base = idfc_base[idfc_base['carded'].notna() & (idfc_base['MAX(EVER_DELQ)'] < 30) & (idfc_base['crif_score'] >= 700) & (idfc_base['enquiry_count_l6m'] <= 3) & (idfc_base['max_cc_util'] <= 0.65) & (idfc_base['no_tr_l6m'] <= 1)].reset_index(drop=True)"
   ]
  },
  {
   "cell_type": "code",
   "execution_count": null,
   "metadata": {},
   "outputs": [],
   "source": [
    "idfc_base[~idfc_base.crn.isin(clean_base.crn) & idfc_base['carded'].notna()].shape"
   ]
  },
  {
   "cell_type": "code",
   "execution_count": null,
   "metadata": {},
   "outputs": [],
   "source": [
    "clean_base.shape"
   ]
  },
  {
   "cell_type": "code",
   "execution_count": null,
   "metadata": {},
   "outputs": [],
   "source": [
    "clean_base.approved.value_counts(dropna=False)"
   ]
  },
  {
   "cell_type": "code",
   "execution_count": null,
   "metadata": {},
   "outputs": [],
   "source": [
    "clean_base.approved.value_counts(normalize = True, dropna=False)"
   ]
  },
  {
   "cell_type": "code",
   "execution_count": null,
   "metadata": {},
   "outputs": [],
   "source": [
    "idfc_base[idfc_base['carded'].notna()].crif_score "
   ]
  },
  {
   "cell_type": "code",
   "execution_count": null,
   "metadata": {},
   "outputs": [],
   "source": [
    "idfc_base[~idfc_base.crn.isin(clean_base.crn) & idfc_base['carded'].notna()].approved.value_counts(normalize=True, dropna=False)"
   ]
  },
  {
   "cell_type": "code",
   "execution_count": null,
   "metadata": {},
   "outputs": [],
   "source": [
    "# idfc_base[idfc_base.approved.notna()].reset_index(drop=True).to_csv('approved_base_idfc.csv')"
   ]
  },
  {
   "cell_type": "code",
   "execution_count": null,
   "metadata": {},
   "outputs": [],
   "source": [
    "clean_base.to_excel('clean_base.xlsx')"
   ]
  },
  {
   "cell_type": "markdown",
   "metadata": {},
   "source": [
    "#### Rejected base vs Approved base"
   ]
  },
  {
   "cell_type": "code",
   "execution_count": 27,
   "metadata": {},
   "outputs": [
    {
     "data": {
      "text/html": [
       "<div>\n",
       "<style scoped>\n",
       "    .dataframe tbody tr th:only-of-type {\n",
       "        vertical-align: middle;\n",
       "    }\n",
       "\n",
       "    .dataframe tbody tr th {\n",
       "        vertical-align: top;\n",
       "    }\n",
       "\n",
       "    .dataframe thead th {\n",
       "        text-align: right;\n",
       "    }\n",
       "</style>\n",
       "<table border=\"1\" class=\"dataframe\">\n",
       "  <thead>\n",
       "    <tr style=\"text-align: right;\">\n",
       "      <th></th>\n",
       "      <th>crn</th>\n",
       "      <th>los_app_id</th>\n",
       "      <th>gender</th>\n",
       "      <th>age</th>\n",
       "      <th>pincode</th>\n",
       "      <th>Phone_Number</th>\n",
       "      <th>Pan_Number</th>\n",
       "      <th>category</th>\n",
       "      <th>riskband2</th>\n",
       "      <th>max_amount</th>\n",
       "      <th>interest_rate_perc</th>\n",
       "      <th>riskband2</th>\n",
       "      <th>propensity</th>\n",
       "      <th>naps_score</th>\n",
       "      <th>dec_reason</th>\n",
       "      <th>loan_application_status</th>\n",
       "      <th>disbursement_date</th>\n",
       "      <th>rnk</th>\n",
       "      <th>enquiry_count_all</th>\n",
       "      <th>enquiry_count_date_present</th>\n",
       "      <th>enquiry_count_l6m</th>\n",
       "      <th>enquiry_count_l3m</th>\n",
       "      <th>bureau_score</th>\n",
       "      <th>exist_customer_flag</th>\n",
       "      <th>loan_amount</th>\n",
       "      <th>risk_segment</th>\n",
       "      <th>roi</th>\n",
       "      <th>yob</th>\n",
       "      <th>approved</th>\n",
       "      <th>crif_score</th>\n",
       "      <th>MAX(EVER_DELQ)</th>\n",
       "      <th>MAX(MAX_DELQ24)</th>\n",
       "      <th>MAX(MAX_DELQ12)</th>\n",
       "      <th>MAX(MAX_DELQ9)</th>\n",
       "      <th>MAX(MAX_DELQ6)</th>\n",
       "      <th>MAX(MAX_DELQ3)</th>\n",
       "      <th>MIN(CREDIT_LIMIT_SANTIONEDAMOUNT)</th>\n",
       "      <th>MAX(WRITEOFF_STATUS)</th>\n",
       "      <th>carded</th>\n",
       "      <th>sector</th>\n",
       "      <th>no_tr_l6m</th>\n",
       "      <th>max_cc_util</th>\n",
       "    </tr>\n",
       "  </thead>\n",
       "  <tbody>\n",
       "    <tr>\n",
       "      <th>0</th>\n",
       "      <td>403555483d66ff8ad345f58ccbd53cbbe1dd02a2713a15...</td>\n",
       "      <td>BGVPA3558F</td>\n",
       "      <td>MALE</td>\n",
       "      <td>31.0</td>\n",
       "      <td>800001</td>\n",
       "      <td>9585240929</td>\n",
       "      <td>BGVPA3558F</td>\n",
       "      <td>CAT-B</td>\n",
       "      <td>M</td>\n",
       "      <td>231000.0</td>\n",
       "      <td>21.9</td>\n",
       "      <td>M</td>\n",
       "      <td>HiiProp</td>\n",
       "      <td>782.0</td>\n",
       "      <td>NOT DECLINED</td>\n",
       "      <td>UNCLAIMED</td>\n",
       "      <td>None</td>\n",
       "      <td>1</td>\n",
       "      <td>2</td>\n",
       "      <td>2.0</td>\n",
       "      <td>1.0</td>\n",
       "      <td>NaN</td>\n",
       "      <td>NaN</td>\n",
       "      <td>NaN</td>\n",
       "      <td>NaN</td>\n",
       "      <td>NaN</td>\n",
       "      <td>NaN</td>\n",
       "      <td>NaN</td>\n",
       "      <td>NaN</td>\n",
       "      <td>762.0</td>\n",
       "      <td>0</td>\n",
       "      <td>0</td>\n",
       "      <td>0</td>\n",
       "      <td>0</td>\n",
       "      <td>0</td>\n",
       "      <td>0</td>\n",
       "      <td>15000.0</td>\n",
       "      <td>0</td>\n",
       "      <td>1.0</td>\n",
       "      <td>Credit Card</td>\n",
       "      <td>3.0</td>\n",
       "      <td>0.000000</td>\n",
       "    </tr>\n",
       "    <tr>\n",
       "      <th>1</th>\n",
       "      <td>76e2a34d0aef12d0ba40b277da61e5287f661613c20f17...</td>\n",
       "      <td>BEKPK7341P</td>\n",
       "      <td>MALE</td>\n",
       "      <td>35.0</td>\n",
       "      <td>412307</td>\n",
       "      <td>9765559420</td>\n",
       "      <td>BEKPK7341P</td>\n",
       "      <td>CAT-B</td>\n",
       "      <td>L</td>\n",
       "      <td>385000.0</td>\n",
       "      <td>19.9</td>\n",
       "      <td>L</td>\n",
       "      <td>LowProp</td>\n",
       "      <td>776.0</td>\n",
       "      <td>NOT DECLINED</td>\n",
       "      <td>UNCLAIMED</td>\n",
       "      <td>None</td>\n",
       "      <td>1</td>\n",
       "      <td>1</td>\n",
       "      <td>NaN</td>\n",
       "      <td>NaN</td>\n",
       "      <td>NaN</td>\n",
       "      <td>NaN</td>\n",
       "      <td>NaN</td>\n",
       "      <td>NaN</td>\n",
       "      <td>NaN</td>\n",
       "      <td>NaN</td>\n",
       "      <td>NaN</td>\n",
       "      <td>NaN</td>\n",
       "      <td>812.0</td>\n",
       "      <td>0</td>\n",
       "      <td>0</td>\n",
       "      <td>0</td>\n",
       "      <td>0</td>\n",
       "      <td>0</td>\n",
       "      <td>0</td>\n",
       "      <td>20000.0</td>\n",
       "      <td>0</td>\n",
       "      <td>1.0</td>\n",
       "      <td>Credit Card</td>\n",
       "      <td>0.0</td>\n",
       "      <td>0.085656</td>\n",
       "    </tr>\n",
       "    <tr>\n",
       "      <th>2</th>\n",
       "      <td>7103c6549e7291267d5e7275f30af64fdc351dc39ae7e0...</td>\n",
       "      <td>DGTPP7657E</td>\n",
       "      <td>FEMALE</td>\n",
       "      <td>31.0</td>\n",
       "      <td>390007</td>\n",
       "      <td>8618993365</td>\n",
       "      <td>DGTPP7657E</td>\n",
       "      <td>CAT-A</td>\n",
       "      <td>L</td>\n",
       "      <td>483000.0</td>\n",
       "      <td>18.9</td>\n",
       "      <td>L</td>\n",
       "      <td>LowProp</td>\n",
       "      <td>772.0</td>\n",
       "      <td>NOT DECLINED</td>\n",
       "      <td>UNCLAIMED</td>\n",
       "      <td>None</td>\n",
       "      <td>1</td>\n",
       "      <td>1</td>\n",
       "      <td>NaN</td>\n",
       "      <td>NaN</td>\n",
       "      <td>NaN</td>\n",
       "      <td>NaN</td>\n",
       "      <td>NaN</td>\n",
       "      <td>NaN</td>\n",
       "      <td>NaN</td>\n",
       "      <td>NaN</td>\n",
       "      <td>NaN</td>\n",
       "      <td>NaN</td>\n",
       "      <td>735.0</td>\n",
       "      <td>0</td>\n",
       "      <td>0</td>\n",
       "      <td>0</td>\n",
       "      <td>0</td>\n",
       "      <td>0</td>\n",
       "      <td>0</td>\n",
       "      <td>20000.0</td>\n",
       "      <td>0</td>\n",
       "      <td>1.0</td>\n",
       "      <td>Credit Card</td>\n",
       "      <td>2.0</td>\n",
       "      <td>0.010300</td>\n",
       "    </tr>\n",
       "    <tr>\n",
       "      <th>3</th>\n",
       "      <td>f4a7de462e759a3a6f7c392ed1c9464cecdd6a1777aa7b...</td>\n",
       "      <td>HFMPK5564P</td>\n",
       "      <td>MALE</td>\n",
       "      <td>25.0</td>\n",
       "      <td>145001</td>\n",
       "      <td>7814753543</td>\n",
       "      <td>HFMPK5564P</td>\n",
       "      <td>CAT-D</td>\n",
       "      <td>M</td>\n",
       "      <td>56000.0</td>\n",
       "      <td>28.9</td>\n",
       "      <td>M</td>\n",
       "      <td>MedProp</td>\n",
       "      <td>744.0</td>\n",
       "      <td>NOT DECLINED</td>\n",
       "      <td>UNCLAIMED</td>\n",
       "      <td>None</td>\n",
       "      <td>1</td>\n",
       "      <td>3</td>\n",
       "      <td>3.0</td>\n",
       "      <td>2.0</td>\n",
       "      <td>2.0</td>\n",
       "      <td>NaN</td>\n",
       "      <td>NaN</td>\n",
       "      <td>NaN</td>\n",
       "      <td>NaN</td>\n",
       "      <td>NaN</td>\n",
       "      <td>NaN</td>\n",
       "      <td>NaN</td>\n",
       "      <td>676.0</td>\n",
       "      <td>0</td>\n",
       "      <td>0</td>\n",
       "      <td>0</td>\n",
       "      <td>0</td>\n",
       "      <td>0</td>\n",
       "      <td>0</td>\n",
       "      <td>44000.0</td>\n",
       "      <td>0</td>\n",
       "      <td>1.0</td>\n",
       "      <td>Credit Card</td>\n",
       "      <td>2.0</td>\n",
       "      <td>0.000000</td>\n",
       "    </tr>\n",
       "    <tr>\n",
       "      <th>4</th>\n",
       "      <td>8a8f4cc82054d051170aba809a0492bb0fe95c42e937ed...</td>\n",
       "      <td>IFGPS8612B</td>\n",
       "      <td>MALE</td>\n",
       "      <td>32.0</td>\n",
       "      <td>492001</td>\n",
       "      <td>7828820602</td>\n",
       "      <td>IFGPS8612B</td>\n",
       "      <td>CAT-D</td>\n",
       "      <td>M</td>\n",
       "      <td>51000.0</td>\n",
       "      <td>27.9</td>\n",
       "      <td>M</td>\n",
       "      <td>MedProp</td>\n",
       "      <td>707.0</td>\n",
       "      <td>NOT DECLINED</td>\n",
       "      <td>UNCLAIMED</td>\n",
       "      <td>None</td>\n",
       "      <td>1</td>\n",
       "      <td>1</td>\n",
       "      <td>NaN</td>\n",
       "      <td>NaN</td>\n",
       "      <td>NaN</td>\n",
       "      <td>NaN</td>\n",
       "      <td>NaN</td>\n",
       "      <td>NaN</td>\n",
       "      <td>NaN</td>\n",
       "      <td>NaN</td>\n",
       "      <td>NaN</td>\n",
       "      <td>NaN</td>\n",
       "      <td>719.0</td>\n",
       "      <td>0</td>\n",
       "      <td>0</td>\n",
       "      <td>0</td>\n",
       "      <td>0</td>\n",
       "      <td>0</td>\n",
       "      <td>0</td>\n",
       "      <td>NaN</td>\n",
       "      <td>0</td>\n",
       "      <td>NaN</td>\n",
       "      <td>NaN</td>\n",
       "      <td>1.0</td>\n",
       "      <td>0.000000</td>\n",
       "    </tr>\n",
       "  </tbody>\n",
       "</table>\n",
       "</div>"
      ],
      "text/plain": [
       "                                                 crn  los_app_id  gender  \\\n",
       "0  403555483d66ff8ad345f58ccbd53cbbe1dd02a2713a15...  BGVPA3558F    MALE   \n",
       "1  76e2a34d0aef12d0ba40b277da61e5287f661613c20f17...  BEKPK7341P    MALE   \n",
       "2  7103c6549e7291267d5e7275f30af64fdc351dc39ae7e0...  DGTPP7657E  FEMALE   \n",
       "3  f4a7de462e759a3a6f7c392ed1c9464cecdd6a1777aa7b...  HFMPK5564P    MALE   \n",
       "4  8a8f4cc82054d051170aba809a0492bb0fe95c42e937ed...  IFGPS8612B    MALE   \n",
       "\n",
       "    age  pincode Phone_Number  Pan_Number category riskband2  max_amount  \\\n",
       "0  31.0   800001   9585240929  BGVPA3558F    CAT-B         M    231000.0   \n",
       "1  35.0   412307   9765559420  BEKPK7341P    CAT-B         L    385000.0   \n",
       "2  31.0   390007   8618993365  DGTPP7657E    CAT-A         L    483000.0   \n",
       "3  25.0   145001   7814753543  HFMPK5564P    CAT-D         M     56000.0   \n",
       "4  32.0   492001   7828820602  IFGPS8612B    CAT-D         M     51000.0   \n",
       "\n",
       "   interest_rate_perc riskband2 propensity  naps_score    dec_reason  \\\n",
       "0                21.9         M    HiiProp       782.0  NOT DECLINED   \n",
       "1                19.9         L    LowProp       776.0  NOT DECLINED   \n",
       "2                18.9         L    LowProp       772.0  NOT DECLINED   \n",
       "3                28.9         M    MedProp       744.0  NOT DECLINED   \n",
       "4                27.9         M    MedProp       707.0  NOT DECLINED   \n",
       "\n",
       "  loan_application_status disbursement_date  rnk  enquiry_count_all  \\\n",
       "0               UNCLAIMED              None    1                  2   \n",
       "1               UNCLAIMED              None    1                  1   \n",
       "2               UNCLAIMED              None    1                  1   \n",
       "3               UNCLAIMED              None    1                  3   \n",
       "4               UNCLAIMED              None    1                  1   \n",
       "\n",
       "   enquiry_count_date_present  enquiry_count_l6m  enquiry_count_l3m  \\\n",
       "0                         2.0                1.0                NaN   \n",
       "1                         NaN                NaN                NaN   \n",
       "2                         NaN                NaN                NaN   \n",
       "3                         3.0                2.0                2.0   \n",
       "4                         NaN                NaN                NaN   \n",
       "\n",
       "   bureau_score  exist_customer_flag  loan_amount risk_segment  roi  yob  \\\n",
       "0           NaN                  NaN          NaN          NaN  NaN  NaN   \n",
       "1           NaN                  NaN          NaN          NaN  NaN  NaN   \n",
       "2           NaN                  NaN          NaN          NaN  NaN  NaN   \n",
       "3           NaN                  NaN          NaN          NaN  NaN  NaN   \n",
       "4           NaN                  NaN          NaN          NaN  NaN  NaN   \n",
       "\n",
       "   approved  crif_score  MAX(EVER_DELQ)  MAX(MAX_DELQ24)  MAX(MAX_DELQ12)  \\\n",
       "0       NaN       762.0               0                0                0   \n",
       "1       NaN       812.0               0                0                0   \n",
       "2       NaN       735.0               0                0                0   \n",
       "3       NaN       676.0               0                0                0   \n",
       "4       NaN       719.0               0                0                0   \n",
       "\n",
       "   MAX(MAX_DELQ9)  MAX(MAX_DELQ6)  MAX(MAX_DELQ3)  \\\n",
       "0               0               0               0   \n",
       "1               0               0               0   \n",
       "2               0               0               0   \n",
       "3               0               0               0   \n",
       "4               0               0               0   \n",
       "\n",
       "   MIN(CREDIT_LIMIT_SANTIONEDAMOUNT)  MAX(WRITEOFF_STATUS)  carded  \\\n",
       "0                            15000.0                     0     1.0   \n",
       "1                            20000.0                     0     1.0   \n",
       "2                            20000.0                     0     1.0   \n",
       "3                            44000.0                     0     1.0   \n",
       "4                                NaN                     0     NaN   \n",
       "\n",
       "        sector  no_tr_l6m  max_cc_util  \n",
       "0  Credit Card        3.0     0.000000  \n",
       "1  Credit Card        0.0     0.085656  \n",
       "2  Credit Card        2.0     0.010300  \n",
       "3  Credit Card        2.0     0.000000  \n",
       "4          NaN        1.0     0.000000  "
      ]
     },
     "execution_count": 27,
     "metadata": {},
     "output_type": "execute_result"
    }
   ],
   "source": [
    "idfc_base.head()"
   ]
  },
  {
   "cell_type": "code",
   "execution_count": 28,
   "metadata": {},
   "outputs": [
    {
     "data": {
      "text/plain": [
       "(0, 42)"
      ]
     },
     "execution_count": 28,
     "metadata": {},
     "output_type": "execute_result"
    }
   ],
   "source": [
    "idfc_base[idfc_base.approved.isin(['Approved'])].shape"
   ]
  },
  {
   "cell_type": "code",
   "execution_count": 33,
   "metadata": {},
   "outputs": [
    {
     "data": {
      "image/png": "[encoded data removed]",
      "text/plain": [
       "<Figure size 1000x600 with 1 Axes>"
      ]
     },
     "metadata": {},
     "output_type": "display_data"
    },
    {
     "data": {
      "image/png": "[encoded data removed]",
      "text/plain": [
       "<Figure size 1000x600 with 1 Axes>"
      ]
     },
     "metadata": {},
     "output_type": "display_data"
    },
    {
     "data": {
      "image/png": "[encoded data removed]",
      "text/plain": [
       "<Figure size 1000x600 with 1 Axes>"
      ]
     },
     "metadata": {},
     "output_type": "display_data"
    },
    {
     "data": {
      "image/png": "[encoded data removed]",
      "text/plain": [
       "<Figure size 1000x600 with 1 Axes>"
      ]
     },
     "metadata": {},
     "output_type": "display_data"
    },
    {
     "data": {
      "image/png": "[encoded data removed]",
      "text/plain": [
       "<Figure size 1000x600 with 1 Axes>"
      ]
     },
     "metadata": {},
     "output_type": "display_data"
    },
    {
     "data": {
      "image/png": "[encoded data removed]",
      "text/plain": [
       "<Figure size 1000x600 with 1 Axes>"
      ]
     },
     "metadata": {},
     "output_type": "display_data"
    },
    {
     "data": {
      "image/png": "[encoded data removed]",
      "text/plain": [
       "<Figure size 1000x600 with 1 Axes>"
      ]
     },
     "metadata": {},
     "output_type": "display_data"
    },
    {
     "data": {
      "image/png": "[encoded data removed]",
      "text/plain": [
       "<Figure size 1000x600 with 1 Axes>"
      ]
     },
     "metadata": {},
     "output_type": "display_data"
    },
    {
     "data": {
      "image/png": "[encoded data removed]",
      "text/plain": [
       "<Figure size 1000x600 with 1 Axes>"
      ]
     },
     "metadata": {},
     "output_type": "display_data"
    },
    {
     "data": {
      "image/png": "[encoded data removed]",
      "text/plain": [
       "<Figure size 1000x600 with 1 Axes>"
      ]
     },
     "metadata": {},
     "output_type": "display_data"
    },
    {
     "data": {
      "image/png": "[encoded data removed]",
      "text/plain": [
       "<Figure size 1000x600 with 1 Axes>"
      ]
     },
     "metadata": {},
     "output_type": "display_data"
    },
    {
     "data": {
      "image/png": "[encoded data removed]",
      "text/plain": [
       "<Figure size 1000x600 with 1 Axes>"
      ]
     },
     "metadata": {},
     "output_type": "display_data"
    },
    {
     "data": {
      "image/png": "[encoded data removed]",
      "text/plain": [
       "<Figure size 1000x600 with 1 Axes>"
      ]
     },
     "metadata": {},
     "output_type": "display_data"
    },
    {
     "data": {
      "image/png": "[encoded data removed]",
      "text/plain": [
       "<Figure size 1000x600 with 1 Axes>"
      ]
     },
     "metadata": {},
     "output_type": "display_data"
    }
   ],
   "source": [
    "import seaborn as sns\n",
    "import matplotlib.pyplot as plt\n",
    "\n",
    "# Define function to remove outliers using IQR method\n",
    "def remove_outliers(df, column):\n",
    "    Q1 = df[column].quantile(0.25)\n",
    "    Q3 = df[column].quantile(0.75)\n",
    "    IQR = Q3 - Q1\n",
    "    lower_bound = Q1 - 1.5 * IQR\n",
    "    upper_bound = Q3 + 1.5 * IQR\n",
    "    return df[(df[column] >= lower_bound) & (df[column] <= upper_bound)]\n",
    "\n",
    "fields = [\"crif_score\", \"no_tr_l6m\", \"enquiry_count_all\", \"enquiry_count_date_present\", \"enquiry_count_l6m\", \"enquiry_count_l3m\", \"MAX(EVER_DELQ)\", \"MAX(MAX_DELQ24)\", \"MAX(MAX_DELQ12)\", \"MAX(MAX_DELQ9)\", \"MAX(MAX_DELQ6)\", \"MAX(MAX_DELQ3)\", \"max_cc_util\", \"age\"]\n",
    "\n",
    "for field in fields:\n",
    "    idfc_base_no_outliers = remove_outliers(idfc_base, field)\n",
    "\n",
    "    # Create box plot without outliers\n",
    "    plt.figure(figsize=(10, 6))\n",
    "    sns.boxplot(x=\"approved\", y=field, data=idfc_base_no_outliers)\n",
    "    plt.title(field)\n",
    "    plt.ylabel(field)\n",
    "    plt.show()\n"
   ]
  },
  {
   "cell_type": "code",
   "execution_count": 35,
   "metadata": {},
   "outputs": [],
   "source": [
    "idfc_base['crif_score_bkt'] = np.where(idfc_base['crif_score'] <= 700, 'A) 650 - 700',\n",
    "                                np.where(idfc_base['crif_score'] <= 720, 'B) 700 - 720',\n",
    "                                    np.where(idfc_base['crif_score'] <= 750, 'C) 720 - 750',\n",
    "                                        np.where(idfc_base['crif_score'] <= 800, 'D) 750 - 800',\n",
    "                                            np.where(idfc_base['crif_score'] > 800, 'E) 800+',None)))))"
   ]
  },
  {
   "cell_type": "markdown",
   "metadata": {},
   "source": [
    "#### CRIF vs Risk segment crosstab"
   ]
  },
  {
   "cell_type": "code",
   "execution_count": 56,
   "metadata": {},
   "outputs": [
    {
     "name": "stdout",
     "output_type": "stream",
     "text": [
      "risk_segment    High Risk   Low Risk  Medium Risk\n",
      "crif_score_bkt                                   \n",
      "A) 650 - 700     1.595548  10.707832     5.697639\n",
      "B) 700 - 720     1.545741   6.444159     3.713485\n",
      "C) 720 - 750     1.982996   7.080061     4.919267\n",
      "D) 750 - 800     3.481826   9.998958     7.571756\n",
      "E) 800+          6.544351  16.245048    12.471332\n"
     ]
    }
   ],
   "source": [
    "import pandas as pd\n",
    "\n",
    "# Assuming 'approved' column contains 'Approved' or 'Not Approved'\n",
    "# Replace 'Approved' with 1 and 'Not Approved' with 0\n",
    "idfc_base['approved_binary'] = idfc_base['approved'].replace({'Approved': 1, 'Not Approved': 0})\n",
    "\n",
    "# Create crosstab\n",
    "cross_tab = pd.crosstab(index=idfc_base['crif_score_bkt'], \n",
    "                        columns=idfc_base['risk_segment'], \n",
    "                        values=idfc_base['approved_binary'], \n",
    "                        aggfunc='sum')\n",
    "\n",
    "# Calculate total approvals for each crif_score_bkt\n",
    "total_approvals = cross_tab.sum().sum()\n",
    "\n",
    "# Calculate percentages\n",
    "cross_tab_percentages = cross_tab.divide(total_approvals, axis=0) * 100\n",
    "\n",
    "print(cross_tab_percentages)\n"
   ]
  },
  {
   "cell_type": "code",
   "execution_count": 61,
   "metadata": {},
   "outputs": [
    {
     "data": {
      "text/html": [
       "<div>\n",
       "<style scoped>\n",
       "    .dataframe tbody tr th:only-of-type {\n",
       "        vertical-align: middle;\n",
       "    }\n",
       "\n",
       "    .dataframe tbody tr th {\n",
       "        vertical-align: top;\n",
       "    }\n",
       "\n",
       "    .dataframe thead th {\n",
       "        text-align: right;\n",
       "    }\n",
       "</style>\n",
       "<table border=\"1\" class=\"dataframe\">\n",
       "  <thead>\n",
       "    <tr style=\"text-align: right;\">\n",
       "      <th></th>\n",
       "      <th>crn</th>\n",
       "      <th>los_app_id</th>\n",
       "      <th>gender</th>\n",
       "      <th>age</th>\n",
       "      <th>pincode</th>\n",
       "      <th>Phone_Number</th>\n",
       "      <th>Pan_Number</th>\n",
       "      <th>category</th>\n",
       "      <th>riskband2</th>\n",
       "      <th>max_amount</th>\n",
       "      <th>interest_rate_perc</th>\n",
       "      <th>riskband2</th>\n",
       "      <th>propensity</th>\n",
       "      <th>naps_score</th>\n",
       "      <th>dec_reason</th>\n",
       "      <th>loan_application_status</th>\n",
       "      <th>disbursement_date</th>\n",
       "      <th>rnk</th>\n",
       "      <th>enquiry_count_all</th>\n",
       "      <th>enquiry_count_date_present</th>\n",
       "      <th>enquiry_count_l6m</th>\n",
       "      <th>enquiry_count_l3m</th>\n",
       "      <th>bureau_score</th>\n",
       "      <th>exist_customer_flag</th>\n",
       "      <th>loan_amount</th>\n",
       "      <th>risk_segment</th>\n",
       "      <th>roi</th>\n",
       "      <th>yob</th>\n",
       "      <th>approved</th>\n",
       "      <th>crif_score</th>\n",
       "      <th>MAX(EVER_DELQ)</th>\n",
       "      <th>MAX(MAX_DELQ24)</th>\n",
       "      <th>MAX(MAX_DELQ12)</th>\n",
       "      <th>MAX(MAX_DELQ9)</th>\n",
       "      <th>MAX(MAX_DELQ6)</th>\n",
       "      <th>MAX(MAX_DELQ3)</th>\n",
       "      <th>MIN(CREDIT_LIMIT_SANTIONEDAMOUNT)</th>\n",
       "      <th>MAX(WRITEOFF_STATUS)</th>\n",
       "      <th>carded</th>\n",
       "      <th>sector</th>\n",
       "      <th>no_tr_l6m</th>\n",
       "      <th>max_cc_util</th>\n",
       "      <th>crif_score_bkt</th>\n",
       "      <th>approved_binary</th>\n",
       "    </tr>\n",
       "  </thead>\n",
       "  <tbody>\n",
       "    <tr>\n",
       "      <th>0</th>\n",
       "      <td>403555483d66ff8ad345f58ccbd53cbbe1dd02a2713a15...</td>\n",
       "      <td>BGVPA3558F</td>\n",
       "      <td>MALE</td>\n",
       "      <td>31.0</td>\n",
       "      <td>800001</td>\n",
       "      <td>9585240929</td>\n",
       "      <td>BGVPA3558F</td>\n",
       "      <td>CAT-B</td>\n",
       "      <td>M</td>\n",
       "      <td>231000.0</td>\n",
       "      <td>21.9</td>\n",
       "      <td>M</td>\n",
       "      <td>HiiProp</td>\n",
       "      <td>782.0</td>\n",
       "      <td>NOT DECLINED</td>\n",
       "      <td>UNCLAIMED</td>\n",
       "      <td>None</td>\n",
       "      <td>1</td>\n",
       "      <td>2</td>\n",
       "      <td>2.0</td>\n",
       "      <td>1.0</td>\n",
       "      <td>NaN</td>\n",
       "      <td>NaN</td>\n",
       "      <td>NaN</td>\n",
       "      <td>NaN</td>\n",
       "      <td>NaN</td>\n",
       "      <td>NaN</td>\n",
       "      <td>NaN</td>\n",
       "      <td>Not Approved</td>\n",
       "      <td>762.0</td>\n",
       "      <td>0</td>\n",
       "      <td>0</td>\n",
       "      <td>0</td>\n",
       "      <td>0</td>\n",
       "      <td>0</td>\n",
       "      <td>0</td>\n",
       "      <td>15000.0</td>\n",
       "      <td>0</td>\n",
       "      <td>1.0</td>\n",
       "      <td>Credit Card</td>\n",
       "      <td>3.0</td>\n",
       "      <td>0.000000</td>\n",
       "      <td>D) 750 - 800</td>\n",
       "      <td>0</td>\n",
       "    </tr>\n",
       "    <tr>\n",
       "      <th>1</th>\n",
       "      <td>76e2a34d0aef12d0ba40b277da61e5287f661613c20f17...</td>\n",
       "      <td>BEKPK7341P</td>\n",
       "      <td>MALE</td>\n",
       "      <td>35.0</td>\n",
       "      <td>412307</td>\n",
       "      <td>9765559420</td>\n",
       "      <td>BEKPK7341P</td>\n",
       "      <td>CAT-B</td>\n",
       "      <td>L</td>\n",
       "      <td>385000.0</td>\n",
       "      <td>19.9</td>\n",
       "      <td>L</td>\n",
       "      <td>LowProp</td>\n",
       "      <td>776.0</td>\n",
       "      <td>NOT DECLINED</td>\n",
       "      <td>UNCLAIMED</td>\n",
       "      <td>None</td>\n",
       "      <td>1</td>\n",
       "      <td>1</td>\n",
       "      <td>NaN</td>\n",
       "      <td>NaN</td>\n",
       "      <td>NaN</td>\n",
       "      <td>NaN</td>\n",
       "      <td>NaN</td>\n",
       "      <td>NaN</td>\n",
       "      <td>NaN</td>\n",
       "      <td>NaN</td>\n",
       "      <td>NaN</td>\n",
       "      <td>Not Approved</td>\n",
       "      <td>812.0</td>\n",
       "      <td>0</td>\n",
       "      <td>0</td>\n",
       "      <td>0</td>\n",
       "      <td>0</td>\n",
       "      <td>0</td>\n",
       "      <td>0</td>\n",
       "      <td>20000.0</td>\n",
       "      <td>0</td>\n",
       "      <td>1.0</td>\n",
       "      <td>Credit Card</td>\n",
       "      <td>0.0</td>\n",
       "      <td>0.085656</td>\n",
       "      <td>E) 800+</td>\n",
       "      <td>0</td>\n",
       "    </tr>\n",
       "    <tr>\n",
       "      <th>2</th>\n",
       "      <td>7103c6549e7291267d5e7275f30af64fdc351dc39ae7e0...</td>\n",
       "      <td>DGTPP7657E</td>\n",
       "      <td>FEMALE</td>\n",
       "      <td>31.0</td>\n",
       "      <td>390007</td>\n",
       "      <td>8618993365</td>\n",
       "      <td>DGTPP7657E</td>\n",
       "      <td>CAT-A</td>\n",
       "      <td>L</td>\n",
       "      <td>483000.0</td>\n",
       "      <td>18.9</td>\n",
       "      <td>L</td>\n",
       "      <td>LowProp</td>\n",
       "      <td>772.0</td>\n",
       "      <td>NOT DECLINED</td>\n",
       "      <td>UNCLAIMED</td>\n",
       "      <td>None</td>\n",
       "      <td>1</td>\n",
       "      <td>1</td>\n",
       "      <td>NaN</td>\n",
       "      <td>NaN</td>\n",
       "      <td>NaN</td>\n",
       "      <td>NaN</td>\n",
       "      <td>NaN</td>\n",
       "      <td>NaN</td>\n",
       "      <td>NaN</td>\n",
       "      <td>NaN</td>\n",
       "      <td>NaN</td>\n",
       "      <td>Not Approved</td>\n",
       "      <td>735.0</td>\n",
       "      <td>0</td>\n",
       "      <td>0</td>\n",
       "      <td>0</td>\n",
       "      <td>0</td>\n",
       "      <td>0</td>\n",
       "      <td>0</td>\n",
       "      <td>20000.0</td>\n",
       "      <td>0</td>\n",
       "      <td>1.0</td>\n",
       "      <td>Credit Card</td>\n",
       "      <td>2.0</td>\n",
       "      <td>0.010300</td>\n",
       "      <td>C) 720 - 750</td>\n",
       "      <td>0</td>\n",
       "    </tr>\n",
       "    <tr>\n",
       "      <th>3</th>\n",
       "      <td>f4a7de462e759a3a6f7c392ed1c9464cecdd6a1777aa7b...</td>\n",
       "      <td>HFMPK5564P</td>\n",
       "      <td>MALE</td>\n",
       "      <td>25.0</td>\n",
       "      <td>145001</td>\n",
       "      <td>7814753543</td>\n",
       "      <td>HFMPK5564P</td>\n",
       "      <td>CAT-D</td>\n",
       "      <td>M</td>\n",
       "      <td>56000.0</td>\n",
       "      <td>28.9</td>\n",
       "      <td>M</td>\n",
       "      <td>MedProp</td>\n",
       "      <td>744.0</td>\n",
       "      <td>NOT DECLINED</td>\n",
       "      <td>UNCLAIMED</td>\n",
       "      <td>None</td>\n",
       "      <td>1</td>\n",
       "      <td>3</td>\n",
       "      <td>3.0</td>\n",
       "      <td>2.0</td>\n",
       "      <td>2.0</td>\n",
       "      <td>NaN</td>\n",
       "      <td>NaN</td>\n",
       "      <td>NaN</td>\n",
       "      <td>NaN</td>\n",
       "      <td>NaN</td>\n",
       "      <td>NaN</td>\n",
       "      <td>Not Approved</td>\n",
       "      <td>676.0</td>\n",
       "      <td>0</td>\n",
       "      <td>0</td>\n",
       "      <td>0</td>\n",
       "      <td>0</td>\n",
       "      <td>0</td>\n",
       "      <td>0</td>\n",
       "      <td>44000.0</td>\n",
       "      <td>0</td>\n",
       "      <td>1.0</td>\n",
       "      <td>Credit Card</td>\n",
       "      <td>2.0</td>\n",
       "      <td>0.000000</td>\n",
       "      <td>A) 650 - 700</td>\n",
       "      <td>0</td>\n",
       "    </tr>\n",
       "    <tr>\n",
       "      <th>4</th>\n",
       "      <td>8a8f4cc82054d051170aba809a0492bb0fe95c42e937ed...</td>\n",
       "      <td>IFGPS8612B</td>\n",
       "      <td>MALE</td>\n",
       "      <td>32.0</td>\n",
       "      <td>492001</td>\n",
       "      <td>7828820602</td>\n",
       "      <td>IFGPS8612B</td>\n",
       "      <td>CAT-D</td>\n",
       "      <td>M</td>\n",
       "      <td>51000.0</td>\n",
       "      <td>27.9</td>\n",
       "      <td>M</td>\n",
       "      <td>MedProp</td>\n",
       "      <td>707.0</td>\n",
       "      <td>NOT DECLINED</td>\n",
       "      <td>UNCLAIMED</td>\n",
       "      <td>None</td>\n",
       "      <td>1</td>\n",
       "      <td>1</td>\n",
       "      <td>NaN</td>\n",
       "      <td>NaN</td>\n",
       "      <td>NaN</td>\n",
       "      <td>NaN</td>\n",
       "      <td>NaN</td>\n",
       "      <td>NaN</td>\n",
       "      <td>NaN</td>\n",
       "      <td>NaN</td>\n",
       "      <td>NaN</td>\n",
       "      <td>Not Approved</td>\n",
       "      <td>719.0</td>\n",
       "      <td>0</td>\n",
       "      <td>0</td>\n",
       "      <td>0</td>\n",
       "      <td>0</td>\n",
       "      <td>0</td>\n",
       "      <td>0</td>\n",
       "      <td>NaN</td>\n",
       "      <td>0</td>\n",
       "      <td>NaN</td>\n",
       "      <td>NaN</td>\n",
       "      <td>1.0</td>\n",
       "      <td>0.000000</td>\n",
       "      <td>B) 700 - 720</td>\n",
       "      <td>0</td>\n",
       "    </tr>\n",
       "  </tbody>\n",
       "</table>\n",
       "</div>"
      ],
      "text/plain": [
       "                                                 crn  los_app_id  gender  \\\n",
       "0  403555483d66ff8ad345f58ccbd53cbbe1dd02a2713a15...  BGVPA3558F    MALE   \n",
       "1  76e2a34d0aef12d0ba40b277da61e5287f661613c20f17...  BEKPK7341P    MALE   \n",
       "2  7103c6549e7291267d5e7275f30af64fdc351dc39ae7e0...  DGTPP7657E  FEMALE   \n",
       "3  f4a7de462e759a3a6f7c392ed1c9464cecdd6a1777aa7b...  HFMPK5564P    MALE   \n",
       "4  8a8f4cc82054d051170aba809a0492bb0fe95c42e937ed...  IFGPS8612B    MALE   \n",
       "\n",
       "    age  pincode Phone_Number  Pan_Number category riskband2  max_amount  \\\n",
       "0  31.0   800001   9585240929  BGVPA3558F    CAT-B         M    231000.0   \n",
       "1  35.0   412307   9765559420  BEKPK7341P    CAT-B         L    385000.0   \n",
       "2  31.0   390007   8618993365  DGTPP7657E    CAT-A         L    483000.0   \n",
       "3  25.0   145001   7814753543  HFMPK5564P    CAT-D         M     56000.0   \n",
       "4  32.0   492001   7828820602  IFGPS8612B    CAT-D         M     51000.0   \n",
       "\n",
       "   interest_rate_perc riskband2 propensity  naps_score    dec_reason  \\\n",
       "0                21.9         M    HiiProp       782.0  NOT DECLINED   \n",
       "1                19.9         L    LowProp       776.0  NOT DECLINED   \n",
       "2                18.9         L    LowProp       772.0  NOT DECLINED   \n",
       "3                28.9         M    MedProp       744.0  NOT DECLINED   \n",
       "4                27.9         M    MedProp       707.0  NOT DECLINED   \n",
       "\n",
       "  loan_application_status disbursement_date  rnk  enquiry_count_all  \\\n",
       "0               UNCLAIMED              None    1                  2   \n",
       "1               UNCLAIMED              None    1                  1   \n",
       "2               UNCLAIMED              None    1                  1   \n",
       "3               UNCLAIMED              None    1                  3   \n",
       "4               UNCLAIMED              None    1                  1   \n",
       "\n",
       "   enquiry_count_date_present  enquiry_count_l6m  enquiry_count_l3m  \\\n",
       "0                         2.0                1.0                NaN   \n",
       "1                         NaN                NaN                NaN   \n",
       "2                         NaN                NaN                NaN   \n",
       "3                         3.0                2.0                2.0   \n",
       "4                         NaN                NaN                NaN   \n",
       "\n",
       "   bureau_score  exist_customer_flag  loan_amount risk_segment  roi  yob  \\\n",
       "0           NaN                  NaN          NaN          NaN  NaN  NaN   \n",
       "1           NaN                  NaN          NaN          NaN  NaN  NaN   \n",
       "2           NaN                  NaN          NaN          NaN  NaN  NaN   \n",
       "3           NaN                  NaN          NaN          NaN  NaN  NaN   \n",
       "4           NaN                  NaN          NaN          NaN  NaN  NaN   \n",
       "\n",
       "       approved  crif_score  MAX(EVER_DELQ)  MAX(MAX_DELQ24)  MAX(MAX_DELQ12)  \\\n",
       "0  Not Approved       762.0               0                0                0   \n",
       "1  Not Approved       812.0               0                0                0   \n",
       "2  Not Approved       735.0               0                0                0   \n",
       "3  Not Approved       676.0               0                0                0   \n",
       "4  Not Approved       719.0               0                0                0   \n",
       "\n",
       "   MAX(MAX_DELQ9)  MAX(MAX_DELQ6)  MAX(MAX_DELQ3)  \\\n",
       "0               0               0               0   \n",
       "1               0               0               0   \n",
       "2               0               0               0   \n",
       "3               0               0               0   \n",
       "4               0               0               0   \n",
       "\n",
       "   MIN(CREDIT_LIMIT_SANTIONEDAMOUNT)  MAX(WRITEOFF_STATUS)  carded  \\\n",
       "0                            15000.0                     0     1.0   \n",
       "1                            20000.0                     0     1.0   \n",
       "2                            20000.0                     0     1.0   \n",
       "3                            44000.0                     0     1.0   \n",
       "4                                NaN                     0     NaN   \n",
       "\n",
       "        sector  no_tr_l6m  max_cc_util crif_score_bkt  approved_binary  \n",
       "0  Credit Card        3.0     0.000000   D) 750 - 800                0  \n",
       "1  Credit Card        0.0     0.085656        E) 800+                0  \n",
       "2  Credit Card        2.0     0.010300   C) 720 - 750                0  \n",
       "3  Credit Card        2.0     0.000000   A) 650 - 700                0  \n",
       "4          NaN        1.0     0.000000   B) 700 - 720                0  "
      ]
     },
     "execution_count": 61,
     "metadata": {},
     "output_type": "execute_result"
    }
   ],
   "source": [
    "idfc_base.head()"
   ]
  },
  {
   "cell_type": "markdown",
   "metadata": {},
   "source": [
    "## CIBIL data"
   ]
  },
  {
   "cell_type": "code",
   "execution_count": 65,
   "metadata": {},
   "outputs": [],
   "source": [
    "cibil_df_with_cvattrs = \"\"\"\n",
    "            select * from (\n",
    "            select \n",
    "            distinct la.id,\n",
    "            pii.gender as cibil_gender,\n",
    "            pii.pin as cibil_pincode,\n",
    "            pii.calculated_age,\n",
    "            pii.city as cibil_city,\n",
    "            pii.state as cibil_state,\n",
    "            pii.native_language,\n",
    "            tli.*,\n",
    "            date_trunc(\"MONTH\",date(od.created_at)) as createdate,\n",
    "            rank()over(partition by od.user_id order by od.created_at asc) as rnk\n",
    "            from NIRO_RDS.NIRO_DATA.CORE__PUBLIC__LOAN_APPLICATION la\n",
    "            left join NIRO_RDS.NIRO_DATA.core__public__offer_user_details ou on ou.offer_id = la.offer_id\n",
    "            left join ANALYTICS.OFFERS.offer_details od on od.user_id = la.user_id and od.category = ou.category\n",
    "            left join ANALYTICS.OFFERS.personal_info pii on od.pii_id = pii.pii_id\n",
    "            left join ANALYTICS.OFFERS.tradeline_info tli on tli.tli_id = od.tli_id\n",
    "            where la.is_deleted = False\n",
    "            and(la.is_deleted_at_source = false or la.is_deleted_at_source is null)\n",
    "            )\n",
    "where rnk = 1;\n",
    "\"\"\"\n",
    "cibil_df = (\n",
    "    extractorFromQuery()\n",
    "    .queryExecutor(cibil_df_with_cvattrs)\n",
    ")\n",
    "cibil_df.shape"
   ]
  },
  {
   "cell_type": "code",
   "execution_count": null,
   "metadata": {},
   "outputs": [],
   "source": [
    "column_name_map = {'agg911': 'max_aggregate_bankcard_utilisation_l12m', 'rvlr01': 'cc_util_revolving_l1m', 'bcpmtstr': 'bank_card_payment_category', 'cv11': 'no_of_60p_accs_ever', 'cv14': 'no_of_deduped_inquiries', \n",
    "                   'mt28s': 'total_cl_open_mortgage_trades_l12m', 'mt33s': 'total_balance_open_mortgage_trades_l12m', 'pl33s':'total_bal_of_open_pl_l12m', 'at20s':'months_since_oldest_trade', \n",
    "                   'mt01s':'no_of_mortgage_trades', 'bc02s':'no_of_open_cc_trades', 'bg01s':'no_of_business_general_trades', 'cv10':'no_of_30p_accs_ever', 'trd':'no_of_trades', 'at33a':'total_bal_open_trades_l12m',\n",
    "                   'au33s':'total_bal_open_auto_trades_l12m', 'co04s180':'months_since_recent_chargedoff180P', 'au28s':'total_cl_open_auto_trades_l12m', 'pl28s':'total_cl_open_pl_trades_l12m',\n",
    "                   'co01s180':'no_of_chargedoff180P', 'bc28s':'total_cl_of_cc_trades_l12m', 'cv12':'no_of_90p_accs_ever', 'co05s':'total_bal_of_chargedoff_trades', 'g310s':'worst_rating_l12m',\n",
    "                   'aggs911':'current_utilization_of_top_wallet_bankcard', 'at01s':'no_of_trades_pl_2w_gl_cd', 'at33a_ne_ccod':'total_bal_open_trades_l12m_except_wo_cc_od', 'cv14_12m':'no_of_deduped_inquiries_l12m',\n",
    "                   'cv14_6m':'no_of_deduped_inquiries_l6m', 'cv14_3m':'no_of_deduped_inquiries_l3m', 'cv14_1m':'no_of_deduped_inquiries_l1m', 'g310s_24m':'worst_rating_l24m',\n",
    "                   'g310s_6m':'worst_rating_l6m', 'g310s_3m':'worst_rating_l3m', 'g310s_1m':'worst_rating_l1m', 'cv11_24m':'no_of_60p_accs_l24m', 'cv11_12m':'no_of_60p_accs_l12m', 'g057s_1dpd_36m': 'no_of_trades_bounced_l36m',\n",
    "                   'g057s_1dpd_12m':'no_of_trades_bounced_l12m', 'bc106s_60dpd':'no_of_cc_trades_60P_l24m', 'bc107s_24m':'no_of_30P_cc_l24m', 'bc106s_60dpd_12m':'no_of_cc_trades_60P_l12m', 'bc107s_12m':'no_of_30P_cc_l12m',\n",
    "                   'bc106s_le_30dpd_12m':'no_of_cc_lt30p_l12m', 'bc09s_36m_hcsa_le_30':'no_cc_sanctionedamt_lt30K_l36m', 'pl09s_36m_hcsa_le_30':'no_pl_sanctionedamt_lt30K_l36m', 'at09s_6m':'no_tr_opened_l6m',\n",
    "                   'g310s_36m':'worst_dpd_l36m', 'at33a_ne_wo':'total_bal_open_trades_l12m_minus_total_bal_of_chargedoff_trades', 'at09s_12m':'no_tr_opened_l12m', 'at09s_3m':'no_tr_opened_l3m', 'cv13':'per_of_30p_accs_ever',\n",
    "                    'cv24':'total_payment_amount_bankcard_accs_l3m', 'revs904':'max_revolving_monthly_spend_l12m', 'cv20':'total_monthly_obligations_l3m', 'cv22':'total_balance_bankcard_accs_l3m', \n",
    "                    'ul_trd':'no_of_trades_unsec', 'cv21':'total_payment_amount_l3m', 'g310s_2m':'worst_dpd_l2m'}"
   ]
  },
  {
   "cell_type": "code",
   "execution_count": null,
   "metadata": {},
   "outputs": [],
   "source": [
    "cibil_df.rename(columns = column_name_map, inplace=True)\n",
    "cibil_df.drop_duplicates(subset=[\"id\"], inplace=True)"
   ]
  },
  {
   "cell_type": "code",
   "execution_count": null,
   "metadata": {},
   "outputs": [],
   "source": []
  },
  {
   "cell_type": "code",
   "execution_count": null,
   "metadata": {},
   "outputs": [],
   "source": [
    "        left join analytics.offers.offer_details o on id.crn = o.hashed_phone"
   ]
  },
  {
   "cell_type": "code",
   "execution_count": null,
   "metadata": {},
   "outputs": [],
   "source": []
  }
 ],
 "metadata": {
  "kernelspec": {
   "display_name": "base",
   "language": "python",
   "name": "python3"
  },
  "language_info": {
   "codemirror_mode": {
    "name": "ipython",
    "version": 3
   },
   "file_extension": ".py",
   "mimetype": "text/x-python",
   "name": "python",
   "nbconvert_exporter": "python",
   "pygments_lexer": "ipython3",
   "version": "3.11.5"
  }
 },
 "nbformat": 4,
 "nbformat_minor": 2
}
