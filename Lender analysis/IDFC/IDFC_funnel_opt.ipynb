{
 "cells": [
  {
   "cell_type": "code",
   "execution_count": null,
   "metadata": {},
   "outputs": [],
   "source": [
    "import pandas as pd\n",
    "import numpy as np\n",
    "import matplotlib.pyplot as plt\n",
    "from snowflake.sqlalchemy import URL\n",
    "pd.set_option('display.max_columns', None)"
   ]
  },
  {
   "cell_type": "code",
   "execution_count": null,
   "metadata": {},
   "outputs": [],
   "source": [
    "from sqlalchemy import create_engine\n",
    "\n",
    "\n",
    "class extractorFromQuery:\n",
    "    def __init__(self):\n",
    "        self.credentials = {\n",
    "            \"account\": \"qfi-niro\",\n",
    "            \"user\": \"keyur\",\n",
    "            \"password\": \"Keyur@17061996\",\n",
    "            \"warehouse\": \"NIRO_ANALYTICS_WAREHOUSE\",\n",
    "        }\n",
    "\n",
    "    def queryExecutor(self, query: str, *args):\n",
    "        engine = create_engine(URL(**self.credentials))\n",
    "        res = pd.read_sql_query(query, engine, params=args)\n",
    "        return res"
   ]
  },
  {
   "cell_type": "code",
   "execution_count": null,
   "metadata": {},
   "outputs": [],
   "source": [
    "Q = \"\"\"\n",
    "        select * from (select\n",
    "        distinct id.crn,\n",
    "        id.los_app_id,\n",
    "        id.gender,\n",
    "        id.age,\n",
    "        id.pincode,\n",
    "        o.phone_number as \"Phone_Number\",\n",
    "        p.pan_no as \"Pan_Number\",\n",
    "        o.category,\n",
    "        o.riskband2,\n",
    "        o.max_amount, \n",
    "        o.interest_rate_perc,\n",
    "        o.propensity,\n",
    "        o.naps_score,\n",
    "        o.dec_reason,\n",
    "        la.loan_application_status,\n",
    "        CASE when la.loan_disbursed_date_by_ops is null then date(la.disbursement_date)\n",
    "            else date(la.loan_disbursed_date_by_ops)\n",
    "        end as disbursement_date,\n",
    "        rank() over(partition by o.user_id order by o.created_at desc) as rnk\n",
    "        from \n",
    "        ANALYTICS.CRIF_FILES.idfc_demog as id \n",
    "        left join analytics.offers.offer_details o on id.crn = o.hashed_phone\n",
    "        left join niro_rds.niro_data.core__public__loan_application la on la.user_id = o.user_id\n",
    "        left join analytics.offers.personal_info as p on o.pii_id=p.pii_id\n",
    "        left join analytics.offers.tradeline_info tli on o.tli_id = tli.tli_id\n",
    "        where o.dec_reason = 'NOT DECLINED' \n",
    "        and o.platform_partner = 'Snapdeal' \n",
    "        and (p.pan_no is not null and pan_no<>'nan') \n",
    "        and o.created_at between '2023-01-01' and '2023-10-27'\n",
    "        )\n",
    "where rnk = 1;\n",
    "\"\"\"\n",
    "\n",
    "idfc_offers = (\n",
    "    extractorFromQuery()\n",
    "    .queryExecutor(Q)\n",
    ")\n",
    "\n",
    "idfc_offers.shape"
   ]
  },
  {
   "cell_type": "markdown",
   "metadata": {},
   "source": [
    "#### Creating Aggregate CRIF tradeline data"
   ]
  },
  {
   "cell_type": "code",
   "execution_count": null,
   "metadata": {},
   "outputs": [],
   "source": [
    "Q = \"\"\"select los_app_id, count(los_app_id) as no_tr_l6m from(select los_app_id\n",
    "from analytics.crif_files.account\n",
    "where disbursed_dt >= '2023-04-27'\n",
    ")\n",
    "group by los_app_id\"\"\"\n",
    "\n",
    "no_tr_l6m = (\n",
    "    extractorFromQuery()\n",
    "    .queryExecutor(Q)\n",
    ")\n",
    "no_tr_l6m.shape"
   ]
  },
  {
   "cell_type": "code",
   "execution_count": null,
   "metadata": {},
   "outputs": [],
   "source": [
    "Q = \"\"\"select los_app_id, max(credit_card_util) as max_cc_util from(select los_app_id, \n",
    "CASE when (credit_limit > 0) then (current_bal/credit_limit) \n",
    "when (disbursed_amt > 0) then (current_bal/disbursed_amt)\n",
    "else null end as credit_card_util\n",
    "from analytics.crif_files.account\n",
    "where acct_type in ('Secured Credit Card', 'Credit Card', 'Kisan Credit Card', 'Loan on Credit Card', 'Loan against Card', 'Corporate Credit Card', 'Fleet Card')\n",
    ")\n",
    "group by los_app_id\"\"\"\n",
    "\n",
    "max_cc_util = (\n",
    "    extractorFromQuery()\n",
    "    .queryExecutor(Q)\n",
    ")\n",
    "max_cc_util.shape"
   ]
  },
  {
   "cell_type": "code",
   "execution_count": null,
   "metadata": {},
   "outputs": [],
   "source": [
    "max_cc_util.head(2)"
   ]
  },
  {
   "cell_type": "code",
   "execution_count": null,
   "metadata": {},
   "outputs": [],
   "source": [
    "Q = \"\"\"select distinct crn, score as crif_score\n",
    "from analytics.crif_files.idfc_output\n",
    "where dec_reason = 'NOT DECLINED'\"\"\"\n",
    "\n",
    "crif_score = (\n",
    "    extractorFromQuery()\n",
    "    .queryExecutor(Q)\n",
    ")\n",
    "crif_score.shape"
   ]
  },
  {
   "cell_type": "code",
   "execution_count": null,
   "metadata": {},
   "outputs": [],
   "source": [
    "crif_score.loc[crif_score.crif_score.astype(float) < 650, 'crif_score'].value_counts(dropna=False).sum()"
   ]
  },
  {
   "cell_type": "code",
   "execution_count": null,
   "metadata": {},
   "outputs": [],
   "source": [
    "Q = \"\"\"select distinct crn,\n",
    "1 as carded,\n",
    "sector\n",
    "from analytics.crif_files.idfc_output\n",
    "where sector in ('Secured Credit Card', 'Credit Card', 'Kisan Credit Card', 'Loan on Credit Card', 'Loan against Card', 'Corporate Credit Card', 'Fleet Card')\"\"\"\n",
    "\n",
    "carded = (\n",
    "    extractorFromQuery()\n",
    "    .queryExecutor(Q)\n",
    ")\n",
    "carded.head()"
   ]
  },
  {
   "cell_type": "code",
   "execution_count": null,
   "metadata": {},
   "outputs": [],
   "source": [
    "Q = \"\"\"select crn,\n",
    "max(ever_delq),\n",
    "max(max_delq24),\n",
    "max(max_delq12),\n",
    "max(max_delq9),\n",
    "max(max_delq6),\n",
    "max(max_delq3),\n",
    "min(credit_limit_santionedamount),\n",
    "max(writeoff_status)\n",
    "from analytics.crif_files.idfc_output\n",
    "group by crn\"\"\"\n",
    "\n",
    "perf = (\n",
    "    extractorFromQuery()\n",
    "    .queryExecutor(Q)\n",
    ")\n",
    "perf.head()"
   ]
  },
  {
   "cell_type": "markdown",
   "metadata": {},
   "source": [
    "#### Creating Aggregate CRIF Enquiry data"
   ]
  },
  {
   "cell_type": "code",
   "execution_count": null,
   "metadata": {},
   "outputs": [],
   "source": [
    "Q = \"\"\"select crn, los_app_id, enquirydate\n",
    "from analytics.crif_files.idfc_inq\"\"\"\n",
    "\n",
    "idfc_inq = (\n",
    "    extractorFromQuery()\n",
    "    .queryExecutor(Q)\n",
    ")\n",
    "idfc_inq.shape"
   ]
  },
  {
   "cell_type": "code",
   "execution_count": null,
   "metadata": {},
   "outputs": [],
   "source": [
    "idfc_inq.head()"
   ]
  },
  {
   "cell_type": "code",
   "execution_count": null,
   "metadata": {},
   "outputs": [],
   "source": [
    "idfc_inq.isna().sum()"
   ]
  },
  {
   "cell_type": "code",
   "execution_count": null,
   "metadata": {},
   "outputs": [],
   "source": [
    "idfc_inq_df = idfc_inq.groupby(['crn'])['los_app_id'].count().reset_index().rename(columns = {'los_app_id':'enquiry_count_all'}).merge(\n",
    "idfc_inq[idfc_inq.enquirydate.notna()].groupby(['crn'])['los_app_id'].count().reset_index().rename(columns = {'los_app_id':'enquiry_count_date_present'}), on = 'crn', how = 'left').merge(\n",
    "idfc_inq[pd.to_datetime(idfc_inq['enquirydate']) >= pd.to_datetime('2023-05-01')].groupby(['crn'])['los_app_id'].count().reset_index().rename(columns = {'los_app_id':'enquiry_count_l6m'}), on = 'crn', how = 'left').merge(\n",
    "idfc_inq[pd.to_datetime(idfc_inq['enquirydate']) >= pd.to_datetime('2023-08-01')].groupby(['crn'])['los_app_id'].count().reset_index().rename(columns = {'los_app_id':'enquiry_count_l3m'}), on = 'crn', how = 'left')\n",
    "idfc_inq_df.head()\n"
   ]
  },
  {
   "cell_type": "markdown",
   "metadata": {},
   "source": [
    "#### Approved base"
   ]
  },
  {
   "cell_type": "code",
   "execution_count": null,
   "metadata": {},
   "outputs": [],
   "source": [
    "Q = \"\"\"select source_request_id as crn,\n",
    "bureau_score,\n",
    "exist_customer_flag,\n",
    "loan_amount,\n",
    "risk_segment,\n",
    "roi,\n",
    "yob,\n",
    "1 as approved\n",
    "from analytics.temp_test.idfc_whitelisted\"\"\"\n",
    "\n",
    "idfc_approved = (\n",
    "    extractorFromQuery()\n",
    "    .queryExecutor(Q)\n",
    ")\n",
    "idfc_approved.shape"
   ]
  },
  {
   "cell_type": "code",
   "execution_count": null,
   "metadata": {},
   "outputs": [],
   "source": [
    "idfc_approved.head()"
   ]
  },
  {
   "cell_type": "code",
   "execution_count": null,
   "metadata": {},
   "outputs": [],
   "source": [
    "idfc_base = pd.merge(idfc_offers, idfc_inq_df, on='crn', how='left') \\\n",
    "    .merge(idfc_approved, on='crn', how='left') \\\n",
    "    .merge(crif_score, on='crn', how='left') \\\n",
    "    .merge(perf, on='crn', how='left') \\\n",
    "    .merge(carded, on='crn', how='left') \\\n",
    "    .merge(no_tr_l6m, on='los_app_id', how='left') \\\n",
    "    .merge(max_cc_util, on='los_app_id', how='left')\n",
    "idfc_base.shape"
   ]
  },
  {
   "cell_type": "markdown",
   "metadata": {},
   "source": [
    "Blocked pincodes"
   ]
  },
  {
   "cell_type": "code",
   "execution_count": null,
   "metadata": {},
   "outputs": [],
   "source": [
    "pincode_blocked = pd.read_excel('Pincode List_Blocking 09102023 IDFC.xlsx')\n",
    "pincode_blocked.head()"
   ]
  },
  {
   "cell_type": "code",
   "execution_count": null,
   "metadata": {},
   "outputs": [],
   "source": [
    "idfc_base.loc[idfc_base.pincode.isin(pincode_blocked.Pincodes), 'loan_application_status'].value_counts()"
   ]
  },
  {
   "cell_type": "code",
   "execution_count": null,
   "metadata": {},
   "outputs": [],
   "source": [
    "idfc_base.loc[idfc_base.pincode.isin(pincode_blocked.Pincodes), 'approved'].sum()"
   ]
  },
  {
   "cell_type": "code",
   "execution_count": null,
   "metadata": {},
   "outputs": [],
   "source": [
    "idfc_base[['max_cc_util', 'no_tr_l6m']] = idfc_base[['max_cc_util', 'no_tr_l6m']].fillna(0)"
   ]
  },
  {
   "cell_type": "markdown",
   "metadata": {},
   "source": [
    "Fixing CRIF issue"
   ]
  },
  {
   "cell_type": "code",
   "execution_count": null,
   "metadata": {},
   "outputs": [],
   "source": [
    "idfc_base['crif_score'] = idfc_base.crif_score.astype(float)\n",
    "idfc_base = idfc_base[idfc_base.crif_score >= 650].reset_index(drop=True)"
   ]
  },
  {
   "cell_type": "code",
   "execution_count": null,
   "metadata": {},
   "outputs": [],
   "source": [
    "idfc_base.shape"
   ]
  },
  {
   "cell_type": "code",
   "execution_count": null,
   "metadata": {},
   "outputs": [],
   "source": [
    "idfc_base.drop_duplicates(subset = 'crn', inplace=True)\n",
    "idfc_base.shape"
   ]
  },
  {
   "cell_type": "markdown",
   "metadata": {},
   "source": [
    "## Analysis"
   ]
  },
  {
   "cell_type": "markdown",
   "metadata": {},
   "source": [
    "### Figuring out hard rules"
   ]
  },
  {
   "cell_type": "markdown",
   "metadata": {},
   "source": [
    "Carded"
   ]
  },
  {
   "cell_type": "code",
   "execution_count": null,
   "metadata": {},
   "outputs": [],
   "source": [
    "idfc_base.loc[idfc_base.approved.notna(), 'sector'].value_counts(dropna=False)"
   ]
  },
  {
   "cell_type": "code",
   "execution_count": null,
   "metadata": {},
   "outputs": [],
   "source": [
    "idfc_base.carded.value_counts(dropna=False)"
   ]
  },
  {
   "cell_type": "markdown",
   "metadata": {},
   "source": [
    "CRIF score"
   ]
  },
  {
   "cell_type": "code",
   "execution_count": null,
   "metadata": {},
   "outputs": [],
   "source": [
    "idfc_base.bureau_score.min(), idfc_base.bureau_score.max()"
   ]
  },
  {
   "cell_type": "code",
   "execution_count": null,
   "metadata": {},
   "outputs": [],
   "source": [
    "plt.figure(figsize=(8, 6))\n",
    "idfc_base.hist(column = 'bureau_score', bins=20)\n",
    "plt.title(f'Histogram for bureau_score')\n",
    "plt.xlabel('bureau_score')\n",
    "plt.ylabel('Frequency')\n",
    "plt.show()"
   ]
  },
  {
   "cell_type": "code",
   "execution_count": null,
   "metadata": {},
   "outputs": [],
   "source": [
    "idfc_base.crif_score.min(), idfc_base.crif_score.max()"
   ]
  },
  {
   "cell_type": "code",
   "execution_count": null,
   "metadata": {},
   "outputs": [],
   "source": [
    "plt.figure(figsize=(8, 6))\n",
    "idfc_base.hist(column = 'crif_score', bins=20)\n",
    "plt.title(f'Histogram for crif_score')\n",
    "plt.xlabel('crif_score')\n",
    "plt.ylabel('Frequency')\n",
    "plt.show()"
   ]
  },
  {
   "cell_type": "markdown",
   "metadata": {},
   "source": [
    "Year of birth"
   ]
  },
  {
   "cell_type": "code",
   "execution_count": null,
   "metadata": {},
   "outputs": [],
   "source": [
    "idfc_base.yob.min(), idfc_base.yob.max()\n",
    "# Max age - 60, min age - 20"
   ]
  },
  {
   "cell_type": "code",
   "execution_count": null,
   "metadata": {},
   "outputs": [],
   "source": [
    "plt.figure(figsize=(8, 6))\n",
    "idfc_base.hist(column = 'yob', bins=20)\n",
    "plt.title(f'Histogram for yob')\n",
    "plt.xlabel('yob')\n",
    "plt.ylabel('Frequency')\n",
    "plt.show()"
   ]
  },
  {
   "cell_type": "markdown",
   "metadata": {},
   "source": [
    "Enquiry"
   ]
  },
  {
   "cell_type": "code",
   "execution_count": null,
   "metadata": {},
   "outputs": [],
   "source": [
    "idfc_base['enquiry_count_all'].value_counts(dropna=False)"
   ]
  },
  {
   "cell_type": "code",
   "execution_count": null,
   "metadata": {},
   "outputs": [],
   "source": [
    "idfc_base.loc[idfc_base.approved.notna(), 'enquiry_count_all'].value_counts(dropna=False)"
   ]
  },
  {
   "cell_type": "code",
   "execution_count": null,
   "metadata": {},
   "outputs": [],
   "source": [
    "idfc_base['enquiry_count_date_present'].value_counts(dropna=False)"
   ]
  },
  {
   "cell_type": "code",
   "execution_count": null,
   "metadata": {},
   "outputs": [],
   "source": [
    "idfc_base.loc[idfc_base.approved.notna(), 'enquiry_count_date_present'].value_counts(dropna=False)"
   ]
  },
  {
   "cell_type": "code",
   "execution_count": null,
   "metadata": {},
   "outputs": [],
   "source": [
    "idfc_base['enquiry_count_l6m'].value_counts(dropna=False)"
   ]
  },
  {
   "cell_type": "code",
   "execution_count": null,
   "metadata": {},
   "outputs": [],
   "source": [
    "idfc_base.loc[idfc_base.approved.notna(), 'enquiry_count_l6m'].value_counts(dropna=False)"
   ]
  },
  {
   "cell_type": "code",
   "execution_count": null,
   "metadata": {},
   "outputs": [],
   "source": [
    "idfc_base['enquiry_count_l3m'].value_counts(dropna=False)"
   ]
  },
  {
   "cell_type": "code",
   "execution_count": null,
   "metadata": {},
   "outputs": [],
   "source": [
    "idfc_base.loc[idfc_base.approved.notna(), 'enquiry_count_l3m'].value_counts(dropna=False)"
   ]
  },
  {
   "cell_type": "markdown",
   "metadata": {},
   "source": [
    "max_cc_util"
   ]
  },
  {
   "cell_type": "code",
   "execution_count": null,
   "metadata": {},
   "outputs": [],
   "source": [
    "idfc_base['max_cc_util'] = np.where((idfc_base['max_cc_util'] < 0) | (idfc_base['max_cc_util'] >= 1) | idfc_base['max_cc_util'].isna(), 0, idfc_base['max_cc_util'])"
   ]
  },
  {
   "cell_type": "code",
   "execution_count": null,
   "metadata": {},
   "outputs": [],
   "source": [
    "idfc_base['max_cc_util'].min(), idfc_base['max_cc_util'].max()"
   ]
  },
  {
   "cell_type": "code",
   "execution_count": null,
   "metadata": {},
   "outputs": [],
   "source": [
    "idfc_base.loc[idfc_base.approved.notna(), 'max_cc_util'].min(), idfc_base.loc[idfc_base.approved.notna(), 'max_cc_util'].max()"
   ]
  },
  {
   "cell_type": "code",
   "execution_count": null,
   "metadata": {},
   "outputs": [],
   "source": [
    "import seaborn as sns\n",
    "sns.kdeplot(idfc_base.loc[idfc_base.approved.notna()], x = 'max_cc_util')\n",
    "plt.show()"
   ]
  },
  {
   "cell_type": "code",
   "execution_count": null,
   "metadata": {},
   "outputs": [],
   "source": [
    "plt.figure(figsize=(8, 6))\n",
    "idfc_base.hist(column = 'max_cc_util', bins=200)\n",
    "plt.title(f'Histogram for max_cc_util')\n",
    "plt.xlabel('max_cc_util')\n",
    "plt.ylabel('Frequency')\n",
    "plt.show()"
   ]
  },
  {
   "cell_type": "code",
   "execution_count": null,
   "metadata": {},
   "outputs": [],
   "source": [
    "plt.figure(figsize=(8, 6))\n",
    "idfc_base.loc[idfc_base.approved.notna()].hist(column = 'max_cc_util', bins=200)\n",
    "plt.title(f'Histogram for max_cc_util')\n",
    "plt.xlabel('max_cc_util')\n",
    "plt.ylabel('Frequency')\n",
    "plt.show()"
   ]
  },
  {
   "cell_type": "code",
   "execution_count": null,
   "metadata": {},
   "outputs": [],
   "source": [
    "idfc_base.head(2)"
   ]
  },
  {
   "cell_type": "markdown",
   "metadata": {},
   "source": [
    "MAX(EVER_DELQ)"
   ]
  },
  {
   "cell_type": "code",
   "execution_count": null,
   "metadata": {},
   "outputs": [],
   "source": [
    "idfc_base['MAX(EVER_DELQ)'].min(), idfc_base['MAX(EVER_DELQ)'].max()"
   ]
  },
  {
   "cell_type": "code",
   "execution_count": null,
   "metadata": {},
   "outputs": [],
   "source": [
    "idfc_base.loc[idfc_base.approved.notna(), 'MAX(EVER_DELQ)'].min(), idfc_base.loc[idfc_base.approved.notna(), 'MAX(EVER_DELQ)'].max()"
   ]
  },
  {
   "cell_type": "code",
   "execution_count": null,
   "metadata": {},
   "outputs": [],
   "source": [
    "plt.figure(figsize=(8, 6))\n",
    "idfc_base.hist(column = 'MAX(EVER_DELQ)', bins=20)\n",
    "plt.title(f'Histogram for MAX(EVER_DELQ)')\n",
    "plt.xlabel('MAX(EVER_DELQ)')\n",
    "plt.ylabel('Frequency')\n",
    "plt.show()"
   ]
  },
  {
   "cell_type": "code",
   "execution_count": null,
   "metadata": {},
   "outputs": [],
   "source": [
    "plt.figure(figsize=(8, 6))\n",
    "idfc_base.loc[idfc_base.approved.notna()].hist(column = 'MAX(EVER_DELQ)', bins=20)\n",
    "plt.title(f'Histogram for MAX(EVER_DELQ)')\n",
    "plt.xlabel('MAX(EVER_DELQ)')\n",
    "plt.ylabel('Frequency')\n",
    "plt.show()"
   ]
  },
  {
   "cell_type": "markdown",
   "metadata": {},
   "source": [
    "MAX(MAX_DELQ3)"
   ]
  },
  {
   "cell_type": "code",
   "execution_count": null,
   "metadata": {},
   "outputs": [],
   "source": [
    "idfc_base['MAX(MAX_DELQ3)'].min(), idfc_base['MAX(MAX_DELQ3)'].max()"
   ]
  },
  {
   "cell_type": "code",
   "execution_count": null,
   "metadata": {},
   "outputs": [],
   "source": [
    "idfc_base.loc[idfc_base.approved.notna(), 'MAX(MAX_DELQ3)'].min(), idfc_base.loc[idfc_base.approved.notna(), 'MAX(MAX_DELQ3)'].max()"
   ]
  },
  {
   "cell_type": "code",
   "execution_count": null,
   "metadata": {},
   "outputs": [],
   "source": [
    "plt.figure(figsize=(8, 6))\n",
    "idfc_base.hist(column = 'MAX(MAX_DELQ3)', bins=10)\n",
    "plt.title(f'Histogram for MAX(MAX_DELQ3)')\n",
    "plt.xlabel('MAX(MAX_DELQ3)')\n",
    "plt.ylabel('Frequency')\n",
    "plt.show()"
   ]
  },
  {
   "cell_type": "code",
   "execution_count": null,
   "metadata": {},
   "outputs": [],
   "source": [
    "plt.figure(figsize=(8, 6))\n",
    "idfc_base.loc[idfc_base.approved.notna()].hist(column = 'MAX(MAX_DELQ3)', bins=10)\n",
    "plt.title(f'Histogram for MAX(MAX_DELQ3)')\n",
    "plt.xlabel('MAX(MAX_DELQ3)')\n",
    "plt.ylabel('Frequency')\n",
    "plt.show()"
   ]
  },
  {
   "cell_type": "markdown",
   "metadata": {},
   "source": [
    "### Approved Analysis"
   ]
  },
  {
   "cell_type": "markdown",
   "metadata": {},
   "source": [
    "#### Propensity"
   ]
  },
  {
   "cell_type": "code",
   "execution_count": null,
   "metadata": {},
   "outputs": [],
   "source": [
    "idfc_base.propensity.value_counts(dropna=False)"
   ]
  },
  {
   "cell_type": "code",
   "execution_count": null,
   "metadata": {},
   "outputs": [],
   "source": [
    "idfc_base[idfc_base.approved.notna()].propensity.value_counts(dropna=False)"
   ]
  },
  {
   "cell_type": "code",
   "execution_count": null,
   "metadata": {},
   "outputs": [],
   "source": [
    "so_wc_screen = pd.read_excel('Welcome screen base.xlsx')\n",
    "so_wc_screen.head()"
   ]
  },
  {
   "cell_type": "code",
   "execution_count": null,
   "metadata": {},
   "outputs": [],
   "source": [
    "idfc_base.loc[idfc_base['Phone_Number'].isin(so_wc_screen['Phone number'].astype(str)), 'propensity'].value_counts(dropna=False, normalize=True)"
   ]
  },
  {
   "cell_type": "markdown",
   "metadata": {},
   "source": [
    "#### Category"
   ]
  },
  {
   "cell_type": "code",
   "execution_count": null,
   "metadata": {},
   "outputs": [],
   "source": [
    "idfc_base.category.value_counts(dropna=False)"
   ]
  },
  {
   "cell_type": "code",
   "execution_count": null,
   "metadata": {},
   "outputs": [],
   "source": [
    "idfc_base[idfc_base.approved.notna()].category.value_counts(dropna=False)"
   ]
  },
  {
   "cell_type": "markdown",
   "metadata": {},
   "source": [
    "#### NAPS"
   ]
  },
  {
   "cell_type": "code",
   "execution_count": null,
   "metadata": {},
   "outputs": [],
   "source": [
    "def naps_score_bkt(row, var):\n",
    "    if row[var] <= 675:\n",
    "        return '<=675'\n",
    "    elif row[var] <= 690:\n",
    "        return '675-690'\n",
    "    elif row[var] <= 715:\n",
    "        return '690-715'\n",
    "    elif row[var] <= 750:\n",
    "        return '715-750'\n",
    "    elif row[var] <= 790:\n",
    "        return '750-790'\n",
    "    else:\n",
    "        return '790+'"
   ]
  },
  {
   "cell_type": "code",
   "execution_count": null,
   "metadata": {},
   "outputs": [],
   "source": [
    "idfc_base['naps_band'] = idfc_base.apply(naps_score_bkt,var='naps_score',axis=1)"
   ]
  },
  {
   "cell_type": "code",
   "execution_count": null,
   "metadata": {},
   "outputs": [],
   "source": [
    "idfc_base.naps_band.value_counts(dropna=False)"
   ]
  },
  {
   "cell_type": "code",
   "execution_count": null,
   "metadata": {},
   "outputs": [],
   "source": [
    "idfc_base[idfc_base.approved.notna()].naps_band.value_counts(dropna=False)"
   ]
  },
  {
   "cell_type": "markdown",
   "metadata": {},
   "source": [
    "#### Approved case analysis"
   ]
  },
  {
   "cell_type": "code",
   "execution_count": null,
   "metadata": {},
   "outputs": [],
   "source": [
    "def loan_amount_bkt(row, var):\n",
    "    if row[var] <= 80000:\n",
    "        return '<=80K'\n",
    "    elif row[var] <= 100000:\n",
    "        return '80K-100K'\n",
    "    elif row[var] <= 200000:\n",
    "        return '100K-200K'\n",
    "    elif row[var] <= 300000:\n",
    "        return '200K-300K'\n",
    "    else:\n",
    "        return '300K+'\n",
    "\n",
    "def roi_bkt(row, var):\n",
    "    if row[var] <= 19:\n",
    "        return '<=19'\n",
    "    elif row[var] <= 21:\n",
    "        return '19-21'\n",
    "    elif row[var] <= 24:\n",
    "        return '21-24'\n",
    "    elif row[var] <= 26:\n",
    "        return '24-26'\n",
    "    elif row[var] <= 28:\n",
    "        return '26-28'\n",
    "    else:\n",
    "        return '28+'"
   ]
  },
  {
   "cell_type": "code",
   "execution_count": null,
   "metadata": {},
   "outputs": [],
   "source": [
    "idfc_base['idfc_la_bkt'] = idfc_base.apply(loan_amount_bkt,var='loan_amount',axis=1)\n",
    "idfc_base['niro_la_bkt'] = idfc_base.apply(loan_amount_bkt,var='max_amount',axis=1)"
   ]
  },
  {
   "cell_type": "code",
   "execution_count": null,
   "metadata": {},
   "outputs": [],
   "source": [
    "idfc_base['idfc_roi_bkt'] = idfc_base.apply(roi_bkt,var='roi',axis=1)\n",
    "idfc_base['niro_roi_bkt'] = idfc_base.apply(roi_bkt,var='interest_rate_perc',axis=1)"
   ]
  },
  {
   "cell_type": "markdown",
   "metadata": {},
   "source": [
    "#### Disbursed"
   ]
  },
  {
   "cell_type": "code",
   "execution_count": null,
   "metadata": {},
   "outputs": [],
   "source": [
    "idfc_base[idfc_base.loan_application_status.isin(['CLOSED','LOAN_EXECUTED'])]"
   ]
  },
  {
   "cell_type": "markdown",
   "metadata": {},
   "source": [
    "#### IDFC cleanest base"
   ]
  },
  {
   "cell_type": "code",
   "execution_count": null,
   "metadata": {},
   "outputs": [],
   "source": [
    "idfc_base['approved'] = np.where(idfc_base['approved'].isna(), \"Not Approved\", \"Approved\")"
   ]
  },
  {
   "cell_type": "code",
   "execution_count": null,
   "metadata": {},
   "outputs": [],
   "source": [
    "clean_base = idfc_base[idfc_base['carded'].notna() & (idfc_base['MAX(EVER_DELQ)'] < 30) & (idfc_base['crif_score'] >= 700) & (idfc_base['enquiry_count_l6m'] <= 3) & (idfc_base['max_cc_util'] <= 0.65) & (idfc_base['no_tr_l6m'] <= 1)].reset_index(drop=True)"
   ]
  },
  {
   "cell_type": "code",
   "execution_count": null,
   "metadata": {},
   "outputs": [],
   "source": [
    "idfc_base[~idfc_base.crn.isin(clean_base.crn) & idfc_base['carded'].notna()].shape"
   ]
  },
  {
   "cell_type": "code",
   "execution_count": null,
   "metadata": {},
   "outputs": [],
   "source": [
    "clean_base.shape"
   ]
  },
  {
   "cell_type": "code",
   "execution_count": null,
   "metadata": {},
   "outputs": [],
   "source": [
    "clean_base.approved.value_counts(dropna=False)"
   ]
  },
  {
   "cell_type": "code",
   "execution_count": null,
   "metadata": {},
   "outputs": [],
   "source": [
    "clean_base.approved.value_counts(normalize = True, dropna=False)"
   ]
  },
  {
   "cell_type": "code",
   "execution_count": null,
   "metadata": {},
   "outputs": [],
   "source": [
    "idfc_base[idfc_base['carded'].notna()].crif_score "
   ]
  },
  {
   "cell_type": "code",
   "execution_count": null,
   "metadata": {},
   "outputs": [],
   "source": [
    "idfc_base[~idfc_base.crn.isin(clean_base.crn) & idfc_base['carded'].notna()].approved.value_counts(normalize=True, dropna=False)"
   ]
  },
  {
   "cell_type": "code",
   "execution_count": null,
   "metadata": {},
   "outputs": [],
   "source": [
    "# idfc_base[idfc_base.approved.notna()].reset_index(drop=True).to_csv('approved_base_idfc.csv')"
   ]
  },
  {
   "cell_type": "code",
   "execution_count": null,
   "metadata": {},
   "outputs": [],
   "source": [
    "clean_base.to_excel('clean_base.xlsx')"
   ]
  },
  {
   "cell_type": "markdown",
   "metadata": {},
   "source": [
    "#### Rejected base vs Approved base"
   ]
  },
  {
   "cell_type": "code",
   "execution_count": null,
   "metadata": {},
   "outputs": [],
   "source": [
    "idfc_base.head()"
   ]
  },
  {
   "cell_type": "code",
   "execution_count": null,
   "metadata": {},
   "outputs": [],
   "source": [
    "idfc_base[idfc_base.approved.isin(['Approved'])].shape"
   ]
  },
  {
   "cell_type": "code",
   "execution_count": null,
   "metadata": {},
   "outputs": [],
   "source": [
    "import seaborn as sns\n",
    "import matplotlib.pyplot as plt\n",
    "\n",
    "# Define function to remove outliers using IQR method\n",
    "def remove_outliers(df, column):\n",
    "    Q1 = df[column].quantile(0.25)\n",
    "    Q3 = df[column].quantile(0.75)\n",
    "    IQR = Q3 - Q1\n",
    "    lower_bound = Q1 - 1.5 * IQR\n",
    "    upper_bound = Q3 + 1.5 * IQR\n",
    "    return df[(df[column] >= lower_bound) & (df[column] <= upper_bound)]\n",
    "\n",
    "fields = [\"crif_score\", \"no_tr_l6m\", \"enquiry_count_all\", \"enquiry_count_date_present\", \"enquiry_count_l6m\", \"enquiry_count_l3m\", \"MAX(EVER_DELQ)\", \"MAX(MAX_DELQ24)\", \"MAX(MAX_DELQ12)\", \"MAX(MAX_DELQ9)\", \"MAX(MAX_DELQ6)\", \"MAX(MAX_DELQ3)\", \"max_cc_util\", \"age\"]\n",
    "\n",
    "for field in fields:\n",
    "    idfc_base_no_outliers = remove_outliers(idfc_base, field)\n",
    "\n",
    "    # Create box plot without outliers\n",
    "    plt.figure(figsize=(10, 6))\n",
    "    sns.boxplot(x=\"approved\", y=field, data=idfc_base_no_outliers)\n",
    "    plt.title(field)\n",
    "    plt.ylabel(field)\n",
    "    plt.show()\n"
   ]
  },
  {
   "cell_type": "code",
   "execution_count": null,
   "metadata": {},
   "outputs": [],
   "source": [
    "idfc_base['crif_score_bkt'] = np.where(idfc_base['crif_score'] <= 700, 'A) 650 - 700',\n",
    "                                np.where(idfc_base['crif_score'] <= 720, 'B) 700 - 720',\n",
    "                                    np.where(idfc_base['crif_score'] <= 750, 'C) 720 - 750',\n",
    "                                        np.where(idfc_base['crif_score'] <= 800, 'D) 750 - 800',\n",
    "                                            np.where(idfc_base['crif_score'] > 800, 'E) 800+',None)))))"
   ]
  },
  {
   "cell_type": "markdown",
   "metadata": {},
   "source": [
    "#### CRIF vs Risk segment crosstab"
   ]
  },
  {
   "cell_type": "code",
   "execution_count": null,
   "metadata": {},
   "outputs": [],
   "source": [
    "import pandas as pd\n",
    "\n",
    "# Assuming 'approved' column contains 'Approved' or 'Not Approved'\n",
    "# Replace 'Approved' with 1 and 'Not Approved' with 0\n",
    "idfc_base['approved_binary'] = idfc_base['approved'].replace({'Approved': 1, 'Not Approved': 0})\n",
    "\n",
    "# Create crosstab\n",
    "cross_tab = pd.crosstab(index=idfc_base['crif_score_bkt'], \n",
    "                        columns=idfc_base['risk_segment'], \n",
    "                        values=idfc_base['approved_binary'], \n",
    "                        aggfunc='sum')\n",
    "\n",
    "# Calculate total approvals for each crif_score_bkt\n",
    "total_approvals = cross_tab.sum().sum()\n",
    "\n",
    "# Calculate percentages\n",
    "cross_tab_percentages = cross_tab.divide(total_approvals, axis=0) * 100\n",
    "\n",
    "print(cross_tab_percentages)\n"
   ]
  },
  {
   "cell_type": "code",
   "execution_count": null,
   "metadata": {},
   "outputs": [],
   "source": [
    "idfc_base.head()"
   ]
  },
  {
   "cell_type": "markdown",
   "metadata": {},
   "source": [
    "## CIBIL data"
   ]
  },
  {
   "cell_type": "code",
   "execution_count": null,
   "metadata": {},
   "outputs": [],
   "source": [
    "cibil_df_with_cvattrs = \"\"\"\n",
    "            select * from (\n",
    "            select \n",
    "            distinct la.id,\n",
    "            pii.gender as cibil_gender,\n",
    "            pii.pin as cibil_pincode,\n",
    "            pii.calculated_age,\n",
    "            pii.city as cibil_city,\n",
    "            pii.state as cibil_state,\n",
    "            pii.native_language,\n",
    "            tli.*,\n",
    "            date_trunc(\"MONTH\",date(od.created_at)) as createdate,\n",
    "            rank()over(partition by od.user_id order by od.created_at asc) as rnk\n",
    "            from NIRO_RDS.NIRO_DATA.CORE__PUBLIC__LOAN_APPLICATION la\n",
    "            left join NIRO_RDS.NIRO_DATA.core__public__offer_user_details ou on ou.offer_id = la.offer_id\n",
    "            left join ANALYTICS.OFFERS.offer_details od on od.user_id = la.user_id and od.category = ou.category\n",
    "            left join ANALYTICS.OFFERS.personal_info pii on od.pii_id = pii.pii_id\n",
    "            left join ANALYTICS.OFFERS.tradeline_info tli on tli.tli_id = od.tli_id\n",
    "            where la.is_deleted = False\n",
    "            and(la.is_deleted_at_source = false or la.is_deleted_at_source is null)\n",
    "            )\n",
    "where rnk = 1;\n",
    "\"\"\"\n",
    "cibil_df = (\n",
    "    extractorFromQuery()\n",
    "    .queryExecutor(cibil_df_with_cvattrs)\n",
    ")\n",
    "cibil_df.shape"
   ]
  },
  {
   "cell_type": "code",
   "execution_count": null,
   "metadata": {},
   "outputs": [],
   "source": [
    "column_name_map = {'agg911': 'max_aggregate_bankcard_utilisation_l12m', 'rvlr01': 'cc_util_revolving_l1m', 'bcpmtstr': 'bank_card_payment_category', 'cv11': 'no_of_60p_accs_ever', 'cv14': 'no_of_deduped_inquiries', \n",
    "                   'mt28s': 'total_cl_open_mortgage_trades_l12m', 'mt33s': 'total_balance_open_mortgage_trades_l12m', 'pl33s':'total_bal_of_open_pl_l12m', 'at20s':'months_since_oldest_trade', \n",
    "                   'mt01s':'no_of_mortgage_trades', 'bc02s':'no_of_open_cc_trades', 'bg01s':'no_of_business_general_trades', 'cv10':'no_of_30p_accs_ever', 'trd':'no_of_trades', 'at33a':'total_bal_open_trades_l12m',\n",
    "                   'au33s':'total_bal_open_auto_trades_l12m', 'co04s180':'months_since_recent_chargedoff180P', 'au28s':'total_cl_open_auto_trades_l12m', 'pl28s':'total_cl_open_pl_trades_l12m',\n",
    "                   'co01s180':'no_of_chargedoff180P', 'bc28s':'total_cl_of_cc_trades_l12m', 'cv12':'no_of_90p_accs_ever', 'co05s':'total_bal_of_chargedoff_trades', 'g310s':'worst_rating_l12m',\n",
    "                   'aggs911':'current_utilization_of_top_wallet_bankcard', 'at01s':'no_of_trades_pl_2w_gl_cd', 'at33a_ne_ccod':'total_bal_open_trades_l12m_except_wo_cc_od', 'cv14_12m':'no_of_deduped_inquiries_l12m',\n",
    "                   'cv14_6m':'no_of_deduped_inquiries_l6m', 'cv14_3m':'no_of_deduped_inquiries_l3m', 'cv14_1m':'no_of_deduped_inquiries_l1m', 'g310s_24m':'worst_rating_l24m',\n",
    "                   'g310s_6m':'worst_rating_l6m', 'g310s_3m':'worst_rating_l3m', 'g310s_1m':'worst_rating_l1m', 'cv11_24m':'no_of_60p_accs_l24m', 'cv11_12m':'no_of_60p_accs_l12m', 'g057s_1dpd_36m': 'no_of_trades_bounced_l36m',\n",
    "                   'g057s_1dpd_12m':'no_of_trades_bounced_l12m', 'bc106s_60dpd':'no_of_cc_trades_60P_l24m', 'bc107s_24m':'no_of_30P_cc_l24m', 'bc106s_60dpd_12m':'no_of_cc_trades_60P_l12m', 'bc107s_12m':'no_of_30P_cc_l12m',\n",
    "                   'bc106s_le_30dpd_12m':'no_of_cc_lt30p_l12m', 'bc09s_36m_hcsa_le_30':'no_cc_sanctionedamt_lt30K_l36m', 'pl09s_36m_hcsa_le_30':'no_pl_sanctionedamt_lt30K_l36m', 'at09s_6m':'no_tr_opened_l6m',\n",
    "                   'g310s_36m':'worst_dpd_l36m', 'at33a_ne_wo':'total_bal_open_trades_l12m_minus_total_bal_of_chargedoff_trades', 'at09s_12m':'no_tr_opened_l12m', 'at09s_3m':'no_tr_opened_l3m', 'cv13':'per_of_30p_accs_ever',\n",
    "                    'cv24':'total_payment_amount_bankcard_accs_l3m', 'revs904':'max_revolving_monthly_spend_l12m', 'cv20':'total_monthly_obligations_l3m', 'cv22':'total_balance_bankcard_accs_l3m', \n",
    "                    'ul_trd':'no_of_trades_unsec', 'cv21':'total_payment_amount_l3m', 'g310s_2m':'worst_dpd_l2m'}"
   ]
  },
  {
   "cell_type": "code",
   "execution_count": null,
   "metadata": {},
   "outputs": [],
   "source": [
    "cibil_df.rename(columns = column_name_map, inplace=True)\n",
    "cibil_df.drop_duplicates(subset=[\"id\"], inplace=True)"
   ]
  },
  {
   "cell_type": "code",
   "execution_count": null,
   "metadata": {},
   "outputs": [],
   "source": [
    "idfc_base = idfc_base.merge(cibil_df, left_on='crn', right_on='hashed_phone', how = 'left')"
   ]
  },
  {
   "cell_type": "code",
   "execution_count": null,
   "metadata": {},
   "outputs": [],
   "source": []
  }
 ],
 "metadata": {
  "kernelspec": {
   "display_name": "base",
   "language": "python",
   "name": "python3"
  },
  "language_info": {
   "codemirror_mode": {
    "name": "ipython",
    "version": 3
   },
   "file_extension": ".py",
   "mimetype": "text/x-python",
   "name": "python",
   "nbconvert_exporter": "python",
   "pygments_lexer": "ipython3",
   "version": "3.11.5"
  }
 },
 "nbformat": 4,
 "nbformat_minor": 2
}
